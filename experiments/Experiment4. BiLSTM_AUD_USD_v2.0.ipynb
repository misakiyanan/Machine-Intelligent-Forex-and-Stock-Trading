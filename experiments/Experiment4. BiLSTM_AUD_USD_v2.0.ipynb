{
 "cells": [
  {
   "cell_type": "markdown",
   "metadata": {
    "id": "vAnbvZRq-82s"
   },
   "source": [
    "Implementation of BiLSTM Model on AUD_USD(H1) prediction of the close price 1 hour ahead based on data of previous 24 hours\n",
    "\n",
    "## 1. Data Preparation\n",
    "\n",
    "### 1.1 Read in data file"
   ]
  },
  {
   "cell_type": "code",
   "execution_count": 1,
   "metadata": {
    "colab": {
     "base_uri": "https://localhost:8080/"
    },
    "id": "hW_f99ou_A41",
    "outputId": "7cee9aad-b1c9-4d52-86f6-cb440c389b04"
   },
   "outputs": [],
   "source": [
    "## Mount google drive\n",
    "# from google.colab import drive\n",
    "# drive.mount('/content/drive')"
   ]
  },
  {
   "cell_type": "code",
   "execution_count": 2,
   "metadata": {
    "id": "Fc-Rd2qb-82y"
   },
   "outputs": [],
   "source": [
    "# import talib as ta\n",
    "\n",
    "import pandas as pd\n",
    "import numpy as np\n",
    "\n",
    "import seaborn as sns\n",
    "import matplotlib.pyplot as plt\n",
    "\n",
    "from sklearn.preprocessing import MinMaxScaler\n",
    "\n",
    "# from utils import series_to_supervised"
   ]
  },
  {
   "cell_type": "markdown",
   "metadata": {
    "id": "XMvkTVZB-828"
   },
   "source": [
    "## 2. Data Processing"
   ]
  },
  {
   "cell_type": "code",
   "execution_count": 3,
   "metadata": {
    "id": "DOSWIAulBRpc"
   },
   "outputs": [],
   "source": [
    "data = pd.read_csv('AUD_USD_H1_withindicators.csv')"
   ]
  },
  {
   "cell_type": "code",
   "execution_count": 4,
   "metadata": {
    "colab": {
     "base_uri": "https://localhost:8080/",
     "height": 439
    },
    "id": "86zz27H0DUkJ",
    "outputId": "834bf10c-03fc-41e1-ac28-eaf66adc89db"
   },
   "outputs": [
    {
     "data": {
      "text/html": [
       "<div>\n",
       "<style scoped>\n",
       "    .dataframe tbody tr th:only-of-type {\n",
       "        vertical-align: middle;\n",
       "    }\n",
       "\n",
       "    .dataframe tbody tr th {\n",
       "        vertical-align: top;\n",
       "    }\n",
       "\n",
       "    .dataframe thead th {\n",
       "        text-align: right;\n",
       "    }\n",
       "</style>\n",
       "<table border=\"1\" class=\"dataframe\">\n",
       "  <thead>\n",
       "    <tr style=\"text-align: right;\">\n",
       "      <th></th>\n",
       "      <th>open</th>\n",
       "      <th>high</th>\n",
       "      <th>low</th>\n",
       "      <th>close</th>\n",
       "      <th>upperband</th>\n",
       "      <th>middleband</th>\n",
       "      <th>lowerband</th>\n",
       "      <th>dema</th>\n",
       "      <th>ema</th>\n",
       "      <th>ht</th>\n",
       "      <th>...</th>\n",
       "      <th>cdlspinningtop</th>\n",
       "      <th>cdlstalledpattern</th>\n",
       "      <th>cdlsticksandwich</th>\n",
       "      <th>cdltakuri</th>\n",
       "      <th>cdltasukigap</th>\n",
       "      <th>cdlthrusting</th>\n",
       "      <th>cdltristar</th>\n",
       "      <th>cdlunique3river</th>\n",
       "      <th>cdlupsidegap2crows</th>\n",
       "      <th>cdlxsidegap3methods</th>\n",
       "    </tr>\n",
       "  </thead>\n",
       "  <tbody>\n",
       "    <tr>\n",
       "      <th>0</th>\n",
       "      <td>0.76660</td>\n",
       "      <td>0.76740</td>\n",
       "      <td>0.76620</td>\n",
       "      <td>0.76690</td>\n",
       "      <td>0.772125</td>\n",
       "      <td>0.767171</td>\n",
       "      <td>0.762217</td>\n",
       "      <td>0.765635</td>\n",
       "      <td>0.766812</td>\n",
       "      <td>0.766752</td>\n",
       "      <td>...</td>\n",
       "      <td>100</td>\n",
       "      <td>0</td>\n",
       "      <td>0</td>\n",
       "      <td>0</td>\n",
       "      <td>0</td>\n",
       "      <td>0</td>\n",
       "      <td>0</td>\n",
       "      <td>0</td>\n",
       "      <td>0</td>\n",
       "      <td>0</td>\n",
       "    </tr>\n",
       "    <tr>\n",
       "      <th>1</th>\n",
       "      <td>0.76700</td>\n",
       "      <td>0.76740</td>\n",
       "      <td>0.76680</td>\n",
       "      <td>0.76720</td>\n",
       "      <td>0.771836</td>\n",
       "      <td>0.767046</td>\n",
       "      <td>0.762255</td>\n",
       "      <td>0.765789</td>\n",
       "      <td>0.766843</td>\n",
       "      <td>0.766669</td>\n",
       "      <td>...</td>\n",
       "      <td>0</td>\n",
       "      <td>0</td>\n",
       "      <td>0</td>\n",
       "      <td>0</td>\n",
       "      <td>0</td>\n",
       "      <td>0</td>\n",
       "      <td>0</td>\n",
       "      <td>0</td>\n",
       "      <td>0</td>\n",
       "      <td>0</td>\n",
       "    </tr>\n",
       "    <tr>\n",
       "      <th>2</th>\n",
       "      <td>0.76720</td>\n",
       "      <td>0.76720</td>\n",
       "      <td>0.76630</td>\n",
       "      <td>0.76710</td>\n",
       "      <td>0.771420</td>\n",
       "      <td>0.766892</td>\n",
       "      <td>0.762363</td>\n",
       "      <td>0.765913</td>\n",
       "      <td>0.766864</td>\n",
       "      <td>0.766620</td>\n",
       "      <td>...</td>\n",
       "      <td>0</td>\n",
       "      <td>0</td>\n",
       "      <td>0</td>\n",
       "      <td>100</td>\n",
       "      <td>0</td>\n",
       "      <td>0</td>\n",
       "      <td>0</td>\n",
       "      <td>0</td>\n",
       "      <td>0</td>\n",
       "      <td>0</td>\n",
       "    </tr>\n",
       "    <tr>\n",
       "      <th>3</th>\n",
       "      <td>0.76720</td>\n",
       "      <td>0.76750</td>\n",
       "      <td>0.76620</td>\n",
       "      <td>0.76660</td>\n",
       "      <td>0.771182</td>\n",
       "      <td>0.766775</td>\n",
       "      <td>0.762368</td>\n",
       "      <td>0.765948</td>\n",
       "      <td>0.766843</td>\n",
       "      <td>0.766482</td>\n",
       "      <td>...</td>\n",
       "      <td>0</td>\n",
       "      <td>0</td>\n",
       "      <td>0</td>\n",
       "      <td>0</td>\n",
       "      <td>0</td>\n",
       "      <td>0</td>\n",
       "      <td>0</td>\n",
       "      <td>0</td>\n",
       "      <td>0</td>\n",
       "      <td>0</td>\n",
       "    </tr>\n",
       "    <tr>\n",
       "      <th>4</th>\n",
       "      <td>0.76660</td>\n",
       "      <td>0.76740</td>\n",
       "      <td>0.76630</td>\n",
       "      <td>0.76700</td>\n",
       "      <td>0.770581</td>\n",
       "      <td>0.766596</td>\n",
       "      <td>0.762610</td>\n",
       "      <td>0.766044</td>\n",
       "      <td>0.766855</td>\n",
       "      <td>0.766334</td>\n",
       "      <td>...</td>\n",
       "      <td>0</td>\n",
       "      <td>0</td>\n",
       "      <td>0</td>\n",
       "      <td>0</td>\n",
       "      <td>0</td>\n",
       "      <td>0</td>\n",
       "      <td>0</td>\n",
       "      <td>0</td>\n",
       "      <td>0</td>\n",
       "      <td>0</td>\n",
       "    </tr>\n",
       "    <tr>\n",
       "      <th>...</th>\n",
       "      <td>...</td>\n",
       "      <td>...</td>\n",
       "      <td>...</td>\n",
       "      <td>...</td>\n",
       "      <td>...</td>\n",
       "      <td>...</td>\n",
       "      <td>...</td>\n",
       "      <td>...</td>\n",
       "      <td>...</td>\n",
       "      <td>...</td>\n",
       "      <td>...</td>\n",
       "      <td>...</td>\n",
       "      <td>...</td>\n",
       "      <td>...</td>\n",
       "      <td>...</td>\n",
       "      <td>...</td>\n",
       "      <td>...</td>\n",
       "      <td>...</td>\n",
       "      <td>...</td>\n",
       "      <td>...</td>\n",
       "      <td>...</td>\n",
       "    </tr>\n",
       "    <tr>\n",
       "      <th>102554</th>\n",
       "      <td>0.77218</td>\n",
       "      <td>0.77353</td>\n",
       "      <td>0.77122</td>\n",
       "      <td>0.77186</td>\n",
       "      <td>0.792204</td>\n",
       "      <td>0.781209</td>\n",
       "      <td>0.770214</td>\n",
       "      <td>0.773963</td>\n",
       "      <td>0.780610</td>\n",
       "      <td>0.786190</td>\n",
       "      <td>...</td>\n",
       "      <td>-100</td>\n",
       "      <td>0</td>\n",
       "      <td>0</td>\n",
       "      <td>0</td>\n",
       "      <td>0</td>\n",
       "      <td>0</td>\n",
       "      <td>0</td>\n",
       "      <td>0</td>\n",
       "      <td>0</td>\n",
       "      <td>0</td>\n",
       "    </tr>\n",
       "    <tr>\n",
       "      <th>102555</th>\n",
       "      <td>0.77190</td>\n",
       "      <td>0.77235</td>\n",
       "      <td>0.77064</td>\n",
       "      <td>0.77088</td>\n",
       "      <td>0.791442</td>\n",
       "      <td>0.780397</td>\n",
       "      <td>0.769351</td>\n",
       "      <td>0.773000</td>\n",
       "      <td>0.779832</td>\n",
       "      <td>0.785098</td>\n",
       "      <td>...</td>\n",
       "      <td>0</td>\n",
       "      <td>0</td>\n",
       "      <td>0</td>\n",
       "      <td>0</td>\n",
       "      <td>0</td>\n",
       "      <td>0</td>\n",
       "      <td>0</td>\n",
       "      <td>0</td>\n",
       "      <td>0</td>\n",
       "      <td>0</td>\n",
       "    </tr>\n",
       "    <tr>\n",
       "      <th>102556</th>\n",
       "      <td>0.77092</td>\n",
       "      <td>0.77152</td>\n",
       "      <td>0.76924</td>\n",
       "      <td>0.76947</td>\n",
       "      <td>0.791248</td>\n",
       "      <td>0.779687</td>\n",
       "      <td>0.768125</td>\n",
       "      <td>0.771955</td>\n",
       "      <td>0.779003</td>\n",
       "      <td>0.784054</td>\n",
       "      <td>...</td>\n",
       "      <td>0</td>\n",
       "      <td>0</td>\n",
       "      <td>0</td>\n",
       "      <td>0</td>\n",
       "      <td>0</td>\n",
       "      <td>0</td>\n",
       "      <td>0</td>\n",
       "      <td>0</td>\n",
       "      <td>0</td>\n",
       "      <td>0</td>\n",
       "    </tr>\n",
       "    <tr>\n",
       "      <th>102557</th>\n",
       "      <td>0.76944</td>\n",
       "      <td>0.77106</td>\n",
       "      <td>0.76926</td>\n",
       "      <td>0.77038</td>\n",
       "      <td>0.790680</td>\n",
       "      <td>0.778986</td>\n",
       "      <td>0.767292</td>\n",
       "      <td>0.771195</td>\n",
       "      <td>0.778313</td>\n",
       "      <td>0.783281</td>\n",
       "      <td>...</td>\n",
       "      <td>0</td>\n",
       "      <td>0</td>\n",
       "      <td>0</td>\n",
       "      <td>0</td>\n",
       "      <td>0</td>\n",
       "      <td>0</td>\n",
       "      <td>0</td>\n",
       "      <td>0</td>\n",
       "      <td>0</td>\n",
       "      <td>0</td>\n",
       "    </tr>\n",
       "    <tr>\n",
       "      <th>102558</th>\n",
       "      <td>0.77120</td>\n",
       "      <td>0.77232</td>\n",
       "      <td>0.77082</td>\n",
       "      <td>0.77203</td>\n",
       "      <td>0.789766</td>\n",
       "      <td>0.778336</td>\n",
       "      <td>0.766906</td>\n",
       "      <td>0.770799</td>\n",
       "      <td>0.777810</td>\n",
       "      <td>0.782729</td>\n",
       "      <td>...</td>\n",
       "      <td>0</td>\n",
       "      <td>0</td>\n",
       "      <td>0</td>\n",
       "      <td>0</td>\n",
       "      <td>0</td>\n",
       "      <td>0</td>\n",
       "      <td>0</td>\n",
       "      <td>0</td>\n",
       "      <td>0</td>\n",
       "      <td>0</td>\n",
       "    </tr>\n",
       "  </tbody>\n",
       "</table>\n",
       "<p>102559 rows × 139 columns</p>\n",
       "</div>"
      ],
      "text/plain": [
       "           open     high      low    close  upperband  middleband  lowerband  \\\n",
       "0       0.76660  0.76740  0.76620  0.76690   0.772125    0.767171   0.762217   \n",
       "1       0.76700  0.76740  0.76680  0.76720   0.771836    0.767046   0.762255   \n",
       "2       0.76720  0.76720  0.76630  0.76710   0.771420    0.766892   0.762363   \n",
       "3       0.76720  0.76750  0.76620  0.76660   0.771182    0.766775   0.762368   \n",
       "4       0.76660  0.76740  0.76630  0.76700   0.770581    0.766596   0.762610   \n",
       "...         ...      ...      ...      ...        ...         ...        ...   \n",
       "102554  0.77218  0.77353  0.77122  0.77186   0.792204    0.781209   0.770214   \n",
       "102555  0.77190  0.77235  0.77064  0.77088   0.791442    0.780397   0.769351   \n",
       "102556  0.77092  0.77152  0.76924  0.76947   0.791248    0.779687   0.768125   \n",
       "102557  0.76944  0.77106  0.76926  0.77038   0.790680    0.778986   0.767292   \n",
       "102558  0.77120  0.77232  0.77082  0.77203   0.789766    0.778336   0.766906   \n",
       "\n",
       "            dema       ema        ht  ...  cdlspinningtop  cdlstalledpattern  \\\n",
       "0       0.765635  0.766812  0.766752  ...             100                  0   \n",
       "1       0.765789  0.766843  0.766669  ...               0                  0   \n",
       "2       0.765913  0.766864  0.766620  ...               0                  0   \n",
       "3       0.765948  0.766843  0.766482  ...               0                  0   \n",
       "4       0.766044  0.766855  0.766334  ...               0                  0   \n",
       "...          ...       ...       ...  ...             ...                ...   \n",
       "102554  0.773963  0.780610  0.786190  ...            -100                  0   \n",
       "102555  0.773000  0.779832  0.785098  ...               0                  0   \n",
       "102556  0.771955  0.779003  0.784054  ...               0                  0   \n",
       "102557  0.771195  0.778313  0.783281  ...               0                  0   \n",
       "102558  0.770799  0.777810  0.782729  ...               0                  0   \n",
       "\n",
       "        cdlsticksandwich  cdltakuri  cdltasukigap  cdlthrusting  cdltristar  \\\n",
       "0                      0          0             0             0           0   \n",
       "1                      0          0             0             0           0   \n",
       "2                      0        100             0             0           0   \n",
       "3                      0          0             0             0           0   \n",
       "4                      0          0             0             0           0   \n",
       "...                  ...        ...           ...           ...         ...   \n",
       "102554                 0          0             0             0           0   \n",
       "102555                 0          0             0             0           0   \n",
       "102556                 0          0             0             0           0   \n",
       "102557                 0          0             0             0           0   \n",
       "102558                 0          0             0             0           0   \n",
       "\n",
       "        cdlunique3river  cdlupsidegap2crows  cdlxsidegap3methods  \n",
       "0                     0                   0                    0  \n",
       "1                     0                   0                    0  \n",
       "2                     0                   0                    0  \n",
       "3                     0                   0                    0  \n",
       "4                     0                   0                    0  \n",
       "...                 ...                 ...                  ...  \n",
       "102554                0                   0                    0  \n",
       "102555                0                   0                    0  \n",
       "102556                0                   0                    0  \n",
       "102557                0                   0                    0  \n",
       "102558                0                   0                    0  \n",
       "\n",
       "[102559 rows x 139 columns]"
      ]
     },
     "execution_count": 4,
     "metadata": {},
     "output_type": "execute_result"
    }
   ],
   "source": [
    "data"
   ]
  },
  {
   "cell_type": "code",
   "execution_count": 5,
   "metadata": {
    "id": "0AXo8mnT-828"
   },
   "outputs": [],
   "source": [
    "train_split_frac = 0.8\n",
    "val_split_frac = 0.9\n",
    "\n",
    "train_split = int(train_split_frac * int(data.shape[0]))  ## end of train index (exclusive)\n",
    "val_split = int(val_split_frac * int(data.shape[0]))      ## end of val index (exclusive)"
   ]
  },
  {
   "cell_type": "code",
   "execution_count": 6,
   "metadata": {
    "id": "kuYA4KxQ-828"
   },
   "outputs": [],
   "source": [
    "step = 1\n",
    "past = 24\n",
    "future = 1\n",
    "learning_rate = 0.00001\n",
    "batch_size = 256\n",
    "epochs = 1000\n",
    "\n",
    "y = data[['close']]"
   ]
  },
  {
   "cell_type": "markdown",
   "metadata": {
    "id": "lzmHYict-828"
   },
   "source": [
    "### 2.1 Train - validation - test split"
   ]
  },
  {
   "cell_type": "code",
   "execution_count": 7,
   "metadata": {
    "id": "1J8FEQXe-828"
   },
   "outputs": [],
   "source": [
    "training_data = data[: train_split]\n",
    "validation_data = data[train_split: val_split]\n",
    "test_data = data[val_split:]"
   ]
  },
  {
   "cell_type": "code",
   "execution_count": 8,
   "metadata": {
    "colab": {
     "base_uri": "https://localhost:8080/"
    },
    "id": "O96fNXrp-829",
    "outputId": "fd0fd721-118f-447c-c7e7-911f39ff19aa"
   },
   "outputs": [
    {
     "name": "stdout",
     "output_type": "stream",
     "text": [
      "Shape of training_data:    (82047, 139)\n",
      "Shape of validation_data:  (10256, 139)\n",
      "Shape of test_data:        (10256, 139)\n"
     ]
    }
   ],
   "source": [
    "print('Shape of training_data:   ', training_data.shape)\n",
    "print('Shape of validation_data: ', validation_data.shape)\n",
    "print('Shape of test_data:       ', test_data.shape)"
   ]
  },
  {
   "cell_type": "markdown",
   "metadata": {
    "id": "0afYdtVc-829"
   },
   "source": [
    "### 2.2 Standardisation\n"
   ]
  },
  {
   "cell_type": "code",
   "execution_count": 9,
   "metadata": {
    "id": "rffWzdfO-829"
   },
   "outputs": [],
   "source": [
    "from sklearn.preprocessing import StandardScaler\n",
    "scaler = MinMaxScaler()"
   ]
  },
  {
   "cell_type": "code",
   "execution_count": 10,
   "metadata": {
    "id": "xlFwGJYa-829"
   },
   "outputs": [],
   "source": [
    "training_data = scaler.fit_transform(training_data)\n",
    "validation_data = scaler.transform(validation_data)\n",
    "test_data = scaler.transform(test_data)"
   ]
  },
  {
   "cell_type": "markdown",
   "metadata": {
    "id": "pXhSLQy1-829"
   },
   "source": [
    "### 2.3 Training dataset"
   ]
  },
  {
   "cell_type": "code",
   "execution_count": 11,
   "metadata": {
    "id": "hWPFGek2-829"
   },
   "outputs": [],
   "source": [
    "train_y_start = past + future\n",
    "train_y_end = train_y_start + train_split"
   ]
  },
  {
   "cell_type": "code",
   "execution_count": 12,
   "metadata": {
    "id": "8PdVpLjK-829"
   },
   "outputs": [],
   "source": [
    "x_train = training_data\n",
    "y_train = y.iloc[train_y_start: train_y_end].values"
   ]
  },
  {
   "cell_type": "code",
   "execution_count": 13,
   "metadata": {
    "id": "KcDMuAGc-82-"
   },
   "outputs": [],
   "source": [
    "sequence_length = int(past / step)"
   ]
  },
  {
   "cell_type": "code",
   "execution_count": 14,
   "metadata": {
    "id": "w0-rFyyF-82-"
   },
   "outputs": [],
   "source": [
    "import tensorflow as tf\n",
    "from tensorflow import keras\n",
    "\n",
    "dataset_train = keras.preprocessing.timeseries_dataset_from_array(\n",
    "    x_train,\n",
    "    y_train,\n",
    "    sequence_length=sequence_length,\n",
    "    sampling_rate=step,\n",
    "    batch_size=batch_size,\n",
    ")"
   ]
  },
  {
   "cell_type": "markdown",
   "metadata": {
    "id": "S5i9VngT-82-"
   },
   "source": [
    "### 2.4 Validation dataset"
   ]
  },
  {
   "cell_type": "code",
   "execution_count": 15,
   "metadata": {
    "id": "r4goKEZX-82-"
   },
   "outputs": [],
   "source": [
    "val_y_start = train_y_end\n",
    "val_y_end = train_y_start + val_split"
   ]
  },
  {
   "cell_type": "code",
   "execution_count": 16,
   "metadata": {
    "id": "sxSeqB5Y-82-"
   },
   "outputs": [],
   "source": [
    "x_val = validation_data\n",
    "y_val = y.iloc[val_y_start: val_y_end].values"
   ]
  },
  {
   "cell_type": "code",
   "execution_count": 17,
   "metadata": {
    "id": "rDbkebH8-82-"
   },
   "outputs": [],
   "source": [
    "dataset_val = keras.preprocessing.timeseries_dataset_from_array(\n",
    "    x_val,\n",
    "    y_val,\n",
    "    sequence_length=sequence_length,\n",
    "    sampling_rate=step,\n",
    "    batch_size=batch_size,\n",
    ")"
   ]
  },
  {
   "cell_type": "markdown",
   "metadata": {
    "id": "4Un7TFjj-82-"
   },
   "source": [
    "### 2.5 Test dataset"
   ]
  },
  {
   "cell_type": "code",
   "execution_count": 18,
   "metadata": {
    "id": "4U9uUo65-82_"
   },
   "outputs": [],
   "source": [
    "x_end = len(test_data) - past - future"
   ]
  },
  {
   "cell_type": "code",
   "execution_count": 19,
   "metadata": {
    "id": "PJioXbRV-82_"
   },
   "outputs": [],
   "source": [
    "test_y_start = val_y_end"
   ]
  },
  {
   "cell_type": "code",
   "execution_count": 20,
   "metadata": {
    "id": "DGb2K5Tl-82_"
   },
   "outputs": [],
   "source": [
    "x_test = test_data[: x_end]\n",
    "y_test = y.iloc[test_y_start: ].values"
   ]
  },
  {
   "cell_type": "code",
   "execution_count": 30,
   "metadata": {
    "id": "pmUdGQZj-82_"
   },
   "outputs": [],
   "source": [
    "dataset_test = keras.preprocessing.timeseries_dataset_from_array(\n",
    "    x_test,\n",
    "    y_test,\n",
    "    sequence_length=sequence_length,\n",
    "    sampling_rate=step,\n",
    "    batch_size=1,\n",
    ")"
   ]
  },
  {
   "cell_type": "markdown",
   "metadata": {
    "id": "nrHF6wiJ-82_"
   },
   "source": [
    "### 2.4 Input and output shape"
   ]
  },
  {
   "cell_type": "code",
   "execution_count": 22,
   "metadata": {
    "colab": {
     "base_uri": "https://localhost:8080/"
    },
    "id": "IcVDGwh1-82_",
    "outputId": "e4231d93-111a-42ff-9c8c-8fb381ae343b"
   },
   "outputs": [
    {
     "name": "stdout",
     "output_type": "stream",
     "text": [
      "Input shape: (256, 24, 139)\n",
      "Target shape: (256, 1)\n"
     ]
    }
   ],
   "source": [
    "for batch in dataset_train.take(1):\n",
    "    inputs, targets = batch\n",
    "\n",
    "print(\"Input shape:\", inputs.numpy().shape)\n",
    "print(\"Target shape:\", targets.numpy().shape)"
   ]
  },
  {
   "cell_type": "markdown",
   "metadata": {
    "id": "K39lUDyk-82_"
   },
   "source": [
    "## 3. Experiment1: BiLSTM model"
   ]
  },
  {
   "cell_type": "code",
   "execution_count": 23,
   "metadata": {
    "id": "fbXnfmZF-82_"
   },
   "outputs": [],
   "source": [
    "from tensorflow.keras.models import Sequential\n",
    "from tensorflow.keras import layers\n",
    "from tensorflow.keras.layers import Dense, LSTM\n",
    "import keras"
   ]
  },
  {
   "cell_type": "markdown",
   "metadata": {
    "id": "Yq1Y_tG_-83A"
   },
   "source": [
    "### 3.1 Training"
   ]
  },
  {
   "cell_type": "code",
   "execution_count": 24,
   "metadata": {
    "colab": {
     "base_uri": "https://localhost:8080/"
    },
    "id": "5j1en1TA-83A",
    "outputId": "e60625f0-37f9-4529-9439-7059f2985ed2"
   },
   "outputs": [
    {
     "name": "stdout",
     "output_type": "stream",
     "text": [
      "Model: \"model\"\n",
      "_________________________________________________________________\n",
      "Layer (type)                 Output Shape              Param #   \n",
      "=================================================================\n",
      "input_1 (InputLayer)         [(None, 24, 139)]         0         \n",
      "_________________________________________________________________\n",
      "bidirectional (Bidirectional (None, 24, 400)           544000    \n",
      "_________________________________________________________________\n",
      "bidirectional_1 (Bidirection (None, 400)               961600    \n",
      "_________________________________________________________________\n",
      "dense (Dense)                (None, 1)                 401       \n",
      "=================================================================\n",
      "Total params: 1,506,001\n",
      "Trainable params: 1,506,001\n",
      "Non-trainable params: 0\n",
      "_________________________________________________________________\n"
     ]
    }
   ],
   "source": [
    "inputs = keras.layers.Input(shape=(inputs.shape[1], inputs.shape[2]))\n",
    "outputs = layers.Bidirectional(layers.LSTM(200, return_sequences=True))(inputs)\n",
    "outputs = layers.Bidirectional(layers.LSTM(200))(outputs)\n",
    "outputs = keras.layers.Dense(1)(outputs)\n",
    "\n",
    "model1 = keras.Model(inputs=inputs, outputs=outputs)\n",
    "model1.compile(optimizer=keras.optimizers.Adam(learning_rate=learning_rate), loss=\"mse\")\n",
    "model1.summary()"
   ]
  },
  {
   "cell_type": "code",
   "execution_count": 25,
   "metadata": {
    "colab": {
     "base_uri": "https://localhost:8080/"
    },
    "id": "gwq9nQCX-83A",
    "outputId": "a1a325c0-60c5-4f4a-d595-c78fc0a58e5d"
   },
   "outputs": [
    {
     "name": "stdout",
     "output_type": "stream",
     "text": [
      "Epoch 1/1000\n",
      "321/321 [==============================] - 143s 432ms/step - loss: 0.0359 - val_loss: 5.7968e-04\n",
      "\n",
      "Epoch 00001: val_loss improved from inf to 0.00058, saving model to model_checkpoint_1.h5\n",
      "Epoch 2/1000\n",
      "321/321 [==============================] - 142s 441ms/step - loss: 5.2849e-04 - val_loss: 4.7495e-04\n",
      "\n",
      "Epoch 00002: val_loss improved from 0.00058 to 0.00047, saving model to model_checkpoint_1.h5\n",
      "Epoch 3/1000\n",
      "321/321 [==============================] - 150s 467ms/step - loss: 3.5791e-04 - val_loss: 2.8260e-04\n",
      "\n",
      "Epoch 00003: val_loss improved from 0.00047 to 0.00028, saving model to model_checkpoint_1.h5\n",
      "Epoch 4/1000\n",
      "321/321 [==============================] - 143s 445ms/step - loss: 2.4880e-04 - val_loss: 1.7548e-04\n",
      "\n",
      "Epoch 00004: val_loss improved from 0.00028 to 0.00018, saving model to model_checkpoint_1.h5\n",
      "Epoch 5/1000\n",
      "321/321 [==============================] - 137s 427ms/step - loss: 1.8296e-04 - val_loss: 1.0548e-04\n",
      "\n",
      "Epoch 00005: val_loss improved from 0.00018 to 0.00011, saving model to model_checkpoint_1.h5\n",
      "Epoch 6/1000\n",
      "321/321 [==============================] - 138s 429ms/step - loss: 1.3856e-04 - val_loss: 7.6294e-05\n",
      "\n",
      "Epoch 00006: val_loss improved from 0.00011 to 0.00008, saving model to model_checkpoint_1.h5\n",
      "Epoch 7/1000\n",
      "321/321 [==============================] - 138s 430ms/step - loss: 1.1236e-04 - val_loss: 6.4631e-05\n",
      "\n",
      "Epoch 00007: val_loss improved from 0.00008 to 0.00006, saving model to model_checkpoint_1.h5\n",
      "Epoch 8/1000\n",
      "321/321 [==============================] - 138s 429ms/step - loss: 9.6504e-05 - val_loss: 5.4103e-05\n",
      "\n",
      "Epoch 00008: val_loss improved from 0.00006 to 0.00005, saving model to model_checkpoint_1.h5\n",
      "Epoch 9/1000\n",
      "321/321 [==============================] - 138s 430ms/step - loss: 8.5411e-05 - val_loss: 4.5891e-05\n",
      "\n",
      "Epoch 00009: val_loss improved from 0.00005 to 0.00005, saving model to model_checkpoint_1.h5\n",
      "Epoch 10/1000\n",
      "321/321 [==============================] - 138s 429ms/step - loss: 7.5308e-05 - val_loss: 4.0646e-05\n",
      "\n",
      "Epoch 00010: val_loss improved from 0.00005 to 0.00004, saving model to model_checkpoint_1.h5\n",
      "Epoch 11/1000\n",
      "321/321 [==============================] - 139s 432ms/step - loss: 6.6085e-05 - val_loss: 3.9219e-05\n",
      "\n",
      "Epoch 00011: val_loss improved from 0.00004 to 0.00004, saving model to model_checkpoint_1.h5\n",
      "Epoch 12/1000\n",
      "321/321 [==============================] - 147s 457ms/step - loss: 5.8354e-05 - val_loss: 3.6236e-05\n",
      "\n",
      "Epoch 00012: val_loss improved from 0.00004 to 0.00004, saving model to model_checkpoint_1.h5\n",
      "Epoch 13/1000\n",
      "321/321 [==============================] - 141s 439ms/step - loss: 5.2898e-05 - val_loss: 4.0447e-05\n",
      "\n",
      "Epoch 00013: val_loss did not improve from 0.00004\n",
      "Epoch 14/1000\n",
      "321/321 [==============================] - 137s 427ms/step - loss: 6.2840e-05 - val_loss: 6.4339e-05\n",
      "\n",
      "Epoch 00014: val_loss did not improve from 0.00004\n",
      "Epoch 15/1000\n",
      "321/321 [==============================] - 136s 424ms/step - loss: 1.1591e-04 - val_loss: 8.5648e-05\n",
      "\n",
      "Epoch 00015: val_loss did not improve from 0.00004\n",
      "Epoch 16/1000\n",
      "321/321 [==============================] - 136s 425ms/step - loss: 1.4859e-04 - val_loss: 3.6648e-05\n",
      "\n",
      "Epoch 00016: val_loss did not improve from 0.00004\n",
      "Epoch 17/1000\n",
      "321/321 [==============================] - 141s 439ms/step - loss: 8.7082e-05 - val_loss: 2.0107e-05\n",
      "\n",
      "Epoch 00017: val_loss improved from 0.00004 to 0.00002, saving model to model_checkpoint_1.h5\n",
      "Epoch 18/1000\n",
      "321/321 [==============================] - 140s 437ms/step - loss: 6.6551e-05 - val_loss: 1.7601e-05\n",
      "\n",
      "Epoch 00018: val_loss improved from 0.00002 to 0.00002, saving model to model_checkpoint_1.h5\n",
      "Epoch 19/1000\n",
      "321/321 [==============================] - 149s 464ms/step - loss: 7.4220e-05 - val_loss: 1.7553e-05\n",
      "\n",
      "Epoch 00019: val_loss improved from 0.00002 to 0.00002, saving model to model_checkpoint_1.h5\n",
      "Epoch 20/1000\n",
      "321/321 [==============================] - 155s 482ms/step - loss: 9.8637e-05 - val_loss: 1.8621e-05\n",
      "\n",
      "Epoch 00020: val_loss did not improve from 0.00002\n",
      "Epoch 21/1000\n",
      "321/321 [==============================] - 139s 432ms/step - loss: 1.2915e-04 - val_loss: 1.7320e-05\n",
      "\n",
      "Epoch 00021: val_loss improved from 0.00002 to 0.00002, saving model to model_checkpoint_1.h5\n",
      "Epoch 22/1000\n",
      "321/321 [==============================] - 138s 429ms/step - loss: 1.5481e-04 - val_loss: 1.4639e-05\n",
      "\n",
      "Epoch 00022: val_loss improved from 0.00002 to 0.00001, saving model to model_checkpoint_1.h5\n",
      "Epoch 23/1000\n",
      "321/321 [==============================] - 137s 428ms/step - loss: 1.6538e-04 - val_loss: 1.3353e-05\n",
      "\n",
      "Epoch 00023: val_loss improved from 0.00001 to 0.00001, saving model to model_checkpoint_1.h5\n",
      "Epoch 24/1000\n",
      "321/321 [==============================] - 138s 430ms/step - loss: 1.5851e-04 - val_loss: 1.3912e-05\n",
      "\n",
      "Epoch 00024: val_loss did not improve from 0.00001\n",
      "Epoch 25/1000\n",
      "321/321 [==============================] - 140s 437ms/step - loss: 1.3995e-04 - val_loss: 1.6231e-05\n",
      "\n",
      "Epoch 00025: val_loss did not improve from 0.00001\n",
      "Epoch 26/1000\n",
      "321/321 [==============================] - 138s 430ms/step - loss: 1.1743e-04 - val_loss: 2.1625e-05\n",
      "\n",
      "Epoch 00026: val_loss did not improve from 0.00001\n",
      "Epoch 27/1000\n",
      "321/321 [==============================] - 137s 426ms/step - loss: 9.7302e-05 - val_loss: 3.3219e-05\n",
      "\n",
      "Epoch 00027: val_loss did not improve from 0.00001\n",
      "Epoch 28/1000\n",
      "321/321 [==============================] - 135s 421ms/step - loss: 8.7408e-05 - val_loss: 5.3380e-05\n",
      "\n",
      "Epoch 00028: val_loss did not improve from 0.00001\n",
      "Epoch 29/1000\n",
      "321/321 [==============================] - 135s 420ms/step - loss: 1.0168e-04 - val_loss: 8.2436e-05\n",
      "\n",
      "Epoch 00029: val_loss did not improve from 0.00001\n",
      "Epoch 30/1000\n",
      "321/321 [==============================] - 135s 421ms/step - loss: 1.2173e-04 - val_loss: 2.9959e-05\n",
      "\n",
      "Epoch 00030: val_loss did not improve from 0.00001\n",
      "Epoch 31/1000\n",
      "321/321 [==============================] - 138s 430ms/step - loss: 6.9451e-05 - val_loss: 1.0283e-05\n",
      "\n",
      "Epoch 00031: val_loss improved from 0.00001 to 0.00001, saving model to model_checkpoint_1.h5\n",
      "Epoch 32/1000\n",
      "321/321 [==============================] - 140s 437ms/step - loss: 8.1445e-05 - val_loss: 1.0130e-05\n",
      "\n",
      "Epoch 00032: val_loss improved from 0.00001 to 0.00001, saving model to model_checkpoint_1.h5\n",
      "Epoch 33/1000\n",
      "321/321 [==============================] - 135s 422ms/step - loss: 1.1536e-04 - val_loss: 9.4599e-06\n",
      "\n",
      "Epoch 00033: val_loss improved from 0.00001 to 0.00001, saving model to model_checkpoint_1.h5\n",
      "Epoch 34/1000\n",
      "321/321 [==============================] - 146s 454ms/step - loss: 1.4080e-04 - val_loss: 8.7363e-06\n",
      "\n",
      "Epoch 00034: val_loss improved from 0.00001 to 0.00001, saving model to model_checkpoint_1.h5\n",
      "Epoch 35/1000\n",
      "321/321 [==============================] - 151s 472ms/step - loss: 1.4176e-04 - val_loss: 9.5899e-06\n",
      "\n",
      "Epoch 00035: val_loss did not improve from 0.00001\n",
      "Epoch 36/1000\n",
      "321/321 [==============================] - 154s 478ms/step - loss: 1.2456e-04 - val_loss: 1.0197e-05\n",
      "\n",
      "Epoch 00036: val_loss did not improve from 0.00001\n",
      "Epoch 37/1000\n",
      "321/321 [==============================] - 148s 461ms/step - loss: 1.0778e-04 - val_loss: 9.2067e-06\n",
      "\n",
      "Epoch 00037: val_loss did not improve from 0.00001\n",
      "Epoch 38/1000\n",
      "321/321 [==============================] - 149s 466ms/step - loss: 1.0030e-04 - val_loss: 8.2400e-06\n",
      "\n",
      "Epoch 00038: val_loss improved from 0.00001 to 0.00001, saving model to model_checkpoint_1.h5\n",
      "Epoch 39/1000\n",
      "321/321 [==============================] - 151s 469ms/step - loss: 1.0848e-04 - val_loss: 1.0330e-05\n",
      "\n",
      "Epoch 00039: val_loss did not improve from 0.00001\n",
      "Epoch 40/1000\n",
      "321/321 [==============================] - 152s 474ms/step - loss: 1.4888e-04 - val_loss: 1.6551e-05\n",
      "\n",
      "Epoch 00040: val_loss did not improve from 0.00001\n",
      "Epoch 41/1000\n",
      "321/321 [==============================] - 149s 465ms/step - loss: 2.1844e-04 - val_loss: 8.5926e-06\n",
      "\n",
      "Epoch 00041: val_loss did not improve from 0.00001\n",
      "Epoch 42/1000\n",
      "321/321 [==============================] - 149s 463ms/step - loss: 1.8323e-04 - val_loss: 1.5542e-05\n",
      "\n",
      "Epoch 00042: val_loss did not improve from 0.00001\n",
      "Epoch 43/1000\n",
      "321/321 [==============================] - 146s 454ms/step - loss: 1.0892e-04 - val_loss: 1.2939e-05\n",
      "\n",
      "Epoch 00043: val_loss did not improve from 0.00001\n",
      "Epoch 44/1000\n",
      "321/321 [==============================] - 146s 456ms/step - loss: 8.1365e-05 - val_loss: 1.1184e-05\n",
      "\n",
      "Epoch 00044: val_loss did not improve from 0.00001\n",
      "Epoch 45/1000\n",
      "321/321 [==============================] - 147s 459ms/step - loss: 7.1896e-05 - val_loss: 8.9348e-06\n",
      "\n",
      "Epoch 00045: val_loss did not improve from 0.00001\n",
      "Epoch 46/1000\n",
      "321/321 [==============================] - 145s 453ms/step - loss: 6.8279e-05 - val_loss: 6.9138e-06\n",
      "\n",
      "Epoch 00046: val_loss improved from 0.00001 to 0.00001, saving model to model_checkpoint_1.h5\n",
      "Epoch 47/1000\n",
      "321/321 [==============================] - 143s 446ms/step - loss: 7.3247e-05 - val_loss: 8.6727e-06\n",
      "\n",
      "Epoch 00047: val_loss did not improve from 0.00001\n",
      "Epoch 48/1000\n",
      "321/321 [==============================] - 143s 446ms/step - loss: 1.0214e-04 - val_loss: 1.5395e-05\n",
      "\n",
      "Epoch 00048: val_loss did not improve from 0.00001\n",
      "Epoch 49/1000\n",
      "321/321 [==============================] - 147s 457ms/step - loss: 1.7616e-04 - val_loss: 8.6255e-06\n",
      "\n",
      "Epoch 00049: val_loss did not improve from 0.00001\n",
      "Epoch 50/1000\n",
      "321/321 [==============================] - 153s 476ms/step - loss: 2.2219e-04 - val_loss: 1.6244e-05\n",
      "\n",
      "Epoch 00050: val_loss did not improve from 0.00001\n",
      "Epoch 51/1000\n",
      "321/321 [==============================] - 150s 467ms/step - loss: 1.2510e-04 - val_loss: 1.5652e-05\n",
      "\n",
      "Epoch 00051: val_loss did not improve from 0.00001\n",
      "Epoch 52/1000\n",
      "321/321 [==============================] - 149s 463ms/step - loss: 7.8760e-05 - val_loss: 9.3831e-06\n",
      "\n",
      "Epoch 00052: val_loss did not improve from 0.00001\n",
      "Epoch 53/1000\n",
      "321/321 [==============================] - 150s 466ms/step - loss: 6.4475e-05 - val_loss: 8.1141e-06\n",
      "\n",
      "Epoch 00053: val_loss did not improve from 0.00001\n",
      "Epoch 54/1000\n",
      "321/321 [==============================] - 145s 452ms/step - loss: 6.0529e-05 - val_loss: 6.8491e-06\n",
      "\n",
      "Epoch 00054: val_loss improved from 0.00001 to 0.00001, saving model to model_checkpoint_1.h5\n",
      "Epoch 55/1000\n",
      "321/321 [==============================] - 150s 467ms/step - loss: 5.9477e-05 - val_loss: 5.8496e-06\n",
      "\n",
      "Epoch 00055: val_loss improved from 0.00001 to 0.00001, saving model to model_checkpoint_1.h5\n",
      "Epoch 56/1000\n",
      "321/321 [==============================] - 150s 467ms/step - loss: 6.5636e-05 - val_loss: 8.3584e-06\n",
      "\n",
      "Epoch 00056: val_loss did not improve from 0.00001\n",
      "Epoch 57/1000\n",
      "321/321 [==============================] - 147s 457ms/step - loss: 9.4864e-05 - val_loss: 1.4979e-05\n",
      "\n",
      "Epoch 00057: val_loss did not improve from 0.00001\n",
      "Epoch 58/1000\n",
      "321/321 [==============================] - 152s 475ms/step - loss: 1.5489e-04 - val_loss: 5.9004e-06\n",
      "\n",
      "Epoch 00058: val_loss did not improve from 0.00001\n",
      "Epoch 59/1000\n",
      "321/321 [==============================] - 145s 453ms/step - loss: 1.5079e-04 - val_loss: 1.2278e-05\n",
      "\n",
      "Epoch 00059: val_loss did not improve from 0.00001\n",
      "Epoch 60/1000\n",
      "321/321 [==============================] - 145s 452ms/step - loss: 8.0994e-05 - val_loss: 9.7053e-06\n",
      "\n",
      "Epoch 00060: val_loss did not improve from 0.00001\n",
      "Epoch 61/1000\n",
      "321/321 [==============================] - 144s 449ms/step - loss: 5.4302e-05 - val_loss: 7.9007e-06\n",
      "\n",
      "Epoch 00061: val_loss did not improve from 0.00001\n",
      "Epoch 62/1000\n",
      "321/321 [==============================] - 151s 469ms/step - loss: 4.5656e-05 - val_loss: 6.8132e-06\n",
      "\n",
      "Epoch 00062: val_loss did not improve from 0.00001\n",
      "Epoch 63/1000\n",
      "321/321 [==============================] - 146s 455ms/step - loss: 4.1603e-05 - val_loss: 5.3346e-06\n",
      "\n",
      "Epoch 00063: val_loss improved from 0.00001 to 0.00001, saving model to model_checkpoint_1.h5\n",
      "Epoch 64/1000\n",
      "321/321 [==============================] - 143s 445ms/step - loss: 3.9193e-05 - val_loss: 5.0476e-06\n",
      "\n",
      "Epoch 00064: val_loss improved from 0.00001 to 0.00001, saving model to model_checkpoint_1.h5\n",
      "Epoch 65/1000\n",
      "321/321 [==============================] - 143s 446ms/step - loss: 4.1932e-05 - val_loss: 5.0317e-06\n",
      "\n",
      "Epoch 00065: val_loss improved from 0.00001 to 0.00001, saving model to model_checkpoint_1.h5\n",
      "Epoch 66/1000\n",
      "321/321 [==============================] - 143s 447ms/step - loss: 4.4987e-05 - val_loss: 6.0796e-06\n",
      "\n",
      "Epoch 00066: val_loss did not improve from 0.00001\n",
      "Epoch 67/1000\n",
      "321/321 [==============================] - 143s 446ms/step - loss: 4.4613e-05 - val_loss: 8.5302e-06\n",
      "\n",
      "Epoch 00067: val_loss did not improve from 0.00001\n",
      "Epoch 68/1000\n",
      "321/321 [==============================] - 142s 442ms/step - loss: 4.1676e-05 - val_loss: 1.1162e-05\n",
      "\n",
      "Epoch 00068: val_loss did not improve from 0.00001\n",
      "Epoch 69/1000\n",
      "321/321 [==============================] - 143s 446ms/step - loss: 3.7219e-05 - val_loss: 1.3604e-05\n",
      "\n",
      "Epoch 00069: val_loss did not improve from 0.00001\n",
      "Epoch 70/1000\n",
      "321/321 [==============================] - 144s 449ms/step - loss: 3.3681e-05 - val_loss: 1.6376e-05\n",
      "\n",
      "Epoch 00070: val_loss did not improve from 0.00001\n",
      "Epoch 71/1000\n",
      "321/321 [==============================] - 143s 445ms/step - loss: 3.2817e-05 - val_loss: 2.0578e-05\n",
      "\n",
      "Epoch 00071: val_loss did not improve from 0.00001\n",
      "Epoch 72/1000\n",
      "321/321 [==============================] - 141s 439ms/step - loss: 3.7035e-05 - val_loss: 3.0312e-05\n",
      "\n",
      "Epoch 00072: val_loss did not improve from 0.00001\n",
      "Epoch 73/1000\n",
      "321/321 [==============================] - 143s 445ms/step - loss: 5.6578e-05 - val_loss: 2.5752e-05\n",
      "\n",
      "Epoch 00073: val_loss did not improve from 0.00001\n",
      "Epoch 74/1000\n",
      "321/321 [==============================] - 137s 427ms/step - loss: 4.9072e-05 - val_loss: 4.9202e-06\n",
      "\n",
      "Epoch 00074: val_loss improved from 0.00001 to 0.00000, saving model to model_checkpoint_1.h5\n",
      "Epoch 75/1000\n",
      "321/321 [==============================] - 140s 436ms/step - loss: 3.6608e-05 - val_loss: 5.1331e-06\n",
      "\n",
      "Epoch 00075: val_loss did not improve from 0.00000\n",
      "Epoch 76/1000\n",
      "321/321 [==============================] - 141s 438ms/step - loss: 5.0369e-05 - val_loss: 4.8681e-06\n",
      "\n",
      "Epoch 00076: val_loss improved from 0.00000 to 0.00000, saving model to model_checkpoint_1.h5\n",
      "Epoch 77/1000\n",
      "321/321 [==============================] - 142s 441ms/step - loss: 6.4278e-05 - val_loss: 4.1600e-06\n",
      "\n",
      "Epoch 00077: val_loss improved from 0.00000 to 0.00000, saving model to model_checkpoint_1.h5\n",
      "Epoch 78/1000\n",
      "321/321 [==============================] - 146s 454ms/step - loss: 6.6272e-05 - val_loss: 4.1919e-06\n",
      "\n",
      "Epoch 00078: val_loss did not improve from 0.00000\n",
      "Epoch 79/1000\n",
      "321/321 [==============================] - 136s 423ms/step - loss: 6.0769e-05 - val_loss: 4.1374e-06\n",
      "\n",
      "Epoch 00079: val_loss improved from 0.00000 to 0.00000, saving model to model_checkpoint_1.h5\n",
      "Epoch 80/1000\n",
      "321/321 [==============================] - 136s 423ms/step - loss: 5.7558e-05 - val_loss: 4.2026e-06\n",
      "\n",
      "Epoch 00080: val_loss did not improve from 0.00000\n",
      "Epoch 81/1000\n",
      "321/321 [==============================] - 136s 425ms/step - loss: 6.3340e-05 - val_loss: 6.1407e-06\n",
      "\n",
      "Epoch 00081: val_loss did not improve from 0.00000\n",
      "Epoch 82/1000\n",
      "321/321 [==============================] - 136s 424ms/step - loss: 8.5387e-05 - val_loss: 5.9897e-06\n",
      "\n",
      "Epoch 00082: val_loss did not improve from 0.00000\n",
      "Epoch 83/1000\n",
      "321/321 [==============================] - 136s 425ms/step - loss: 1.0331e-04 - val_loss: 6.1046e-06\n",
      "\n",
      "Epoch 00083: val_loss did not improve from 0.00000\n",
      "Epoch 84/1000\n",
      "321/321 [==============================] - 139s 432ms/step - loss: 7.1241e-05 - val_loss: 8.7853e-06\n",
      "\n",
      "Epoch 00084: val_loss did not improve from 0.00000\n",
      "Epoch 85/1000\n",
      "321/321 [==============================] - 144s 448ms/step - loss: 4.3756e-05 - val_loss: 7.7270e-06\n",
      "\n",
      "Epoch 00085: val_loss did not improve from 0.00000\n",
      "Epoch 86/1000\n",
      "321/321 [==============================] - 142s 442ms/step - loss: 3.4453e-05 - val_loss: 5.2790e-06\n",
      "\n",
      "Epoch 00086: val_loss did not improve from 0.00000\n",
      "Epoch 87/1000\n",
      "321/321 [==============================] - 138s 430ms/step - loss: 3.1703e-05 - val_loss: 3.9163e-06\n",
      "\n",
      "Epoch 00087: val_loss improved from 0.00000 to 0.00000, saving model to model_checkpoint_1.h5\n",
      "Epoch 88/1000\n",
      "321/321 [==============================] - 145s 450ms/step - loss: 3.7460e-05 - val_loss: 7.2227e-06\n",
      "\n",
      "Epoch 00088: val_loss did not improve from 0.00000\n",
      "Epoch 89/1000\n",
      "321/321 [==============================] - 142s 442ms/step - loss: 6.5281e-05 - val_loss: 1.3275e-05\n",
      "\n",
      "Epoch 00089: val_loss did not improve from 0.00000\n",
      "Epoch 90/1000\n"
     ]
    },
    {
     "name": "stdout",
     "output_type": "stream",
     "text": [
      "321/321 [==============================] - 137s 428ms/step - loss: 1.2290e-04 - val_loss: 4.4266e-06\n",
      "\n",
      "Epoch 00090: val_loss did not improve from 0.00000\n",
      "Epoch 91/1000\n",
      "321/321 [==============================] - 137s 425ms/step - loss: 1.1389e-04 - val_loss: 9.5810e-06\n",
      "\n",
      "Epoch 00091: val_loss did not improve from 0.00000\n",
      "Epoch 92/1000\n",
      "321/321 [==============================] - 137s 427ms/step - loss: 6.1255e-05 - val_loss: 6.4188e-06\n",
      "\n",
      "Epoch 00092: val_loss did not improve from 0.00000\n",
      "Epoch 93/1000\n",
      "321/321 [==============================] - 137s 427ms/step - loss: 4.4915e-05 - val_loss: 5.2274e-06\n",
      "\n",
      "Epoch 00093: val_loss did not improve from 0.00000\n",
      "Epoch 94/1000\n",
      "321/321 [==============================] - 138s 429ms/step - loss: 4.1112e-05 - val_loss: 4.6794e-06\n",
      "\n",
      "Epoch 00094: val_loss did not improve from 0.00000\n",
      "Epoch 95/1000\n",
      "321/321 [==============================] - 139s 434ms/step - loss: 4.0372e-05 - val_loss: 3.6878e-06\n",
      "\n",
      "Epoch 00095: val_loss improved from 0.00000 to 0.00000, saving model to model_checkpoint_1.h5\n",
      "Epoch 96/1000\n",
      "321/321 [==============================] - 140s 436ms/step - loss: 4.5109e-05 - val_loss: 6.0565e-06\n",
      "\n",
      "Epoch 00096: val_loss did not improve from 0.00000\n",
      "Epoch 97/1000\n",
      "321/321 [==============================] - 137s 428ms/step - loss: 6.9804e-05 - val_loss: 7.6177e-06\n",
      "\n",
      "Epoch 00097: val_loss did not improve from 0.00000\n",
      "Epoch 98/1000\n",
      "321/321 [==============================] - 143s 447ms/step - loss: 1.0246e-04 - val_loss: 6.1171e-06\n",
      "\n",
      "Epoch 00098: val_loss did not improve from 0.00000\n",
      "Epoch 99/1000\n",
      "321/321 [==============================] - 138s 430ms/step - loss: 6.7156e-05 - val_loss: 7.2526e-06\n",
      "\n",
      "Epoch 00099: val_loss did not improve from 0.00000\n",
      "Epoch 100/1000\n",
      "321/321 [==============================] - 138s 431ms/step - loss: 4.2830e-05 - val_loss: 5.9132e-06\n",
      "\n",
      "Epoch 00100: val_loss did not improve from 0.00000\n",
      "Epoch 101/1000\n",
      "321/321 [==============================] - 138s 429ms/step - loss: 3.5437e-05 - val_loss: 5.0765e-06\n",
      "\n",
      "Epoch 00101: val_loss did not improve from 0.00000\n",
      "Epoch 102/1000\n",
      "321/321 [==============================] - 138s 429ms/step - loss: 3.2551e-05 - val_loss: 3.5915e-06\n",
      "\n",
      "Epoch 00102: val_loss improved from 0.00000 to 0.00000, saving model to model_checkpoint_1.h5\n",
      "Epoch 103/1000\n",
      "321/321 [==============================] - 138s 429ms/step - loss: 3.3808e-05 - val_loss: 5.0714e-06\n",
      "\n",
      "Epoch 00103: val_loss did not improve from 0.00000\n",
      "Epoch 104/1000\n",
      "321/321 [==============================] - 138s 429ms/step - loss: 5.0527e-05 - val_loss: 9.6242e-06\n",
      "\n",
      "Epoch 00104: val_loss did not improve from 0.00000\n",
      "Epoch 105/1000\n",
      "321/321 [==============================] - 138s 431ms/step - loss: 8.8947e-05 - val_loss: 3.9946e-06\n",
      "\n",
      "Epoch 00105: val_loss did not improve from 0.00000\n",
      "Epoch 106/1000\n",
      "321/321 [==============================] - 137s 428ms/step - loss: 8.4665e-05 - val_loss: 7.7489e-06\n",
      "\n",
      "Epoch 00106: val_loss did not improve from 0.00000\n",
      "Epoch 107/1000\n",
      "321/321 [==============================] - 138s 430ms/step - loss: 4.6000e-05 - val_loss: 5.8746e-06\n",
      "\n",
      "Epoch 00107: val_loss did not improve from 0.00000\n",
      "Epoch 108/1000\n",
      "321/321 [==============================] - 147s 458ms/step - loss: 3.3481e-05 - val_loss: 5.2389e-06\n",
      "\n",
      "Epoch 00108: val_loss did not improve from 0.00000\n",
      "Epoch 109/1000\n",
      "321/321 [==============================] - 149s 463ms/step - loss: 2.9400e-05 - val_loss: 4.3704e-06\n",
      "\n",
      "Epoch 00109: val_loss did not improve from 0.00000\n",
      "Epoch 110/1000\n",
      "321/321 [==============================] - 139s 433ms/step - loss: 2.7316e-05 - val_loss: 3.3409e-06\n",
      "\n",
      "Epoch 00110: val_loss improved from 0.00000 to 0.00000, saving model to model_checkpoint_1.h5\n",
      "Epoch 111/1000\n",
      "321/321 [==============================] - 138s 430ms/step - loss: 2.9569e-05 - val_loss: 4.8820e-06\n",
      "\n",
      "Epoch 00111: val_loss did not improve from 0.00000\n",
      "Epoch 112/1000\n",
      "321/321 [==============================] - 145s 452ms/step - loss: 4.4563e-05 - val_loss: 7.0259e-06\n",
      "\n",
      "Epoch 00112: val_loss did not improve from 0.00000\n",
      "Epoch 113/1000\n",
      "321/321 [==============================] - 146s 454ms/step - loss: 7.4587e-05 - val_loss: 4.0766e-06\n",
      "\n",
      "Epoch 00113: val_loss did not improve from 0.00000\n",
      "Epoch 114/1000\n",
      "321/321 [==============================] - 140s 435ms/step - loss: 8.5298e-05 - val_loss: 7.0579e-06\n",
      "\n",
      "Epoch 00114: val_loss did not improve from 0.00000\n",
      "Epoch 115/1000\n",
      "321/321 [==============================] - 147s 458ms/step - loss: 4.5945e-05 - val_loss: 5.7768e-06\n",
      "\n",
      "Epoch 00115: val_loss did not improve from 0.00000\n",
      "Epoch 116/1000\n",
      "321/321 [==============================] - 144s 449ms/step - loss: 3.0673e-05 - val_loss: 4.9372e-06\n",
      "\n",
      "Epoch 00116: val_loss did not improve from 0.00000\n",
      "Epoch 117/1000\n",
      "321/321 [==============================] - 143s 445ms/step - loss: 2.6042e-05 - val_loss: 4.5115e-06\n",
      "\n",
      "Epoch 00117: val_loss did not improve from 0.00000\n",
      "Epoch 118/1000\n",
      "321/321 [==============================] - 144s 447ms/step - loss: 2.3620e-05 - val_loss: 3.2856e-06\n",
      "\n",
      "Epoch 00118: val_loss improved from 0.00000 to 0.00000, saving model to model_checkpoint_1.h5\n",
      "Epoch 119/1000\n",
      "321/321 [==============================] - 142s 443ms/step - loss: 2.2963e-05 - val_loss: 3.6311e-06\n",
      "\n",
      "Epoch 00119: val_loss did not improve from 0.00000\n",
      "Epoch 120/1000\n",
      "321/321 [==============================] - 144s 450ms/step - loss: 2.8831e-05 - val_loss: 3.8917e-06\n",
      "\n",
      "Epoch 00120: val_loss did not improve from 0.00000\n",
      "Epoch 121/1000\n",
      "321/321 [==============================] - 146s 455ms/step - loss: 4.0903e-05 - val_loss: 3.6255e-06\n",
      "\n",
      "Epoch 00121: val_loss did not improve from 0.00000\n",
      "Epoch 122/1000\n",
      "321/321 [==============================] - 144s 449ms/step - loss: 5.3234e-05 - val_loss: 4.1414e-06\n",
      "\n",
      "Epoch 00122: val_loss did not improve from 0.00000\n",
      "Epoch 123/1000\n",
      "321/321 [==============================] - 140s 435ms/step - loss: 5.9709e-05 - val_loss: 3.6301e-06\n",
      "\n",
      "Epoch 00123: val_loss did not improve from 0.00000\n",
      "Epoch 124/1000\n",
      "321/321 [==============================] - 142s 443ms/step - loss: 4.8889e-05 - val_loss: 6.6703e-06\n",
      "\n",
      "Epoch 00124: val_loss did not improve from 0.00000\n",
      "Epoch 125/1000\n",
      "321/321 [==============================] - 145s 453ms/step - loss: 2.8968e-05 - val_loss: 7.4580e-06\n",
      "\n",
      "Epoch 00125: val_loss did not improve from 0.00000\n",
      "Epoch 126/1000\n",
      "321/321 [==============================] - 146s 455ms/step - loss: 1.9822e-05 - val_loss: 7.0054e-06\n",
      "\n",
      "Epoch 00126: val_loss did not improve from 0.00000\n",
      "Epoch 127/1000\n",
      "321/321 [==============================] - 147s 458ms/step - loss: 1.6253e-05 - val_loss: 5.7801e-06\n",
      "\n",
      "Epoch 00127: val_loss did not improve from 0.00000\n",
      "Epoch 128/1000\n",
      "321/321 [==============================] - 140s 435ms/step - loss: 1.4368e-05 - val_loss: 3.8111e-06\n",
      "\n",
      "Epoch 00128: val_loss did not improve from 0.00000\n"
     ]
    }
   ],
   "source": [
    "path_checkpoint1 = \"model_checkpoint_1.h5\"\n",
    "es_callback = keras.callbacks.EarlyStopping(monitor=\"val_loss\", min_delta=0, patience=10)\n",
    "\n",
    "modelckpt_callback = keras.callbacks.ModelCheckpoint(\n",
    "    monitor=\"val_loss\",\n",
    "    filepath=path_checkpoint1,\n",
    "    verbose=1,\n",
    "    save_weights_only=True,\n",
    "    save_best_only=True,\n",
    ")\n",
    "\n",
    "history = model1.fit(\n",
    "    dataset_train,\n",
    "    epochs=epochs,\n",
    "    validation_data=dataset_val,\n",
    "    callbacks=[es_callback, modelckpt_callback],\n",
    ")"
   ]
  },
  {
   "cell_type": "markdown",
   "metadata": {
    "id": "0GrlUegR-83A"
   },
   "source": [
    "### 3.2 Train and validation losses"
   ]
  },
  {
   "cell_type": "code",
   "execution_count": 26,
   "metadata": {
    "id": "UBeRFY2a-83A"
   },
   "outputs": [
    {
     "data": {
      "image/png": "[encoded data removed]",
      "text/plain": [
       "<Figure size 432x288 with 1 Axes>"
      ]
     },
     "metadata": {
      "needs_background": "light"
     },
     "output_type": "display_data"
    }
   ],
   "source": [
    "train_loss_1 = history.history['loss']\n",
    "val_loss_1 = history.history['val_loss']\n",
    "plt.plot(train_loss_1, label='train loss', c='orange')\n",
    "plt.plot(val_loss_1, label='val loss', c='blue')\n",
    "plt.legend(loc='best')\n",
    "plt.show()"
   ]
  },
  {
   "cell_type": "markdown",
   "metadata": {
    "id": "1DvJQGhv-83B"
   },
   "source": [
    "### 3.3 Prediction on test dataset"
   ]
  },
  {
   "cell_type": "code",
   "execution_count": 31,
   "metadata": {
    "id": "MWyRPkJ3-83B"
   },
   "outputs": [],
   "source": [
    "test_prediction_1 = []\n",
    "test_actual = []\n",
    "for x, y in dataset_test:\n",
    "    test_actual.append(y[0][0])\n",
    "    predict_res = model1.predict(x)[0][0]\n",
    "    test_prediction_1.append(predict_res)\n",
    "test_prediction_1 = np.array(test_prediction_1)\n",
    "test_actual = np.array(test_actual)"
   ]
  },
  {
   "cell_type": "markdown",
   "metadata": {
    "id": "VxhU7Wqq-83B"
   },
   "source": [
    "### 3.4 Evaluation"
   ]
  },
  {
   "cell_type": "code",
   "execution_count": 32,
   "metadata": {
    "id": "K9u7_k4f-83B"
   },
   "outputs": [
    {
     "name": "stdout",
     "output_type": "stream",
     "text": [
      "result evaluation\n",
      "RMSE:  0.018008492713270922\n",
      "MAPE:  0.020658885557900415\n",
      "MAE:   0.014381844748139007\n"
     ]
    }
   ],
   "source": [
    "from sklearn.metrics import mean_absolute_error, mean_squared_error, mean_absolute_percentage_error\n",
    "\n",
    "rmse1 = mean_squared_error(test_actual, test_prediction_1, squared=False)\n",
    "mape1 = mean_absolute_percentage_error(test_actual, test_prediction_1)\n",
    "mae1 = mean_absolute_error(test_actual, test_prediction_1)\n",
    "\n",
    "print('result evaluation')\n",
    "print('RMSE: ', rmse1)\n",
    "print('MAPE: ', mape1)\n",
    "print('MAE:  ', mae1)"
   ]
  },
  {
   "cell_type": "code",
   "execution_count": 34,
   "metadata": {
    "id": "aqXYrbXr-83B",
    "scrolled": true
   },
   "outputs": [
    {
     "data": {
      "image/png": "[encoded data removed]",
      "text/plain": [
       "<Figure size 1440x432 with 1 Axes>"
      ]
     },
     "metadata": {
      "needs_background": "light"
     },
     "output_type": "display_data"
    }
   ],
   "source": [
    "x_axis = [x for x in range(test_actual.shape[0])]\n",
    "plt.figure(figsize=(20,6))\n",
    "\n",
    "sns.lineplot(x=x_axis, y=test_actual, label='actual close price', linewidth=1)\n",
    "sns.lineplot(x=x_axis, y=test_prediction_1, label='predicted close price', linewidth=1)\n",
    "plt.legend()\n",
    "plt.show()"
   ]
  },
  {
   "cell_type": "code",
   "execution_count": null,
   "metadata": {
    "id": "WAUjwyK_-83B"
   },
   "outputs": [],
   "source": []
  },
  {
   "cell_type": "code",
   "execution_count": null,
   "metadata": {},
   "outputs": [],
   "source": []
  }
 ],
 "metadata": {
  "colab": {
   "name": " Experiment3_AUD_USD.ipynb",
   "provenance": []
  },
  "kernelspec": {
   "display_name": "Python 3",
   "language": "python",
   "name": "python3"
  },
  "language_info": {
   "codemirror_mode": {
    "name": "ipython",
    "version": 3
   },
   "file_extension": ".py",
   "mimetype": "text/x-python",
   "name": "python",
   "nbconvert_exporter": "python",
   "pygments_lexer": "ipython3",
   "version": "3.8.3"
  },
  "toc": {
   "base_numbering": 1,
   "nav_menu": {},
   "number_sections": false,
   "sideBar": true,
   "skip_h1_title": false,
   "title_cell": "Table of Contents",
   "title_sidebar": "Contents",
   "toc_cell": false,
   "toc_position": {},
   "toc_section_display": true,
   "toc_window_display": true
  }
 },
 "nbformat": 4,
 "nbformat_minor": 1
}
