{
 "cells": [
  {
   "cell_type": "markdown",
   "metadata": {},
   "source": [
    "Implementation of LSTM Model on EUR_GBP(H1) prediction of the close price 1 hour ahead based on data of previous 10 hours\n",
    "\n",
    "## 1. Data Preparation\n",
    "\n",
    "### 1.1 Read in data file"
   ]
  },
  {
   "cell_type": "code",
   "execution_count": 1,
   "metadata": {},
   "outputs": [],
   "source": [
    "import talib as ta\n",
    "\n",
    "import pandas as pd\n",
    "import numpy as np\n",
    "\n",
    "import seaborn as sns\n",
    "import matplotlib.pyplot as plt\n",
    "\n",
    "from sklearn.preprocessing import MinMaxScaler\n",
    "\n",
    "from utils import series_to_supervised"
   ]
  },
  {
   "cell_type": "code",
   "execution_count": 2,
   "metadata": {
    "scrolled": true
   },
   "outputs": [
    {
     "data": {
      "text/html": [
       "<div>\n",
       "<style scoped>\n",
       "    .dataframe tbody tr th:only-of-type {\n",
       "        vertical-align: middle;\n",
       "    }\n",
       "\n",
       "    .dataframe tbody tr th {\n",
       "        vertical-align: top;\n",
       "    }\n",
       "\n",
       "    .dataframe thead th {\n",
       "        text-align: right;\n",
       "    }\n",
       "</style>\n",
       "<table border=\"1\" class=\"dataframe\">\n",
       "  <thead>\n",
       "    <tr style=\"text-align: right;\">\n",
       "      <th></th>\n",
       "      <th>datetime</th>\n",
       "      <th>open</th>\n",
       "      <th>high</th>\n",
       "      <th>low</th>\n",
       "      <th>close</th>\n",
       "    </tr>\n",
       "  </thead>\n",
       "  <tbody>\n",
       "    <tr>\n",
       "      <th>0</th>\n",
       "      <td>2005-01-02T18:00:00.000000000Z</td>\n",
       "      <td>0.70675</td>\n",
       "      <td>0.70675</td>\n",
       "      <td>0.70655</td>\n",
       "      <td>0.70655</td>\n",
       "    </tr>\n",
       "    <tr>\n",
       "      <th>1</th>\n",
       "      <td>2005-01-02T19:00:00.000000000Z</td>\n",
       "      <td>0.70665</td>\n",
       "      <td>0.70685</td>\n",
       "      <td>0.70595</td>\n",
       "      <td>0.70615</td>\n",
       "    </tr>\n",
       "    <tr>\n",
       "      <th>2</th>\n",
       "      <td>2005-01-02T20:00:00.000000000Z</td>\n",
       "      <td>0.70615</td>\n",
       "      <td>0.70665</td>\n",
       "      <td>0.70535</td>\n",
       "      <td>0.70555</td>\n",
       "    </tr>\n",
       "    <tr>\n",
       "      <th>3</th>\n",
       "      <td>2005-01-02T21:00:00.000000000Z</td>\n",
       "      <td>0.70555</td>\n",
       "      <td>0.70610</td>\n",
       "      <td>0.70545</td>\n",
       "      <td>0.70590</td>\n",
       "    </tr>\n",
       "    <tr>\n",
       "      <th>4</th>\n",
       "      <td>2005-01-02T22:00:00.000000000Z</td>\n",
       "      <td>0.70600</td>\n",
       "      <td>0.70680</td>\n",
       "      <td>0.70600</td>\n",
       "      <td>0.70670</td>\n",
       "    </tr>\n",
       "    <tr>\n",
       "      <th>...</th>\n",
       "      <td>...</td>\n",
       "      <td>...</td>\n",
       "      <td>...</td>\n",
       "      <td>...</td>\n",
       "      <td>...</td>\n",
       "    </tr>\n",
       "    <tr>\n",
       "      <th>103012</th>\n",
       "      <td>2021-02-26T18:00:00.000000000Z</td>\n",
       "      <td>0.86624</td>\n",
       "      <td>0.86666</td>\n",
       "      <td>0.86596</td>\n",
       "      <td>0.86620</td>\n",
       "    </tr>\n",
       "    <tr>\n",
       "      <th>103013</th>\n",
       "      <td>2021-02-26T19:00:00.000000000Z</td>\n",
       "      <td>0.86622</td>\n",
       "      <td>0.86668</td>\n",
       "      <td>0.86584</td>\n",
       "      <td>0.86610</td>\n",
       "    </tr>\n",
       "    <tr>\n",
       "      <th>103014</th>\n",
       "      <td>2021-02-26T20:00:00.000000000Z</td>\n",
       "      <td>0.86612</td>\n",
       "      <td>0.86685</td>\n",
       "      <td>0.86592</td>\n",
       "      <td>0.86623</td>\n",
       "    </tr>\n",
       "    <tr>\n",
       "      <th>103015</th>\n",
       "      <td>2021-02-26T21:00:00.000000000Z</td>\n",
       "      <td>0.86626</td>\n",
       "      <td>0.86728</td>\n",
       "      <td>0.86566</td>\n",
       "      <td>0.86690</td>\n",
       "    </tr>\n",
       "    <tr>\n",
       "      <th>103016</th>\n",
       "      <td>2021-02-28T22:00:00.000000000Z</td>\n",
       "      <td>0.86617</td>\n",
       "      <td>0.86671</td>\n",
       "      <td>0.86591</td>\n",
       "      <td>0.86650</td>\n",
       "    </tr>\n",
       "  </tbody>\n",
       "</table>\n",
       "<p>103017 rows × 5 columns</p>\n",
       "</div>"
      ],
      "text/plain": [
       "                              datetime     open     high      low    close\n",
       "0       2005-01-02T18:00:00.000000000Z  0.70675  0.70675  0.70655  0.70655\n",
       "1       2005-01-02T19:00:00.000000000Z  0.70665  0.70685  0.70595  0.70615\n",
       "2       2005-01-02T20:00:00.000000000Z  0.70615  0.70665  0.70535  0.70555\n",
       "3       2005-01-02T21:00:00.000000000Z  0.70555  0.70610  0.70545  0.70590\n",
       "4       2005-01-02T22:00:00.000000000Z  0.70600  0.70680  0.70600  0.70670\n",
       "...                                ...      ...      ...      ...      ...\n",
       "103012  2021-02-26T18:00:00.000000000Z  0.86624  0.86666  0.86596  0.86620\n",
       "103013  2021-02-26T19:00:00.000000000Z  0.86622  0.86668  0.86584  0.86610\n",
       "103014  2021-02-26T20:00:00.000000000Z  0.86612  0.86685  0.86592  0.86623\n",
       "103015  2021-02-26T21:00:00.000000000Z  0.86626  0.86728  0.86566  0.86690\n",
       "103016  2021-02-28T22:00:00.000000000Z  0.86617  0.86671  0.86591  0.86650\n",
       "\n",
       "[103017 rows x 5 columns]"
      ]
     },
     "execution_count": 2,
     "metadata": {},
     "output_type": "execute_result"
    }
   ],
   "source": [
    "data = pd.read_csv('../data/EUR_GBP_H1.csv')\n",
    "data"
   ]
  },
  {
   "cell_type": "markdown",
   "metadata": {},
   "source": [
    "### 1.2 Datetime formatting"
   ]
  },
  {
   "cell_type": "code",
   "execution_count": 3,
   "metadata": {},
   "outputs": [
    {
     "data": {
      "text/html": [
       "<div>\n",
       "<style scoped>\n",
       "    .dataframe tbody tr th:only-of-type {\n",
       "        vertical-align: middle;\n",
       "    }\n",
       "\n",
       "    .dataframe tbody tr th {\n",
       "        vertical-align: top;\n",
       "    }\n",
       "\n",
       "    .dataframe thead th {\n",
       "        text-align: right;\n",
       "    }\n",
       "</style>\n",
       "<table border=\"1\" class=\"dataframe\">\n",
       "  <thead>\n",
       "    <tr style=\"text-align: right;\">\n",
       "      <th></th>\n",
       "      <th>open</th>\n",
       "      <th>high</th>\n",
       "      <th>low</th>\n",
       "      <th>close</th>\n",
       "    </tr>\n",
       "    <tr>\n",
       "      <th>datetime</th>\n",
       "      <th></th>\n",
       "      <th></th>\n",
       "      <th></th>\n",
       "      <th></th>\n",
       "    </tr>\n",
       "  </thead>\n",
       "  <tbody>\n",
       "    <tr>\n",
       "      <th>2005-01-02</th>\n",
       "      <td>0.70675</td>\n",
       "      <td>0.70675</td>\n",
       "      <td>0.70655</td>\n",
       "      <td>0.70655</td>\n",
       "    </tr>\n",
       "    <tr>\n",
       "      <th>2005-01-02</th>\n",
       "      <td>0.70665</td>\n",
       "      <td>0.70685</td>\n",
       "      <td>0.70595</td>\n",
       "      <td>0.70615</td>\n",
       "    </tr>\n",
       "    <tr>\n",
       "      <th>2005-01-02</th>\n",
       "      <td>0.70615</td>\n",
       "      <td>0.70665</td>\n",
       "      <td>0.70535</td>\n",
       "      <td>0.70555</td>\n",
       "    </tr>\n",
       "    <tr>\n",
       "      <th>2005-01-02</th>\n",
       "      <td>0.70555</td>\n",
       "      <td>0.70610</td>\n",
       "      <td>0.70545</td>\n",
       "      <td>0.70590</td>\n",
       "    </tr>\n",
       "    <tr>\n",
       "      <th>2005-01-02</th>\n",
       "      <td>0.70600</td>\n",
       "      <td>0.70680</td>\n",
       "      <td>0.70600</td>\n",
       "      <td>0.70670</td>\n",
       "    </tr>\n",
       "    <tr>\n",
       "      <th>...</th>\n",
       "      <td>...</td>\n",
       "      <td>...</td>\n",
       "      <td>...</td>\n",
       "      <td>...</td>\n",
       "    </tr>\n",
       "    <tr>\n",
       "      <th>2021-02-26</th>\n",
       "      <td>0.86624</td>\n",
       "      <td>0.86666</td>\n",
       "      <td>0.86596</td>\n",
       "      <td>0.86620</td>\n",
       "    </tr>\n",
       "    <tr>\n",
       "      <th>2021-02-26</th>\n",
       "      <td>0.86622</td>\n",
       "      <td>0.86668</td>\n",
       "      <td>0.86584</td>\n",
       "      <td>0.86610</td>\n",
       "    </tr>\n",
       "    <tr>\n",
       "      <th>2021-02-26</th>\n",
       "      <td>0.86612</td>\n",
       "      <td>0.86685</td>\n",
       "      <td>0.86592</td>\n",
       "      <td>0.86623</td>\n",
       "    </tr>\n",
       "    <tr>\n",
       "      <th>2021-02-26</th>\n",
       "      <td>0.86626</td>\n",
       "      <td>0.86728</td>\n",
       "      <td>0.86566</td>\n",
       "      <td>0.86690</td>\n",
       "    </tr>\n",
       "    <tr>\n",
       "      <th>2021-02-28</th>\n",
       "      <td>0.86617</td>\n",
       "      <td>0.86671</td>\n",
       "      <td>0.86591</td>\n",
       "      <td>0.86650</td>\n",
       "    </tr>\n",
       "  </tbody>\n",
       "</table>\n",
       "<p>103017 rows × 4 columns</p>\n",
       "</div>"
      ],
      "text/plain": [
       "               open     high      low    close\n",
       "datetime                                      \n",
       "2005-01-02  0.70675  0.70675  0.70655  0.70655\n",
       "2005-01-02  0.70665  0.70685  0.70595  0.70615\n",
       "2005-01-02  0.70615  0.70665  0.70535  0.70555\n",
       "2005-01-02  0.70555  0.70610  0.70545  0.70590\n",
       "2005-01-02  0.70600  0.70680  0.70600  0.70670\n",
       "...             ...      ...      ...      ...\n",
       "2021-02-26  0.86624  0.86666  0.86596  0.86620\n",
       "2021-02-26  0.86622  0.86668  0.86584  0.86610\n",
       "2021-02-26  0.86612  0.86685  0.86592  0.86623\n",
       "2021-02-26  0.86626  0.86728  0.86566  0.86690\n",
       "2021-02-28  0.86617  0.86671  0.86591  0.86650\n",
       "\n",
       "[103017 rows x 4 columns]"
      ]
     },
     "execution_count": 3,
     "metadata": {},
     "output_type": "execute_result"
    }
   ],
   "source": [
    "data['datetime'] = pd.to_datetime(data['datetime'])\n",
    "data['datetime'] = data['datetime'].dt.date\n",
    "# data['datetime'] = data['datetime'].dt.tz_localize(None)\n",
    "data.set_index('datetime', inplace=True)\n",
    "data"
   ]
  },
  {
   "cell_type": "markdown",
   "metadata": {},
   "source": [
    "### 1.3 TA indicators"
   ]
  },
  {
   "cell_type": "code",
   "execution_count": 4,
   "metadata": {},
   "outputs": [],
   "source": [
    "open_ = data['open'].values\n",
    "high_ = data['high'].values\n",
    "low_ = data['low'].values\n",
    "close_ = data['close'].values\n",
    "dt = data.index"
   ]
  },
  {
   "cell_type": "code",
   "execution_count": 5,
   "metadata": {},
   "outputs": [],
   "source": [
    "tp = 5 ## set time period window\n",
    "\n",
    "## overlap studies indicators\n",
    "# BBANDS - Bollinger Bands\n",
    "data['upperband'] = ta.BBANDS(close_, timeperiod=tp, nbdevup=2, nbdevdn=2, matype=0)[0]\n",
    "data['middleband'] = ta.BBANDS(close_, timeperiod=tp, nbdevup=2, nbdevdn=2, matype=0)[1]\n",
    "data['lowerband'] = ta.BBANDS(close_, timeperiod=tp, nbdevup=2, nbdevdn=2, matype=0)[2]\n",
    "# DEMA - Double Exponential Moving Average\n",
    "data['dema'] = ta.DEMA(close_, timeperiod=tp)\n",
    "# EMA - Exponential Moving Average\n",
    "data['ema'] = ta.EMA(close_, timeperiod=tp)\n",
    "# HT_TRENDLINE - Hilbert Transform - Instantaneous Trendline\n",
    "data['ht'] = ta.HT_TRENDLINE(close_)\n",
    "# KAMA - Kaufman Adaptive Moving Average\n",
    "data['kama'] = ta.KAMA(close_, timeperiod=tp)\n",
    "# MA - Moving average\n",
    "data['ma'] = ta.MA(close_, timeperiod=tp, matype=0)\n",
    "# MAMA - MESA Adaptive Moving Average\n",
    "# data['mama'], data['fama'] = ta.MAMA(close_, fastlimit=5, slowlimit=10)\n",
    "# MAVP - Moving average with variable period\n",
    "# data['mavp'] = ta.MAVP(close_, periods, minperiod=2, maxperiod=30, matype=0)\n",
    "# MIDPOINT - MidPoint over period\n",
    "data['midpoint'] = ta.MIDPOINT(close_, timeperiod=tp)\n",
    "# MIDPRICE - Midpoint Price over period\n",
    "data['midprice'] = ta.MIDPRICE(high_, low_, timeperiod=tp)\n",
    "# SAR - Parabolic SAR\n",
    "data['sar'] = ta.SAR(high_, low_, acceleration=0, maximum=0)\n",
    "# SAREXT - Parabolic SAR - Extended\n",
    "data['sarext'] = ta.SAREXT(high_, low_, startvalue=0, offsetonreverse=0, accelerationinitlong=0, accelerationlong=0, accelerationmaxlong=0, accelerationinitshort=0, accelerationshort=0, accelerationmaxshort=0)\n",
    "# SMA - Simple Moving Average\n",
    "data['sma5'] = ta.SMA(close_, timeperiod=tp)\n",
    "data['sma10'] = ta.SMA(close_, timeperiod=tp*2)\n",
    "data['sma30'] = ta.SMA(close_, timeperiod=tp*6)\n",
    "# T3 - Triple Exponential Moving Average (T3)\n",
    "data['t3'] = ta.T3(close_, timeperiod=tp, vfactor=0)\n",
    "# TEMA - Triple Exponential Moving Average\n",
    "data['tema'] = ta.TEMA(close_, timeperiod=tp*6)\n",
    "# TRIMA - Triangular Moving Average\n",
    "data['trima5'] = ta.TRIMA(close_, timeperiod=tp)\n",
    "data['trima30'] = ta.TRIMA(close_, timeperiod=tp*6)\n",
    "# WMA - Weighted Moving Average\n",
    "data['wma5'] = ta.WMA(close_, timeperiod=tp)\n",
    "data['wma30'] = ta.WMA(close_, timeperiod=tp*6)"
   ]
  },
  {
   "cell_type": "code",
   "execution_count": 6,
   "metadata": {},
   "outputs": [],
   "source": [
    "## Momentum indicators\n",
    "# ADX - Average Directional Movement Index\n",
    "data['adx'] = ta.ADX(high_, low_, close_, timeperiod=tp)\n",
    "# ADXR - Average Directional Movement Index Rating\n",
    "data['adxr'] = ta.ADXR(high_, low_, close_, timeperiod=tp)\n",
    "# APO - Absolute Price Oscillator\n",
    "data['apo'] = ta.APO(close_, fastperiod=12, slowperiod=24, matype=0)\n",
    "# AROON - Aroon\n",
    "data['aroondown'], data['aroonup'] = ta.AROON(high_, low_, timeperiod=tp)\n",
    "# AROONOSC - Aroon Oscillator\n",
    "data['aroonosc'] = ta.AROONOSC(high_, low_, timeperiod=tp)\n",
    "# BOP - Balance Of Power\n",
    "data['bop'] = ta.BOP(open_, high_, low_, close_)\n",
    "# CCI - Commodity Channel Index\n",
    "data['cci'] = ta.CCI(high_, low_, close_, timeperiod=tp)\n",
    "# CMO - Chande Momentum Oscillator\n",
    "data['cmo'] = ta.CMO(close_, timeperiod=tp)\n",
    "# DX - Directional Movement Index\n",
    "data['dx'] = ta.DX(high_, low_, close_, timeperiod=tp)\n",
    "# MACD - Moving Average Convergence/Divergence\n",
    "data['macd'], data['macdsignal'], data['macdhist'] = ta.MACD(close_, fastperiod=12, slowperiod=24, signalperiod=9)\n",
    "# MACDEXT - MACD with controllable MA type\n",
    "data['macdext'], data['macdsignalext'], data['macdhistext'] = ta.MACDEXT(close_, fastperiod=12, fastmatype=0, slowperiod=26, slowmatype=0, signalperiod=9, signalmatype=0)\n",
    "# MACDFIX - Moving Average Convergence/Divergence Fix 12/26\n",
    "data['macdfix'], data['macdsignalfix'], data['macdhistfix'] = ta.MACDFIX(close_, signalperiod=9)\n",
    "# MINUS_DI - Minus Directional Indicator\n",
    "data['minus_di'] = ta.MINUS_DI(high_, low_, close_, timeperiod=tp)\n",
    "# MINUS_DM - Minus Directional Movement\n",
    "data['minus_dm'] = ta.MINUS_DM(high_, low_, timeperiod=tp)\n",
    "# MOM - Momentum\n",
    "data['mom'] = ta.MOM(close_, timeperiod=tp)\n",
    "# PLUS_DI - Plus Directional Indicator\n",
    "data['plus_di'] = ta.PLUS_DI(high_, low_, close_, timeperiod=tp)\n",
    "# PLUS_DM - Plus Directional Movement\n",
    "data['plus_dm'] = ta.PLUS_DM(high_, low_, timeperiod=tp)\n",
    "# PPO - Percentage Price Oscillator\n",
    "data['ppo'] = ta.PPO(close_, fastperiod=12, slowperiod=24, matype=0)\n",
    "# ROC - Rate of change : ((price/prevPrice)-1)*100\n",
    "data['roc'] = ta.ROC(close_, timeperiod=tp)\n",
    "# ROCP - Rate of change Percentage: (price-prevPrice)/prevPrice\n",
    "data['rocp'] = ta.ROCP(close_, timeperiod=tp)\n",
    "# ROCR - Rate of change ratio: (price/prevPrice)\n",
    "data['rocr'] = ta.ROCR(close_, timeperiod=tp)\n",
    "# ROCR100 - Rate of change ratio 100 scale: (price/prevPrice)*100\n",
    "data['rocr100'] = ta.ROCR100(close_, timeperiod=tp)\n",
    "# RSI - Relative Strength Index\n",
    "data['rsi'] = ta.RSI(close_, timeperiod=tp)\n",
    "# STOCH - Stochastic\n",
    "data['slowk'], data['slowd'] = ta.STOCH(high_, low_, close_, fastk_period=24, slowk_period=12, slowk_matype=0, slowd_period=3, slowd_matype=0)\n",
    "# STOCHF - Stochastic Fast\n",
    "data['fastk'], data['fastd'] = ta.STOCHF(high_, low_, close_, fastk_period=24, fastd_period=12, fastd_matype=0)\n",
    "# STOCHRSI - Stochastic Relative Strength Index\n",
    "data['fastkrsi'], data['fastdrsi'] = ta.STOCHRSI(close_, timeperiod=tp, fastk_period=5, fastd_period=3, fastd_matype=0)\n",
    "# TRIX - 1-day Rate-Of-Change (ROC) of a Triple Smooth EMA\n",
    "data['trix'] = ta.TRIX(close_, timeperiod=tp)\n",
    "# ULTOSC - Ultimate Oscillator\n",
    "data['ultosc'] = ta.ULTOSC(high_, low_, close_, timeperiod1=tp, timeperiod2=tp*2, timeperiod3=tp*3)\n",
    "# WILLR - Williams' %R\n",
    "data['willr'] = ta.WILLR(high_, low_, close_, timeperiod=tp)"
   ]
  },
  {
   "cell_type": "code",
   "execution_count": 7,
   "metadata": {},
   "outputs": [],
   "source": [
    "## volatility indicators\n",
    "\n",
    "# ATR - Average True Range\n",
    "data['atr'] = ta.ATR(high_, low_, close_, timeperiod=tp)\n",
    "# NATR - Normalized Average True Range\n",
    "data['natr'] = ta.NATR(high_, low_, close_, timeperiod=tp)\n",
    "# TRANGE - True Range\n",
    "data['trange'] = ta.TRANGE(high_, low_, close_)\n"
   ]
  },
  {
   "cell_type": "code",
   "execution_count": 8,
   "metadata": {},
   "outputs": [],
   "source": [
    "## price transform\n",
    "\n",
    "# AVGPRICE - Average Price\n",
    "data['avgprice'] = ta.AVGPRICE(open_, high_, low_, close_)\n",
    "# MEDPRICE - Median Price\n",
    "data['medprice'] = ta.MEDPRICE(high_, low_)\n",
    "# TYPPRICE - Typical Price\n",
    "data['typprice'] = ta.TYPPRICE(high_, low_, close_)\n",
    "# WCLPRICE - Weighted Close Price\n",
    "data['wclprice'] = ta.WCLPRICE(high_, low_, close_)\n"
   ]
  },
  {
   "cell_type": "code",
   "execution_count": 9,
   "metadata": {},
   "outputs": [],
   "source": [
    "## cycle indicators\n",
    "\n",
    "# HT_DCPERIOD - Hilbert Transform - Dominant Cycle Period\n",
    "data['ht_dcperiod'] = ta.HT_DCPERIOD(close_)\n",
    "# HT_DCPHASE - Hilbert Transform - Dominant Cycle Phase\n",
    "data['ht_dcphase'] = ta.HT_DCPHASE(close_)\n",
    "# HT_PHASOR - Hilbert Transform - Phasor Components\n",
    "data['inphase'], data['quadrature'] = ta.HT_PHASOR(close_)\n",
    "# HT_SINE - Hilbert Transform - SineWave\n",
    "data['sine'], data['leadsine'] = ta.HT_SINE(close_)\n",
    "# HT_TRENDMODE - Hilbert Transform - Trend vs Cycle Mode\n",
    "data['ht_trendmode'] = ta.HT_TRENDMODE(close_)\n"
   ]
  },
  {
   "cell_type": "code",
   "execution_count": 10,
   "metadata": {},
   "outputs": [],
   "source": [
    "## pattern recognition functions\n",
    "\n",
    "# CDL2CROWS - Two Crows\n",
    "data['cdl2crows'] = ta.CDL2CROWS(open_, high_, low_, close_)\n",
    "# CDL3BLACKCROWS - Three Black Crows\n",
    "data['cdl3blackcrows'] = ta.CDL3BLACKCROWS(open_, high_, low_, close_)\n",
    "# CDL3INSIDE - Three Inside Up/Down\n",
    "data['cdl3inside'] = ta.CDL3INSIDE(open_, high_, low_, close_)\n",
    "# CDL3LINESTRIKE - Three-Line Strike\n",
    "data['cdl3linestrike'] = ta.CDL3LINESTRIKE(open_, high_, low_, close_)\n",
    "# CDL3OUTSIDE - Three Outside Up/Down\n",
    "data['cdl3outside'] = ta.CDL3OUTSIDE(open_, high_, low_, close_)\n",
    "# CDL3STARSINSOUTH - Three Stars In The South\n",
    "data['cdl3starsinsouth'] = ta.CDL3STARSINSOUTH(open_, high_, low_, close_)\n",
    "# CDL3WHITESOLDIERS - Three Advancing White Soldiers\n",
    "data['cdl3whitesoldiers'] = ta.CDL3WHITESOLDIERS(open_, high_, low_, close_)\n",
    "# CDLABANDONEDBABY - Abandoned Baby\n",
    "data['cdlabandonedbaby'] = ta.CDLABANDONEDBABY(open_, high_, low_, close_, penetration=0)\n",
    "# CDLADVANCEBLOCK - Advance Block\n",
    "data['cdladvanceblock'] = ta.CDLADVANCEBLOCK(open_, high_, low_, close_)\n",
    "# CDLBELTHOLD - Belt-hold\n",
    "data['cdlbelthold'] = ta.CDLBELTHOLD(open_, high_, low_, close_)\n",
    "# CDLBREAKAWAY - Breakaway\n",
    "data['cdlbreakaway'] = ta.CDLBREAKAWAY(open_, high_, low_, close_)\n",
    "# CDLCLOSINGMARUBOZU - Closing Marubozu\n",
    "data['cdlclosingmarubozu'] = ta.CDLCLOSINGMARUBOZU(open_, high_, low_, close_)\n",
    "# CDLCONCEALBABYSWALL - Concealing Baby Swallow\n",
    "data['cdlconcealbabyswall'] = ta.CDLCONCEALBABYSWALL(open_, high_, low_, close_)\n",
    "# CDLCOUNTERATTACK - Counterattack\n",
    "data['cdlcounterattack'] = ta.CDLCOUNTERATTACK(open_, high_, low_, close_)\n",
    "# CDLDARKCLOUDCOVER - Dark Cloud Cover\n",
    "data['cdldarkcloudcover'] = ta.CDLDARKCLOUDCOVER(open_, high_, low_, close_, penetration=0)\n",
    "# CDLDOJI - Doji\n",
    "data['cdldoji'] = ta.CDLDOJI(open_, high_, low_, close_)\n",
    "# CDLDOJISTAR - Doji Star\n",
    "data['cdldojistar'] = ta.CDLDOJISTAR(open_, high_, low_, close_)\n",
    "# CDLDRAGONFLYDOJI - Dragonfly Doji\n",
    "data['cdldragonflydoji'] = ta.CDLDRAGONFLYDOJI(open_, high_, low_, close_)\n",
    "# CDLENGULFING - Engulfing Pattern\n",
    "data['cdlengulfing'] = ta.CDLENGULFING(open_, high_, low_, close_)\n",
    "# CDLEVENINGDOJISTAR - Evening Doji Star\n",
    "data['cdleveningdojistar'] = ta.CDLEVENINGDOJISTAR(open_, high_, low_, close_, penetration=0)\n",
    "# CDLEVENINGSTAR - Evening Star\n",
    "data['cdleveningstar'] = ta.CDLEVENINGSTAR(open_, high_, low_, close_, penetration=0)\n",
    "# CDLGAPSIDESIDEWHITE - Up/Down-gap side-by-side white lines\n",
    "data['cdlgapsidesidewhite'] = ta.CDLGAPSIDESIDEWHITE(open_, high_, low_, close_)\n",
    "# CDLGRAVESTONEDOJI - Gravestone Doji\n",
    "data['cdlgravestonedoji'] = ta.CDLGRAVESTONEDOJI(open_, high_, low_, close_)\n",
    "# CDLHAMMER - Hammer\n",
    "data['cdlhammer'] = ta.CDLHAMMER(open_, high_, low_, close_)\n",
    "# CDLHANGINGMAN - Hanging Man\n",
    "data['cdlhangingman'] = ta.CDLHANGINGMAN(open_, high_, low_, close_)\n",
    "# CDLHARAMI - Harami Pattern\n",
    "data['cdlharami'] = ta.CDLHARAMI(open_, high_, low_, close_)\n",
    "# CDLHARAMICROSS - Harami Cross Pattern\n",
    "data['cdlharamicross'] = ta.CDLHARAMICROSS(open_, high_, low_, close_)\n",
    "# CDLHIGHWAVE - High-Wave Candle\n",
    "data['cdlhighwave'] = ta.CDLHIGHWAVE(open_, high_, low_, close_)\n",
    "# CDLHIKKAKE - Hikkake Pattern\n",
    "data['cdlhikkake'] = ta.CDLHIKKAKE(open_, high_, low_, close_)\n",
    "# CDLHIKKAKEMOD - Modified Hikkake Pattern\n",
    "data['cdlhikkakemod'] = ta.CDLHIKKAKEMOD(open_, high_, low_, close_)\n",
    "# CDLHOMINGPIGEON - Homing Pigeon\n",
    "data['cdlhomingpigeon'] = ta.CDLHOMINGPIGEON(open_, high_, low_, close_)\n",
    "# CDLIDENTICAL3CROWS - Identical Three Crows\n",
    "data['cdlidentical3crows'] = ta.CDLIDENTICAL3CROWS(open_, high_, low_, close_)\n",
    "# CDLINNECK - In-Neck Pattern\n",
    "data['cdlinneck'] = ta.CDLINNECK(open_, high_, low_, close_)\n",
    "# CDLINVERTEDHAMMER - Inverted Hammer\n",
    "data['cdlinvertedhammer'] = ta.CDLINVERTEDHAMMER(open_, high_, low_, close_)\n",
    "# CDLKICKING - Kicking\n",
    "data['cdlkicking'] = ta.CDLKICKING(open_, high_, low_, close_)\n",
    "# CDLKICKINGBYLENGTH - Kicking - bull/bear determined by the longer marubozu\n",
    "data['cdlkickingbylength'] = ta.CDLKICKINGBYLENGTH(open_, high_, low_, close_)\n",
    "# CDLLADDERBOTTOM - Ladder Bottom\n",
    "data['cdlladderbottom'] = ta.CDLLADDERBOTTOM(open_, high_, low_, close_)\n",
    "# CDLLONGLEGGEDDOJI - Long Legged Doji\n",
    "data['cdllongleggeddoji'] = ta.CDLLONGLEGGEDDOJI(open_, high_, low_, close_)\n",
    "# CDLLONGLINE - Long Line Candle\n",
    "data['cdllongline'] = ta.CDLLONGLINE(open_, high_, low_, close_)\n",
    "# CDLMARUBOZU - Marubozu\n",
    "data['cdlmarubozu'] = ta.CDLMARUBOZU(open_, high_, low_, close_)\n",
    "# CDLMATCHINGLOW - Matching Low\n",
    "data['cdlmatchinglow'] = ta.CDLMATCHINGLOW(open_, high_, low_, close_)\n",
    "# CDLMATHOLD - Mat Hold\n",
    "data['cdlmathold'] = ta.CDLMATHOLD(open_, high_, low_, close_, penetration=0)\n",
    "# CDLMORNINGDOJISTAR - Morning Doji Star\n",
    "data['cdlmorningdojistar'] = ta.CDLMORNINGDOJISTAR(open_, high_, low_, close_, penetration=0)\n",
    "# CDLMORNINGSTAR - Morning Star\n",
    "data['cdlmorningstar'] = ta.CDLMORNINGSTAR(open_, high_, low_, close_, penetration=0)\n",
    "# CDLONNECK - On-Neck Pattern\n",
    "data['cdlonneck'] = ta.CDLONNECK(open_, high_, low_, close_)\n",
    "# CDLPIERCING - Piercing Pattern\n",
    "data['cdlpiercing'] = ta.CDLPIERCING(open_, high_, low_, close_)\n",
    "# CDLRICKSHAWMAN - Rickshaw Man\n",
    "data['cdlrickshawman'] = ta.CDLRICKSHAWMAN(open_, high_, low_, close_)\n",
    "# CDLRISEFALL3METHODS - Rising/Falling Three Methods\n",
    "data['cdlrisefall3methods'] = ta.CDLRISEFALL3METHODS(open_, high_, low_, close_)\n",
    "# CDLSEPARATINGLINES - Separating Lines\n",
    "data['cdlseparatinglines'] = ta.CDLSEPARATINGLINES(open_, high_, low_, close_)\n",
    "# CDLSHOOTINGSTAR - Shooting Star\n",
    "data['cdlshootingstar'] = ta.CDLSHOOTINGSTAR(open_, high_, low_, close_)\n",
    "# CDLSHORTLINE - Short Line Candle\n",
    "data['cdlshortline'] = ta.CDLSHORTLINE(open_, high_, low_, close_)\n",
    "# CDLSPINNINGTOP - Spinning Top\n",
    "data['cdlspinningtop'] = ta.CDLSPINNINGTOP(open_, high_, low_, close_)\n",
    "# CDLSTALLEDPATTERN - Stalled Pattern\n",
    "data['cdlstalledpattern'] = ta.CDLSTALLEDPATTERN(open_, high_, low_, close_)\n",
    "# CDLSTICKSANDWICH - Stick Sandwich\n",
    "data['cdlsticksandwich'] = ta.CDLSTICKSANDWICH(open_, high_, low_, close_)\n",
    "# CDLTAKURI - Takuri (Dragonfly Doji with very long lower shadow)\n",
    "data['cdltakuri'] = ta.CDLTAKURI(open_, high_, low_, close_)\n",
    "# CDLTASUKIGAP - Tasuki Gap\n",
    "data['cdltasukigap'] = ta.CDLTASUKIGAP(open_, high_, low_, close_)\n",
    "# CDLTHRUSTING - Thrusting Pattern\n",
    "data['cdlthrusting'] = ta.CDLTHRUSTING(open_, high_, low_, close_)\n",
    "# CDLTRISTAR - Tristar Pattern\n",
    "data['cdltristar'] = ta.CDLTRISTAR(open_, high_, low_, close_)\n",
    "# CDLUNIQUE3RIVER - Unique 3 River\n",
    "data['cdlunique3river'] = ta.CDLUNIQUE3RIVER(open_, high_, low_, close_)\n",
    "# CDLUPSIDEGAP2CROWS - Upside Gap Two Crows\n",
    "data['cdlupsidegap2crows'] = ta.CDLUPSIDEGAP2CROWS(open_, high_, low_, close_)\n",
    "# CDLXSIDEGAP3METHODS - Upside/Downside Gap Three Methods\n",
    "data['cdlxsidegap3methods'] = ta.CDLXSIDEGAP3METHODS(open_, high_, low_, close_)\n"
   ]
  },
  {
   "cell_type": "code",
   "execution_count": 11,
   "metadata": {},
   "outputs": [
    {
     "data": {
      "text/plain": [
       "(103017, 139)"
      ]
     },
     "execution_count": 11,
     "metadata": {},
     "output_type": "execute_result"
    }
   ],
   "source": [
    "data.shape"
   ]
  },
  {
   "cell_type": "code",
   "execution_count": 12,
   "metadata": {
    "scrolled": true
   },
   "outputs": [
    {
     "name": "stdout",
     "output_type": "stream",
     "text": [
      "shape of data:  (102930, 139)\n"
     ]
    },
    {
     "data": {
      "text/html": [
       "<div>\n",
       "<style scoped>\n",
       "    .dataframe tbody tr th:only-of-type {\n",
       "        vertical-align: middle;\n",
       "    }\n",
       "\n",
       "    .dataframe tbody tr th {\n",
       "        vertical-align: top;\n",
       "    }\n",
       "\n",
       "    .dataframe thead th {\n",
       "        text-align: right;\n",
       "    }\n",
       "</style>\n",
       "<table border=\"1\" class=\"dataframe\">\n",
       "  <thead>\n",
       "    <tr style=\"text-align: right;\">\n",
       "      <th></th>\n",
       "      <th>open</th>\n",
       "      <th>high</th>\n",
       "      <th>low</th>\n",
       "      <th>close</th>\n",
       "      <th>upperband</th>\n",
       "      <th>middleband</th>\n",
       "      <th>lowerband</th>\n",
       "      <th>dema</th>\n",
       "      <th>ema</th>\n",
       "      <th>ht</th>\n",
       "      <th>...</th>\n",
       "      <th>cdlspinningtop</th>\n",
       "      <th>cdlstalledpattern</th>\n",
       "      <th>cdlsticksandwich</th>\n",
       "      <th>cdltakuri</th>\n",
       "      <th>cdltasukigap</th>\n",
       "      <th>cdlthrusting</th>\n",
       "      <th>cdltristar</th>\n",
       "      <th>cdlunique3river</th>\n",
       "      <th>cdlupsidegap2crows</th>\n",
       "      <th>cdlxsidegap3methods</th>\n",
       "    </tr>\n",
       "  </thead>\n",
       "  <tbody>\n",
       "    <tr>\n",
       "      <th>0</th>\n",
       "      <td>0.70291</td>\n",
       "      <td>0.70481</td>\n",
       "      <td>0.70291</td>\n",
       "      <td>0.70431</td>\n",
       "      <td>0.704962</td>\n",
       "      <td>0.703810</td>\n",
       "      <td>0.702658</td>\n",
       "      <td>0.703786</td>\n",
       "      <td>0.703797</td>\n",
       "      <td>0.704148</td>\n",
       "      <td>...</td>\n",
       "      <td>0</td>\n",
       "      <td>0</td>\n",
       "      <td>0</td>\n",
       "      <td>0</td>\n",
       "      <td>0</td>\n",
       "      <td>0</td>\n",
       "      <td>0</td>\n",
       "      <td>0</td>\n",
       "      <td>0</td>\n",
       "      <td>0</td>\n",
       "    </tr>\n",
       "    <tr>\n",
       "      <th>1</th>\n",
       "      <td>0.70421</td>\n",
       "      <td>0.70521</td>\n",
       "      <td>0.70361</td>\n",
       "      <td>0.70481</td>\n",
       "      <td>0.705284</td>\n",
       "      <td>0.703910</td>\n",
       "      <td>0.702536</td>\n",
       "      <td>0.704352</td>\n",
       "      <td>0.704135</td>\n",
       "      <td>0.704065</td>\n",
       "      <td>...</td>\n",
       "      <td>0</td>\n",
       "      <td>0</td>\n",
       "      <td>0</td>\n",
       "      <td>0</td>\n",
       "      <td>0</td>\n",
       "      <td>0</td>\n",
       "      <td>0</td>\n",
       "      <td>0</td>\n",
       "      <td>0</td>\n",
       "      <td>0</td>\n",
       "    </tr>\n",
       "    <tr>\n",
       "      <th>2</th>\n",
       "      <td>0.70481</td>\n",
       "      <td>0.70501</td>\n",
       "      <td>0.70441</td>\n",
       "      <td>0.70461</td>\n",
       "      <td>0.705467</td>\n",
       "      <td>0.703990</td>\n",
       "      <td>0.702513</td>\n",
       "      <td>0.704544</td>\n",
       "      <td>0.704293</td>\n",
       "      <td>0.704018</td>\n",
       "      <td>...</td>\n",
       "      <td>0</td>\n",
       "      <td>0</td>\n",
       "      <td>0</td>\n",
       "      <td>0</td>\n",
       "      <td>0</td>\n",
       "      <td>0</td>\n",
       "      <td>0</td>\n",
       "      <td>0</td>\n",
       "      <td>0</td>\n",
       "      <td>0</td>\n",
       "    </tr>\n",
       "    <tr>\n",
       "      <th>3</th>\n",
       "      <td>0.70461</td>\n",
       "      <td>0.70481</td>\n",
       "      <td>0.70373</td>\n",
       "      <td>0.70413</td>\n",
       "      <td>0.705429</td>\n",
       "      <td>0.704174</td>\n",
       "      <td>0.702919</td>\n",
       "      <td>0.704370</td>\n",
       "      <td>0.704239</td>\n",
       "      <td>0.704020</td>\n",
       "      <td>...</td>\n",
       "      <td>0</td>\n",
       "      <td>0</td>\n",
       "      <td>0</td>\n",
       "      <td>0</td>\n",
       "      <td>0</td>\n",
       "      <td>0</td>\n",
       "      <td>0</td>\n",
       "      <td>0</td>\n",
       "      <td>0</td>\n",
       "      <td>0</td>\n",
       "    </tr>\n",
       "    <tr>\n",
       "      <th>4</th>\n",
       "      <td>0.70403</td>\n",
       "      <td>0.70433</td>\n",
       "      <td>0.70333</td>\n",
       "      <td>0.70373</td>\n",
       "      <td>0.705071</td>\n",
       "      <td>0.704318</td>\n",
       "      <td>0.703565</td>\n",
       "      <td>0.704043</td>\n",
       "      <td>0.704069</td>\n",
       "      <td>0.704037</td>\n",
       "      <td>...</td>\n",
       "      <td>0</td>\n",
       "      <td>0</td>\n",
       "      <td>0</td>\n",
       "      <td>0</td>\n",
       "      <td>0</td>\n",
       "      <td>0</td>\n",
       "      <td>0</td>\n",
       "      <td>0</td>\n",
       "      <td>0</td>\n",
       "      <td>0</td>\n",
       "    </tr>\n",
       "    <tr>\n",
       "      <th>...</th>\n",
       "      <td>...</td>\n",
       "      <td>...</td>\n",
       "      <td>...</td>\n",
       "      <td>...</td>\n",
       "      <td>...</td>\n",
       "      <td>...</td>\n",
       "      <td>...</td>\n",
       "      <td>...</td>\n",
       "      <td>...</td>\n",
       "      <td>...</td>\n",
       "      <td>...</td>\n",
       "      <td>...</td>\n",
       "      <td>...</td>\n",
       "      <td>...</td>\n",
       "      <td>...</td>\n",
       "      <td>...</td>\n",
       "      <td>...</td>\n",
       "      <td>...</td>\n",
       "      <td>...</td>\n",
       "      <td>...</td>\n",
       "      <td>...</td>\n",
       "    </tr>\n",
       "    <tr>\n",
       "      <th>102925</th>\n",
       "      <td>0.86624</td>\n",
       "      <td>0.86666</td>\n",
       "      <td>0.86596</td>\n",
       "      <td>0.86620</td>\n",
       "      <td>0.870523</td>\n",
       "      <td>0.867620</td>\n",
       "      <td>0.864717</td>\n",
       "      <td>0.866215</td>\n",
       "      <td>0.867270</td>\n",
       "      <td>0.869380</td>\n",
       "      <td>...</td>\n",
       "      <td>-100</td>\n",
       "      <td>0</td>\n",
       "      <td>0</td>\n",
       "      <td>0</td>\n",
       "      <td>0</td>\n",
       "      <td>0</td>\n",
       "      <td>0</td>\n",
       "      <td>0</td>\n",
       "      <td>0</td>\n",
       "      <td>0</td>\n",
       "    </tr>\n",
       "    <tr>\n",
       "      <th>102926</th>\n",
       "      <td>0.86622</td>\n",
       "      <td>0.86668</td>\n",
       "      <td>0.86584</td>\n",
       "      <td>0.86610</td>\n",
       "      <td>0.868690</td>\n",
       "      <td>0.866844</td>\n",
       "      <td>0.864998</td>\n",
       "      <td>0.865916</td>\n",
       "      <td>0.866880</td>\n",
       "      <td>0.869345</td>\n",
       "      <td>...</td>\n",
       "      <td>-100</td>\n",
       "      <td>0</td>\n",
       "      <td>0</td>\n",
       "      <td>0</td>\n",
       "      <td>0</td>\n",
       "      <td>0</td>\n",
       "      <td>0</td>\n",
       "      <td>0</td>\n",
       "      <td>0</td>\n",
       "      <td>0</td>\n",
       "    </tr>\n",
       "    <tr>\n",
       "      <th>102927</th>\n",
       "      <td>0.86612</td>\n",
       "      <td>0.86685</td>\n",
       "      <td>0.86592</td>\n",
       "      <td>0.86623</td>\n",
       "      <td>0.867128</td>\n",
       "      <td>0.866382</td>\n",
       "      <td>0.865636</td>\n",
       "      <td>0.865876</td>\n",
       "      <td>0.866663</td>\n",
       "      <td>0.869257</td>\n",
       "      <td>...</td>\n",
       "      <td>100</td>\n",
       "      <td>0</td>\n",
       "      <td>0</td>\n",
       "      <td>0</td>\n",
       "      <td>0</td>\n",
       "      <td>0</td>\n",
       "      <td>0</td>\n",
       "      <td>0</td>\n",
       "      <td>0</td>\n",
       "      <td>0</td>\n",
       "    </tr>\n",
       "    <tr>\n",
       "      <th>102928</th>\n",
       "      <td>0.86626</td>\n",
       "      <td>0.86728</td>\n",
       "      <td>0.86566</td>\n",
       "      <td>0.86690</td>\n",
       "      <td>0.866910</td>\n",
       "      <td>0.866338</td>\n",
       "      <td>0.865766</td>\n",
       "      <td>0.866270</td>\n",
       "      <td>0.866742</td>\n",
       "      <td>0.869171</td>\n",
       "      <td>...</td>\n",
       "      <td>0</td>\n",
       "      <td>0</td>\n",
       "      <td>0</td>\n",
       "      <td>0</td>\n",
       "      <td>0</td>\n",
       "      <td>0</td>\n",
       "      <td>0</td>\n",
       "      <td>0</td>\n",
       "      <td>0</td>\n",
       "      <td>0</td>\n",
       "    </tr>\n",
       "    <tr>\n",
       "      <th>102929</th>\n",
       "      <td>0.86617</td>\n",
       "      <td>0.86671</td>\n",
       "      <td>0.86591</td>\n",
       "      <td>0.86650</td>\n",
       "      <td>0.866964</td>\n",
       "      <td>0.866386</td>\n",
       "      <td>0.865808</td>\n",
       "      <td>0.866293</td>\n",
       "      <td>0.866661</td>\n",
       "      <td>0.869066</td>\n",
       "      <td>...</td>\n",
       "      <td>0</td>\n",
       "      <td>0</td>\n",
       "      <td>0</td>\n",
       "      <td>0</td>\n",
       "      <td>0</td>\n",
       "      <td>0</td>\n",
       "      <td>0</td>\n",
       "      <td>0</td>\n",
       "      <td>0</td>\n",
       "      <td>0</td>\n",
       "    </tr>\n",
       "  </tbody>\n",
       "</table>\n",
       "<p>102930 rows × 139 columns</p>\n",
       "</div>"
      ],
      "text/plain": [
       "           open     high      low    close  upperband  middleband  lowerband  \\\n",
       "0       0.70291  0.70481  0.70291  0.70431   0.704962    0.703810   0.702658   \n",
       "1       0.70421  0.70521  0.70361  0.70481   0.705284    0.703910   0.702536   \n",
       "2       0.70481  0.70501  0.70441  0.70461   0.705467    0.703990   0.702513   \n",
       "3       0.70461  0.70481  0.70373  0.70413   0.705429    0.704174   0.702919   \n",
       "4       0.70403  0.70433  0.70333  0.70373   0.705071    0.704318   0.703565   \n",
       "...         ...      ...      ...      ...        ...         ...        ...   \n",
       "102925  0.86624  0.86666  0.86596  0.86620   0.870523    0.867620   0.864717   \n",
       "102926  0.86622  0.86668  0.86584  0.86610   0.868690    0.866844   0.864998   \n",
       "102927  0.86612  0.86685  0.86592  0.86623   0.867128    0.866382   0.865636   \n",
       "102928  0.86626  0.86728  0.86566  0.86690   0.866910    0.866338   0.865766   \n",
       "102929  0.86617  0.86671  0.86591  0.86650   0.866964    0.866386   0.865808   \n",
       "\n",
       "            dema       ema        ht  ...  cdlspinningtop  cdlstalledpattern  \\\n",
       "0       0.703786  0.703797  0.704148  ...               0                  0   \n",
       "1       0.704352  0.704135  0.704065  ...               0                  0   \n",
       "2       0.704544  0.704293  0.704018  ...               0                  0   \n",
       "3       0.704370  0.704239  0.704020  ...               0                  0   \n",
       "4       0.704043  0.704069  0.704037  ...               0                  0   \n",
       "...          ...       ...       ...  ...             ...                ...   \n",
       "102925  0.866215  0.867270  0.869380  ...            -100                  0   \n",
       "102926  0.865916  0.866880  0.869345  ...            -100                  0   \n",
       "102927  0.865876  0.866663  0.869257  ...             100                  0   \n",
       "102928  0.866270  0.866742  0.869171  ...               0                  0   \n",
       "102929  0.866293  0.866661  0.869066  ...               0                  0   \n",
       "\n",
       "        cdlsticksandwich  cdltakuri  cdltasukigap  cdlthrusting  cdltristar  \\\n",
       "0                      0          0             0             0           0   \n",
       "1                      0          0             0             0           0   \n",
       "2                      0          0             0             0           0   \n",
       "3                      0          0             0             0           0   \n",
       "4                      0          0             0             0           0   \n",
       "...                  ...        ...           ...           ...         ...   \n",
       "102925                 0          0             0             0           0   \n",
       "102926                 0          0             0             0           0   \n",
       "102927                 0          0             0             0           0   \n",
       "102928                 0          0             0             0           0   \n",
       "102929                 0          0             0             0           0   \n",
       "\n",
       "        cdlunique3river  cdlupsidegap2crows  cdlxsidegap3methods  \n",
       "0                     0                   0                    0  \n",
       "1                     0                   0                    0  \n",
       "2                     0                   0                    0  \n",
       "3                     0                   0                    0  \n",
       "4                     0                   0                    0  \n",
       "...                 ...                 ...                  ...  \n",
       "102925                0                   0                    0  \n",
       "102926                0                   0                    0  \n",
       "102927                0                   0                    0  \n",
       "102928                0                   0                    0  \n",
       "102929                0                   0                    0  \n",
       "\n",
       "[102930 rows x 139 columns]"
      ]
     },
     "execution_count": 12,
     "metadata": {},
     "output_type": "execute_result"
    }
   ],
   "source": [
    "## drop rows with NANs\n",
    "data.dropna(axis=0, inplace=True)\n",
    "data = data.reset_index(drop=True)\n",
    "print('shape of data: ', data.shape)\n",
    "data"
   ]
  },
  {
   "cell_type": "markdown",
   "metadata": {},
   "source": [
    "### 1.3 Standard deviation"
   ]
  },
  {
   "cell_type": "code",
   "execution_count": 13,
   "metadata": {},
   "outputs": [],
   "source": [
    "## drop columns with 0 std values\n",
    "stds = pd.DataFrame(data.std(), columns=['std'])\n",
    "zero_stds = stds[stds['std']==0]\n",
    "zero_stds_indicators = zero_stds.index.tolist()"
   ]
  },
  {
   "cell_type": "code",
   "execution_count": 14,
   "metadata": {},
   "outputs": [],
   "source": [
    "data = data.drop(columns=zero_stds_indicators, axis=1)"
   ]
  },
  {
   "cell_type": "code",
   "execution_count": 15,
   "metadata": {},
   "outputs": [
    {
     "data": {
      "text/plain": [
       "(102930, 132)"
      ]
     },
     "execution_count": 15,
     "metadata": {},
     "output_type": "execute_result"
    }
   ],
   "source": [
    "data.shape"
   ]
  },
  {
   "cell_type": "markdown",
   "metadata": {},
   "source": [
    "### 1.4 Correlation"
   ]
  },
  {
   "cell_type": "code",
   "execution_count": 16,
   "metadata": {},
   "outputs": [
    {
     "data": {
      "image/png": "[encoded data removed]",
      "text/plain": [
       "<Figure size 1440x1440 with 2 Axes>"
      ]
     },
     "metadata": {},
     "output_type": "display_data"
    }
   ],
   "source": [
    "## correlation heatmap\n",
    "\n",
    "sns.set_style('whitegrid')\n",
    "\n",
    "# Compute the correlation matrix\n",
    "corr = data.corr()\n",
    "\n",
    "# Generate a mask for the upper triangle\n",
    "## ref.https://seaborn.pydata.org/examples/many_pairwise_correlations.html\n",
    "mask = np.triu(np.ones_like(corr, dtype=bool))\n",
    "\n",
    "f, ax = plt.subplots(figsize=(20, 20))\n",
    "\n",
    "# Generate a custom diverging colormap\n",
    "cmap = sns.diverging_palette(230, 20, as_cmap=True)\n",
    "\n",
    "# Draw the heatmap with the mask and correct aspect ratio\n",
    "sns.heatmap(corr, \n",
    "            mask=mask, \n",
    "            cmap=cmap, \n",
    "            vmax=.3, \n",
    "            center=0,\n",
    "            square=True, \n",
    "            linewidths=.5, \n",
    "            # annot=True, \n",
    "            fmt='.3f',   # ref. https://stackoverflow.com/questions/54506626/how-to-understand-seaborns-heatmap-annotation-format\n",
    "            # annot_kws={'fontsize': 9 },\n",
    "            cbar_kws={\"shrink\": .5})\n",
    "plt.show()\n"
   ]
  },
  {
   "cell_type": "markdown",
   "metadata": {},
   "source": [
    "## 2. Data Processing"
   ]
  },
  {
   "cell_type": "code",
   "execution_count": 17,
   "metadata": {},
   "outputs": [],
   "source": [
    "train_split_frac = 0.8\n",
    "val_split_frac = 0.9\n",
    "\n",
    "train_split = int(train_split_frac * int(data.shape[0]))  ## end of train index (exclusive)\n",
    "val_split = int(val_split_frac * int(data.shape[0]))      ## end of val index (exclusive)"
   ]
  },
  {
   "cell_type": "code",
   "execution_count": 18,
   "metadata": {},
   "outputs": [],
   "source": [
    "step = 1\n",
    "past = 10\n",
    "future = 1\n",
    "learning_rate = 0.001\n",
    "batch_size = 1\n",
    "epochs = 1000\n",
    "\n",
    "y = data[['close']]"
   ]
  },
  {
   "cell_type": "markdown",
   "metadata": {},
   "source": [
    "### 2.1 Train - validation - test split"
   ]
  },
  {
   "cell_type": "code",
   "execution_count": 19,
   "metadata": {},
   "outputs": [],
   "source": [
    "training_data = data[: train_split]\n",
    "validation_data = data[train_split: val_split]\n",
    "test_data = data[val_split:]"
   ]
  },
  {
   "cell_type": "code",
   "execution_count": 20,
   "metadata": {},
   "outputs": [
    {
     "name": "stdout",
     "output_type": "stream",
     "text": [
      "Shape of training_data:    (82344, 132)\n",
      "Shape of validation_data:  (10293, 132)\n",
      "Shape of test_data:        (10293, 132)\n"
     ]
    }
   ],
   "source": [
    "print('Shape of training_data:   ', training_data.shape)\n",
    "print('Shape of validation_data: ', validation_data.shape)\n",
    "print('Shape of test_data:       ', test_data.shape)"
   ]
  },
  {
   "cell_type": "markdown",
   "metadata": {},
   "source": [
    "### 2.2 Standardisation\n"
   ]
  },
  {
   "cell_type": "code",
   "execution_count": 21,
   "metadata": {},
   "outputs": [],
   "source": [
    "from sklearn.preprocessing import StandardScaler\n",
    "scaler = StandardScaler()"
   ]
  },
  {
   "cell_type": "code",
   "execution_count": 22,
   "metadata": {},
   "outputs": [],
   "source": [
    "training_data = scaler.fit_transform(training_data)\n",
    "validation_data = scaler.transform(validation_data)\n",
    "test_data = scaler.transform(test_data)"
   ]
  },
  {
   "cell_type": "markdown",
   "metadata": {},
   "source": [
    "### 2.3 Training dataset"
   ]
  },
  {
   "cell_type": "code",
   "execution_count": 23,
   "metadata": {},
   "outputs": [],
   "source": [
    "train_y_start = past + future\n",
    "train_y_end = train_y_start + train_split"
   ]
  },
  {
   "cell_type": "code",
   "execution_count": 24,
   "metadata": {},
   "outputs": [],
   "source": [
    "x_train = training_data\n",
    "y_train = y.iloc[train_y_start: train_y_end].values"
   ]
  },
  {
   "cell_type": "code",
   "execution_count": 25,
   "metadata": {},
   "outputs": [],
   "source": [
    "sequence_length = int(past / step)"
   ]
  },
  {
   "cell_type": "code",
   "execution_count": 26,
   "metadata": {},
   "outputs": [],
   "source": [
    "import tensorflow as tf\n",
    "from tensorflow import keras\n",
    "\n",
    "dataset_train = keras.preprocessing.timeseries_dataset_from_array(\n",
    "    x_train,\n",
    "    y_train,\n",
    "    sequence_length=sequence_length,\n",
    "    sampling_rate=step,\n",
    "    batch_size=batch_size,\n",
    ")"
   ]
  },
  {
   "cell_type": "markdown",
   "metadata": {},
   "source": [
    "### 2.4 Validation dataset"
   ]
  },
  {
   "cell_type": "code",
   "execution_count": 27,
   "metadata": {},
   "outputs": [],
   "source": [
    "val_y_start = train_y_end\n",
    "val_y_end = train_y_start + val_split"
   ]
  },
  {
   "cell_type": "code",
   "execution_count": 28,
   "metadata": {},
   "outputs": [],
   "source": [
    "x_val = validation_data\n",
    "y_val = y.iloc[val_y_start: val_y_end].values"
   ]
  },
  {
   "cell_type": "code",
   "execution_count": 29,
   "metadata": {},
   "outputs": [],
   "source": [
    "dataset_val = keras.preprocessing.timeseries_dataset_from_array(\n",
    "    x_val,\n",
    "    y_val,\n",
    "    sequence_length=sequence_length,\n",
    "    sampling_rate=step,\n",
    "    batch_size=batch_size,\n",
    ")"
   ]
  },
  {
   "cell_type": "markdown",
   "metadata": {},
   "source": [
    "### 2.5 Test dataset"
   ]
  },
  {
   "cell_type": "code",
   "execution_count": 30,
   "metadata": {},
   "outputs": [],
   "source": [
    "x_end = len(test_data) - past - future"
   ]
  },
  {
   "cell_type": "code",
   "execution_count": 31,
   "metadata": {},
   "outputs": [],
   "source": [
    "test_y_start = val_y_end"
   ]
  },
  {
   "cell_type": "code",
   "execution_count": 32,
   "metadata": {},
   "outputs": [],
   "source": [
    "x_test = test_data[: x_end]\n",
    "y_test = y.iloc[test_y_start: ].values"
   ]
  },
  {
   "cell_type": "code",
   "execution_count": 33,
   "metadata": {},
   "outputs": [],
   "source": [
    "dataset_test = keras.preprocessing.timeseries_dataset_from_array(\n",
    "    x_test,\n",
    "    y_test,\n",
    "    sequence_length=sequence_length,\n",
    "    sampling_rate=step,\n",
    "    batch_size=batch_size,\n",
    ")"
   ]
  },
  {
   "cell_type": "markdown",
   "metadata": {},
   "source": [
    "### 2.4 Input and output shape"
   ]
  },
  {
   "cell_type": "code",
   "execution_count": 34,
   "metadata": {},
   "outputs": [
    {
     "name": "stdout",
     "output_type": "stream",
     "text": [
      "Input shape: (1, 10, 132)\n",
      "Target shape: (1, 1)\n"
     ]
    }
   ],
   "source": [
    "for batch in dataset_train.take(1):\n",
    "    inputs, targets = batch\n",
    "\n",
    "print(\"Input shape:\", inputs.numpy().shape)\n",
    "print(\"Target shape:\", targets.numpy().shape)"
   ]
  },
  {
   "cell_type": "markdown",
   "metadata": {},
   "source": [
    "## 3. Experiment1: LSTM model"
   ]
  },
  {
   "cell_type": "code",
   "execution_count": 35,
   "metadata": {},
   "outputs": [],
   "source": [
    "from tensorflow.keras.models import Sequential\n",
    "from tensorflow.keras.layers import Dense, LSTM\n",
    "import keras"
   ]
  },
  {
   "cell_type": "markdown",
   "metadata": {},
   "source": [
    "### 3.1 Training"
   ]
  },
  {
   "cell_type": "code",
   "execution_count": 36,
   "metadata": {},
   "outputs": [
    {
     "name": "stdout",
     "output_type": "stream",
     "text": [
      "Model: \"model\"\n",
      "_________________________________________________________________\n",
      "Layer (type)                 Output Shape              Param #   \n",
      "=================================================================\n",
      "input_1 (InputLayer)         [(None, 10, 132)]         0         \n",
      "_________________________________________________________________\n",
      "lstm (LSTM)                  (None, 200)               266400    \n",
      "_________________________________________________________________\n",
      "dense (Dense)                (None, 1)                 201       \n",
      "=================================================================\n",
      "Total params: 266,601\n",
      "Trainable params: 266,601\n",
      "Non-trainable params: 0\n",
      "_________________________________________________________________\n"
     ]
    }
   ],
   "source": [
    "inputs = keras.layers.Input(shape=(inputs.shape[1], inputs.shape[2]))\n",
    "lstm_out = keras.layers.LSTM(200)(inputs)\n",
    "outputs = keras.layers.Dense(1)(lstm_out)\n",
    "\n",
    "model1 = keras.Model(inputs=inputs, outputs=outputs)\n",
    "model1.compile(optimizer=keras.optimizers.Adam(learning_rate=learning_rate), loss=\"mse\")\n",
    "model1.summary()"
   ]
  },
  {
   "cell_type": "code",
   "execution_count": 37,
   "metadata": {},
   "outputs": [
    {
     "name": "stdout",
     "output_type": "stream",
     "text": [
      "Epoch 1/1000\n",
      "82335/82335 [==============================] - 326s 4ms/step - loss: 0.0046 - val_loss: 0.0019\n",
      "\n",
      "Epoch 00001: val_loss improved from inf to 0.00192, saving model to model_checkpoint_1.h5\n",
      "Epoch 2/1000\n",
      "82335/82335 [==============================] - 341s 4ms/step - loss: 0.0013 - val_loss: 0.0036\n",
      "\n",
      "Epoch 00002: val_loss did not improve from 0.00192\n",
      "Epoch 3/1000\n",
      "82335/82335 [==============================] - 350s 4ms/step - loss: 9.6455e-04 - val_loss: 0.0038\n",
      "\n",
      "Epoch 00003: val_loss did not improve from 0.00192\n",
      "Epoch 4/1000\n",
      "82335/82335 [==============================] - 332s 4ms/step - loss: 0.0012 - val_loss: 0.0014\n",
      "\n",
      "Epoch 00004: val_loss improved from 0.00192 to 0.00136, saving model to model_checkpoint_1.h5\n",
      "Epoch 5/1000\n",
      "82335/82335 [==============================] - 328s 4ms/step - loss: 8.9370e-04 - val_loss: 0.0019\n",
      "\n",
      "Epoch 00005: val_loss did not improve from 0.00136\n",
      "Epoch 6/1000\n",
      "82335/82335 [==============================] - 344s 4ms/step - loss: 7.8198e-04 - val_loss: 0.0131\n",
      "\n",
      "Epoch 00006: val_loss did not improve from 0.00136\n",
      "Epoch 7/1000\n",
      "82335/82335 [==============================] - 324s 4ms/step - loss: 0.0011 - val_loss: 0.0010\n",
      "\n",
      "Epoch 00007: val_loss improved from 0.00136 to 0.00102, saving model to model_checkpoint_1.h5\n",
      "Epoch 8/1000\n",
      "82335/82335 [==============================] - 333s 4ms/step - loss: 8.8686e-04 - val_loss: 0.0067\n",
      "\n",
      "Epoch 00008: val_loss did not improve from 0.00102\n",
      "Epoch 9/1000\n",
      "82335/82335 [==============================] - 321s 4ms/step - loss: 0.0011 - val_loss: 0.0018\n",
      "\n",
      "Epoch 00009: val_loss did not improve from 0.00102\n",
      "Epoch 10/1000\n",
      "82335/82335 [==============================] - 308s 4ms/step - loss: 9.3341e-04 - val_loss: 0.0013\n",
      "\n",
      "Epoch 00010: val_loss did not improve from 0.00102\n",
      "Epoch 11/1000\n",
      "82335/82335 [==============================] - 314s 4ms/step - loss: 9.8104e-04 - val_loss: 0.0015\n",
      "\n",
      "Epoch 00011: val_loss did not improve from 0.00102\n",
      "Epoch 12/1000\n",
      "82335/82335 [==============================] - 306s 4ms/step - loss: 0.0010 - val_loss: 0.0131\n",
      "\n",
      "Epoch 00012: val_loss did not improve from 0.00102\n",
      "Epoch 13/1000\n",
      "82335/82335 [==============================] - 311s 4ms/step - loss: 0.0011 - val_loss: 0.0020\n",
      "\n",
      "Epoch 00013: val_loss did not improve from 0.00102\n",
      "Epoch 14/1000\n",
      "82335/82335 [==============================] - 307s 4ms/step - loss: 9.7102e-04 - val_loss: 0.0040\n",
      "\n",
      "Epoch 00014: val_loss did not improve from 0.00102\n",
      "Epoch 15/1000\n",
      "82335/82335 [==============================] - 304s 4ms/step - loss: 9.4147e-04 - val_loss: 0.0025\n",
      "\n",
      "Epoch 00015: val_loss did not improve from 0.00102\n",
      "Epoch 16/1000\n",
      "82335/82335 [==============================] - 333s 4ms/step - loss: 9.9393e-04 - val_loss: 0.0081\n",
      "\n",
      "Epoch 00016: val_loss did not improve from 0.00102\n",
      "Epoch 17/1000\n",
      "82335/82335 [==============================] - 320s 4ms/step - loss: 9.7365e-04 - val_loss: 0.0020\n",
      "\n",
      "Epoch 00017: val_loss did not improve from 0.00102\n"
     ]
    }
   ],
   "source": [
    "path_checkpoint1 = \"model_checkpoint_1.h5\"\n",
    "es_callback = keras.callbacks.EarlyStopping(monitor=\"val_loss\", min_delta=0, patience=10)\n",
    "\n",
    "modelckpt_callback = keras.callbacks.ModelCheckpoint(\n",
    "    monitor=\"val_loss\",\n",
    "    filepath=path_checkpoint1,\n",
    "    verbose=1,\n",
    "    save_weights_only=True,\n",
    "    save_best_only=True,\n",
    ")\n",
    "\n",
    "history = model1.fit(\n",
    "    dataset_train,\n",
    "    epochs=epochs,\n",
    "    validation_data=dataset_val,\n",
    "    callbacks=[es_callback, modelckpt_callback],\n",
    ")"
   ]
  },
  {
   "cell_type": "markdown",
   "metadata": {},
   "source": [
    "### 3.2 Train and validation losses"
   ]
  },
  {
   "cell_type": "code",
   "execution_count": 38,
   "metadata": {},
   "outputs": [
    {
     "data": {
      "image/png": "[encoded data removed]",
      "text/plain": [
       "<Figure size 432x288 with 1 Axes>"
      ]
     },
     "metadata": {},
     "output_type": "display_data"
    }
   ],
   "source": [
    "train_loss_1 = history.history['loss']\n",
    "val_loss_1 = history.history['val_loss']\n",
    "plt.plot(train_loss_1, label='train loss', c='orange')\n",
    "plt.plot(val_loss_1, label='val loss', c='blue')\n",
    "plt.legend(loc='best')\n",
    "plt.show()"
   ]
  },
  {
   "cell_type": "markdown",
   "metadata": {},
   "source": [
    "### 3.3 Prediction on test dataset"
   ]
  },
  {
   "cell_type": "code",
   "execution_count": 39,
   "metadata": {},
   "outputs": [],
   "source": [
    "test_prediction_1 = []\n",
    "test_actual = []\n",
    "for x, y in dataset_test:\n",
    "    test_actual.append(y[0][0])\n",
    "    predict_res = model1.predict(x)[0][0]\n",
    "    test_prediction_1.append(predict_res)\n",
    "test_prediction_1 = np.array(test_prediction_1)\n",
    "test_actual = np.array(test_actual)"
   ]
  },
  {
   "cell_type": "markdown",
   "metadata": {},
   "source": [
    "### 3.4 Evaluation"
   ]
  },
  {
   "cell_type": "code",
   "execution_count": 40,
   "metadata": {},
   "outputs": [
    {
     "name": "stdout",
     "output_type": "stream",
     "text": [
      "result evaluation\n",
      "RMSE:  0.05191464647658923\n",
      "MAPE:  0.024451683965299096\n",
      "MAE:   0.021421238709419786\n"
     ]
    }
   ],
   "source": [
    "from sklearn.metrics import mean_absolute_error, mean_squared_error, mean_absolute_percentage_error\n",
    "\n",
    "rmse1 = mean_squared_error(test_actual, test_prediction_1, squared=False)\n",
    "mape1 = mean_absolute_percentage_error(test_actual, test_prediction_1)\n",
    "mae1 = mean_absolute_error(test_actual, test_prediction_1)\n",
    "\n",
    "print('result evaluation')\n",
    "print('RMSE: ', rmse1)\n",
    "print('MAPE: ', mape1)\n",
    "print('MAE:  ', mae1)"
   ]
  },
  {
   "cell_type": "code",
   "execution_count": 41,
   "metadata": {
    "scrolled": true
   },
   "outputs": [
    {
     "data": {
      "image/png": "[encoded data removed]",
      "text/plain": [
       "<Figure size 1440x432 with 1 Axes>"
      ]
     },
     "metadata": {},
     "output_type": "display_data"
    }
   ],
   "source": [
    "x_axis = [x for x in range(test_actual.shape[0])]\n",
    "plt.figure(figsize=(20,6))\n",
    "\n",
    "sns.lineplot(x=x_axis, y=test_actual, label='actual close price', linewidth=2)\n",
    "sns.lineplot(x=x_axis, y=test_prediction_1, label='predicted close price', linewidth=2)\n",
    "plt.legend()\n",
    "plt.show()"
   ]
  },
  {
   "cell_type": "code",
   "execution_count": null,
   "metadata": {},
   "outputs": [],
   "source": []
  },
  {
   "cell_type": "markdown",
   "metadata": {},
   "source": [
    "## 4. Auto-encoder and feature selection"
   ]
  },
  {
   "cell_type": "code",
   "execution_count": 42,
   "metadata": {},
   "outputs": [
    {
     "data": {
      "text/plain": [
       "(102930, 132)"
      ]
     },
     "execution_count": 42,
     "metadata": {},
     "output_type": "execute_result"
    }
   ],
   "source": [
    "data.shape"
   ]
  },
  {
   "cell_type": "code",
   "execution_count": 43,
   "metadata": {},
   "outputs": [],
   "source": [
    "training_data = data[: train_split]\n",
    "validation_data = data[train_split: val_split]\n",
    "test_data = data[val_split:]"
   ]
  },
  {
   "cell_type": "code",
   "execution_count": 44,
   "metadata": {},
   "outputs": [],
   "source": [
    "training_data = scaler.fit_transform(training_data)\n",
    "validation_data = scaler.transform(validation_data)\n",
    "test_data = scaler.transform(test_data)"
   ]
  },
  {
   "cell_type": "code",
   "execution_count": 45,
   "metadata": {},
   "outputs": [
    {
     "name": "stdout",
     "output_type": "stream",
     "text": [
      "shape of training data:    (82344, 132)\n",
      "shape of validation data:  (10293, 132)\n",
      "shape of test data:        (10293, 132)\n"
     ]
    }
   ],
   "source": [
    "print('shape of training data:   ',training_data.shape)\n",
    "print('shape of validation data: ',validation_data.shape)\n",
    "print('shape of test data:       ',test_data.shape)"
   ]
  },
  {
   "cell_type": "markdown",
   "metadata": {},
   "source": [
    "### 4.1 Defining the auto-encoder"
   ]
  },
  {
   "cell_type": "code",
   "execution_count": 46,
   "metadata": {},
   "outputs": [],
   "source": [
    "encoding_dim = 80\n",
    "ncol = training_data.shape[1]"
   ]
  },
  {
   "cell_type": "code",
   "execution_count": 47,
   "metadata": {},
   "outputs": [],
   "source": [
    "from keras.layers import Input, Dense\n",
    "from keras.models import Model\n",
    "\n",
    "input_dim = Input(shape = (ncol, ))\n",
    "\n",
    "# Encoder Layers\n",
    "encoded1 = Dense(120, activation = 'relu')(input_dim)\n",
    "encoded2 = Dense(110, activation = 'relu')(encoded1)\n",
    "encoded3 = Dense(100, activation = 'relu')(encoded2)\n",
    "encoded4 = Dense(90, activation = 'relu')(encoded3)\n",
    "encoded5 = Dense(encoding_dim, activation = 'relu')(encoded4)\n",
    "\n",
    "# Decoder Layers\n",
    "decoded1 = Dense(90, activation = 'relu')(encoded5)\n",
    "decoded2 = Dense(100, activation = 'relu')(decoded1)\n",
    "decoded3 = Dense(110, activation = 'relu')(decoded2)\n",
    "decoded4 = Dense(120, activation = 'relu')(decoded3)\n",
    "decoded5 = Dense(ncol, activation = 'relu')(decoded4)\n",
    "\n",
    "# Combine Encoder and Deocder layers\n",
    "autoencoder = Model(inputs = input_dim, outputs = decoded5)\n",
    "\n",
    "# Compile the Model\n",
    "autoencoder.compile(optimizer=keras.optimizers.Adam(learning_rate=learning_rate), loss=\"mse\")"
   ]
  },
  {
   "cell_type": "code",
   "execution_count": 48,
   "metadata": {},
   "outputs": [
    {
     "name": "stdout",
     "output_type": "stream",
     "text": [
      "Model: \"model_1\"\n",
      "_________________________________________________________________\n",
      "Layer (type)                 Output Shape              Param #   \n",
      "=================================================================\n",
      "input_2 (InputLayer)         [(None, 132)]             0         \n",
      "_________________________________________________________________\n",
      "dense_1 (Dense)              (None, 120)               15960     \n",
      "_________________________________________________________________\n",
      "dense_2 (Dense)              (None, 110)               13310     \n",
      "_________________________________________________________________\n",
      "dense_3 (Dense)              (None, 100)               11100     \n",
      "_________________________________________________________________\n",
      "dense_4 (Dense)              (None, 90)                9090      \n",
      "_________________________________________________________________\n",
      "dense_5 (Dense)              (None, 80)                7280      \n",
      "_________________________________________________________________\n",
      "dense_6 (Dense)              (None, 90)                7290      \n",
      "_________________________________________________________________\n",
      "dense_7 (Dense)              (None, 100)               9100      \n",
      "_________________________________________________________________\n",
      "dense_8 (Dense)              (None, 110)               11110     \n",
      "_________________________________________________________________\n",
      "dense_9 (Dense)              (None, 120)               13320     \n",
      "_________________________________________________________________\n",
      "dense_10 (Dense)             (None, 132)               15972     \n",
      "=================================================================\n",
      "Total params: 113,532\n",
      "Trainable params: 113,532\n",
      "Non-trainable params: 0\n",
      "_________________________________________________________________\n"
     ]
    }
   ],
   "source": [
    "autoencoder.summary()\n"
   ]
  },
  {
   "cell_type": "markdown",
   "metadata": {},
   "source": [
    "### 4.2 Training the auto-encoder"
   ]
  },
  {
   "cell_type": "code",
   "execution_count": 49,
   "metadata": {},
   "outputs": [
    {
     "name": "stdout",
     "output_type": "stream",
     "text": [
      "Epoch 1/1000\n",
      "82344/82344 [==============================] - 77s 929us/step - loss: 0.9384 - val_loss: 0.8926\n",
      "\n",
      "Epoch 00001: val_loss improved from inf to 0.89256, saving model to model_checkpoint_1.h5\n",
      "Epoch 2/1000\n",
      "82344/82344 [==============================] - 82s 993us/step - loss: 0.9172 - val_loss: 0.9215\n",
      "\n",
      "Epoch 00002: val_loss did not improve from 0.89256\n",
      "Epoch 3/1000\n",
      "82344/82344 [==============================] - 85s 1ms/step - loss: 0.9212 - val_loss: 0.8909\n",
      "\n",
      "Epoch 00003: val_loss improved from 0.89256 to 0.89095, saving model to model_checkpoint_1.h5\n",
      "Epoch 4/1000\n",
      "82344/82344 [==============================] - 77s 939us/step - loss: 0.9175 - val_loss: 0.8932\n",
      "\n",
      "Epoch 00004: val_loss did not improve from 0.89095\n",
      "Epoch 5/1000\n",
      "82344/82344 [==============================] - 79s 959us/step - loss: 0.9125 - val_loss: 0.9263\n",
      "\n",
      "Epoch 00005: val_loss did not improve from 0.89095\n",
      "Epoch 6/1000\n",
      "82344/82344 [==============================] - 83s 1ms/step - loss: 0.9128 - val_loss: 0.9227\n",
      "\n",
      "Epoch 00006: val_loss did not improve from 0.89095\n",
      "Epoch 7/1000\n",
      "82344/82344 [==============================] - 87s 1ms/step - loss: 0.9089 - val_loss: 0.9128\n",
      "\n",
      "Epoch 00007: val_loss did not improve from 0.89095\n",
      "Epoch 8/1000\n",
      "82344/82344 [==============================] - 73s 889us/step - loss: 0.9048 - val_loss: 0.9205\n",
      "\n",
      "Epoch 00008: val_loss did not improve from 0.89095\n",
      "Epoch 9/1000\n",
      "82344/82344 [==============================] - 75s 909us/step - loss: 0.9047 - val_loss: 0.9192\n",
      "\n",
      "Epoch 00009: val_loss did not improve from 0.89095\n",
      "Epoch 10/1000\n",
      "82344/82344 [==============================] - 73s 882us/step - loss: 0.9045 - val_loss: 0.9202\n",
      "\n",
      "Epoch 00010: val_loss did not improve from 0.89095\n",
      "Epoch 11/1000\n",
      "82344/82344 [==============================] - 73s 882us/step - loss: 0.9012 - val_loss: 0.9179\n",
      "\n",
      "Epoch 00011: val_loss did not improve from 0.89095\n",
      "Epoch 12/1000\n",
      "82344/82344 [==============================] - 72s 880us/step - loss: 0.8950 - val_loss: 0.9169\n",
      "\n",
      "Epoch 00012: val_loss did not improve from 0.89095\n",
      "Epoch 13/1000\n",
      "82344/82344 [==============================] - 72s 879us/step - loss: 0.8988 - val_loss: 0.9139\n",
      "\n",
      "Epoch 00013: val_loss did not improve from 0.89095\n"
     ]
    },
    {
     "data": {
      "text/plain": [
       "<tensorflow.python.keras.callbacks.History at 0x7fa53d48d490>"
      ]
     },
     "execution_count": 49,
     "metadata": {},
     "output_type": "execute_result"
    }
   ],
   "source": [
    "es_callback = keras.callbacks.EarlyStopping(monitor=\"val_loss\", min_delta=0, patience=10)\n",
    "\n",
    "modelckpt_callback = keras.callbacks.ModelCheckpoint(\n",
    "    monitor=\"val_loss\",\n",
    "    filepath=path_checkpoint1,\n",
    "    verbose=1,\n",
    "    save_weights_only=True,\n",
    "    save_best_only=True,\n",
    ")\n",
    "\n",
    "autoencoder.fit(\n",
    "    training_data, \n",
    "    training_data, \n",
    "    epochs = 1000, \n",
    "    batch_size = 1, \n",
    "    shuffle = False, \n",
    "    validation_data = (validation_data, validation_data), \n",
    "    callbacks=[es_callback, modelckpt_callback])\n",
    "\n"
   ]
  },
  {
   "cell_type": "markdown",
   "metadata": {},
   "source": [
    "### 4.3 Dimension deduction"
   ]
  },
  {
   "cell_type": "code",
   "execution_count": 50,
   "metadata": {},
   "outputs": [],
   "source": [
    "encoder = Model(inputs = input_dim, outputs = encoded5)\n",
    "encoded_input = Input(shape = (encoding_dim, ))"
   ]
  },
  {
   "cell_type": "code",
   "execution_count": 51,
   "metadata": {},
   "outputs": [],
   "source": [
    "encoded_train = pd.DataFrame(encoder.predict(training_data))\n",
    "encoded_train = encoded_train.add_prefix('feature_')\n",
    "\n",
    "encoded_val = pd.DataFrame(encoder.predict(validation_data))\n",
    "encoded_val = encoded_val.add_prefix('feature_')\n",
    "\n",
    "encoded_test = pd.DataFrame(encoder.predict(test_data))\n",
    "encoded_test = encoded_test.add_prefix('feature_')"
   ]
  },
  {
   "cell_type": "code",
   "execution_count": 52,
   "metadata": {},
   "outputs": [
    {
     "name": "stdout",
     "output_type": "stream",
     "text": [
      "shape of training data:    (82344, 80)\n",
      "shape of validation data:  (10293, 80)\n",
      "shape of test data:        (10293, 80)\n"
     ]
    }
   ],
   "source": [
    "print('shape of training data:   ',encoded_train.shape)\n",
    "print('shape of validation data: ',encoded_val.shape)\n",
    "print('shape of test data:       ',encoded_test.shape)"
   ]
  },
  {
   "cell_type": "markdown",
   "metadata": {},
   "source": [
    "## 5. Experiment2: LSTM model after dimension deduction"
   ]
  },
  {
   "cell_type": "markdown",
   "metadata": {},
   "source": [
    "### 5.1 Data preparations"
   ]
  },
  {
   "cell_type": "code",
   "execution_count": 53,
   "metadata": {},
   "outputs": [],
   "source": [
    "training_data = encoded_train.values\n",
    "validation_data = encoded_val.values\n",
    "test_data = encoded_test.values"
   ]
  },
  {
   "cell_type": "code",
   "execution_count": 54,
   "metadata": {},
   "outputs": [],
   "source": [
    "y = data[['close']]"
   ]
  },
  {
   "cell_type": "code",
   "execution_count": 55,
   "metadata": {},
   "outputs": [],
   "source": [
    "## training dataset\n",
    "train_y_start = past + future\n",
    "train_y_end = train_y_start + train_split\n",
    "\n",
    "x_train = training_data\n",
    "y_train = y.iloc[train_y_start: train_y_end].values\n",
    "\n",
    "sequence_length = int(past / step)\n",
    "\n",
    "dataset_train = keras.preprocessing.timeseries_dataset_from_array(\n",
    "    x_train,\n",
    "    y_train,\n",
    "    sequence_length=sequence_length,\n",
    "    sampling_rate=step,\n",
    "    batch_size=batch_size,\n",
    ")"
   ]
  },
  {
   "cell_type": "code",
   "execution_count": 56,
   "metadata": {},
   "outputs": [],
   "source": [
    "## validation dataset\n",
    "val_y_start = train_y_end\n",
    "val_y_end = train_y_start + val_split\n",
    "\n",
    "x_val = validation_data\n",
    "y_val = y.iloc[val_y_start: val_y_end].values\n",
    "\n",
    "dataset_val = keras.preprocessing.timeseries_dataset_from_array(\n",
    "    x_val,\n",
    "    y_val,\n",
    "    sequence_length=sequence_length,\n",
    "    sampling_rate=step,\n",
    "    batch_size=batch_size,\n",
    ")"
   ]
  },
  {
   "cell_type": "code",
   "execution_count": 57,
   "metadata": {},
   "outputs": [],
   "source": [
    "## test dataset\n",
    "x_end = len(test_data) - past - future\n",
    "\n",
    "test_y_start = val_y_end\n",
    "\n",
    "x_test = test_data[: x_end]\n",
    "y_test = y.iloc[test_y_start: ].values\n",
    "\n",
    "dataset_test = keras.preprocessing.timeseries_dataset_from_array(\n",
    "    x_test,\n",
    "    y_test,\n",
    "    sequence_length=sequence_length,\n",
    "    sampling_rate=step,\n",
    "    batch_size=batch_size,\n",
    ")"
   ]
  },
  {
   "cell_type": "code",
   "execution_count": 58,
   "metadata": {},
   "outputs": [
    {
     "name": "stdout",
     "output_type": "stream",
     "text": [
      "Input shape: (1, 10, 80)\n",
      "Target shape: (1, 1)\n"
     ]
    }
   ],
   "source": [
    "for batch in dataset_train.take(1):\n",
    "    inputs, targets = batch\n",
    "\n",
    "print(\"Input shape:\", inputs.numpy().shape)\n",
    "print(\"Target shape:\", targets.numpy().shape)"
   ]
  },
  {
   "cell_type": "markdown",
   "metadata": {},
   "source": [
    "### 5.2 Training"
   ]
  },
  {
   "cell_type": "code",
   "execution_count": 59,
   "metadata": {},
   "outputs": [
    {
     "name": "stdout",
     "output_type": "stream",
     "text": [
      "Model: \"model_3\"\n",
      "_________________________________________________________________\n",
      "Layer (type)                 Output Shape              Param #   \n",
      "=================================================================\n",
      "input_4 (InputLayer)         [(None, 10, 80)]          0         \n",
      "_________________________________________________________________\n",
      "lstm_1 (LSTM)                (None, 200)               224800    \n",
      "_________________________________________________________________\n",
      "dense_11 (Dense)             (None, 1)                 201       \n",
      "=================================================================\n",
      "Total params: 225,001\n",
      "Trainable params: 225,001\n",
      "Non-trainable params: 0\n",
      "_________________________________________________________________\n"
     ]
    }
   ],
   "source": [
    "inputs = keras.layers.Input(shape=(inputs.shape[1], inputs.shape[2]))\n",
    "lstm_out = keras.layers.LSTM(200)(inputs)\n",
    "outputs = keras.layers.Dense(1)(lstm_out)\n",
    "\n",
    "model2 = keras.Model(inputs=inputs, outputs=outputs)\n",
    "model2.compile(optimizer=keras.optimizers.Adam(learning_rate=learning_rate), loss=\"mse\")\n",
    "model2.summary()\n",
    "\n",
    "## grid search"
   ]
  },
  {
   "cell_type": "code",
   "execution_count": 60,
   "metadata": {},
   "outputs": [
    {
     "name": "stdout",
     "output_type": "stream",
     "text": [
      "Epoch 1/1000\n",
      "82335/82335 [==============================] - 276s 3ms/step - loss: 0.0114 - val_loss: 2.3743e-04\n",
      "\n",
      "Epoch 00001: val_loss improved from inf to 0.00024, saving model to model_checkpoint_2.h5\n",
      "Epoch 2/1000\n",
      "82335/82335 [==============================] - 276s 3ms/step - loss: 3.8914e-05 - val_loss: 2.8185e-04\n",
      "\n",
      "Epoch 00002: val_loss did not improve from 0.00024\n",
      "Epoch 3/1000\n",
      "82335/82335 [==============================] - 276s 3ms/step - loss: 6.0445e-05 - val_loss: 4.2329e-04\n",
      "\n",
      "Epoch 00003: val_loss did not improve from 0.00024\n",
      "Epoch 4/1000\n",
      "82335/82335 [==============================] - 283s 3ms/step - loss: 4.3360e-05 - val_loss: 0.0132\n",
      "\n",
      "Epoch 00004: val_loss did not improve from 0.00024\n",
      "Epoch 5/1000\n",
      "82335/82335 [==============================] - 280s 3ms/step - loss: 9.0503e-05 - val_loss: 1.7255e-04\n",
      "\n",
      "Epoch 00005: val_loss improved from 0.00024 to 0.00017, saving model to model_checkpoint_2.h5\n",
      "Epoch 6/1000\n",
      "82335/82335 [==============================] - 278s 3ms/step - loss: 6.3292e-05 - val_loss: 0.0477\n",
      "\n",
      "Epoch 00006: val_loss did not improve from 0.00017\n",
      "Epoch 7/1000\n",
      "82335/82335 [==============================] - 279s 3ms/step - loss: 1.7735e-04 - val_loss: 1.5530e-04\n",
      "\n",
      "Epoch 00007: val_loss improved from 0.00017 to 0.00016, saving model to model_checkpoint_2.h5\n",
      "Epoch 8/1000\n",
      "82335/82335 [==============================] - 279s 3ms/step - loss: 5.1439e-05 - val_loss: 0.0017\n",
      "\n",
      "Epoch 00008: val_loss did not improve from 0.00016\n",
      "Epoch 9/1000\n",
      "82335/82335 [==============================] - 285s 3ms/step - loss: 7.9517e-05 - val_loss: 5.4903e-04\n",
      "\n",
      "Epoch 00009: val_loss did not improve from 0.00016\n",
      "Epoch 10/1000\n",
      "82335/82335 [==============================] - 280s 3ms/step - loss: 8.3948e-05 - val_loss: 5.0229e-04\n",
      "\n",
      "Epoch 00010: val_loss did not improve from 0.00016\n",
      "Epoch 11/1000\n",
      "82335/82335 [==============================] - 285s 3ms/step - loss: 6.4033e-05 - val_loss: 1.9512e-04\n",
      "\n",
      "Epoch 00011: val_loss did not improve from 0.00016\n",
      "Epoch 12/1000\n",
      "82335/82335 [==============================] - 285s 3ms/step - loss: 5.5976e-05 - val_loss: 0.0012\n",
      "\n",
      "Epoch 00012: val_loss did not improve from 0.00016\n",
      "Epoch 13/1000\n",
      "82335/82335 [==============================] - 282s 3ms/step - loss: 1.0057e-04 - val_loss: 0.0084\n",
      "\n",
      "Epoch 00013: val_loss did not improve from 0.00016\n",
      "Epoch 14/1000\n",
      "82335/82335 [==============================] - 297s 4ms/step - loss: 1.2310e-04 - val_loss: 6.3196e-04\n",
      "\n",
      "Epoch 00014: val_loss did not improve from 0.00016\n",
      "Epoch 15/1000\n",
      "82335/82335 [==============================] - 282s 3ms/step - loss: 7.9699e-05 - val_loss: 4.2006e-04\n",
      "\n",
      "Epoch 00015: val_loss did not improve from 0.00016\n",
      "Epoch 16/1000\n",
      "82335/82335 [==============================] - 287s 3ms/step - loss: 6.7404e-05 - val_loss: 6.7242e-04\n",
      "\n",
      "Epoch 00016: val_loss did not improve from 0.00016\n",
      "Epoch 17/1000\n",
      "82335/82335 [==============================] - 289s 4ms/step - loss: 7.1064e-05 - val_loss: 0.0015\n",
      "\n",
      "Epoch 00017: val_loss did not improve from 0.00016\n"
     ]
    }
   ],
   "source": [
    "path_checkpoint2 = \"model_checkpoint_2.h5\"\n",
    "es_callback = keras.callbacks.EarlyStopping(monitor=\"val_loss\", min_delta=0, patience=10)\n",
    "\n",
    "modelckpt_callback = keras.callbacks.ModelCheckpoint(\n",
    "    monitor=\"val_loss\",\n",
    "    filepath=path_checkpoint2,\n",
    "    verbose=1,\n",
    "    save_weights_only=True,\n",
    "    save_best_only=True,\n",
    ")\n",
    "\n",
    "history2 = model2.fit(\n",
    "    dataset_train,\n",
    "    epochs=epochs,\n",
    "    validation_data=dataset_val,\n",
    "    callbacks=[es_callback, modelckpt_callback],\n",
    ")"
   ]
  },
  {
   "cell_type": "markdown",
   "metadata": {},
   "source": [
    "### 5.3 Train and validation losses"
   ]
  },
  {
   "cell_type": "code",
   "execution_count": 61,
   "metadata": {},
   "outputs": [
    {
     "data": {
      "image/png": "[encoded data removed]",
      "text/plain": [
       "<Figure size 432x288 with 1 Axes>"
      ]
     },
     "metadata": {},
     "output_type": "display_data"
    }
   ],
   "source": [
    "train_loss_2 = history2.history['loss']\n",
    "val_loss_2 = history2.history['val_loss']\n",
    "plt.plot(train_loss_2, label='train loss', c='orange')\n",
    "plt.plot(val_loss_2, label='val loss', c='blue')\n",
    "plt.legend(loc='best')\n",
    "plt.show()"
   ]
  },
  {
   "cell_type": "markdown",
   "metadata": {},
   "source": [
    "### 5.4 Precition on test dataset"
   ]
  },
  {
   "cell_type": "code",
   "execution_count": 62,
   "metadata": {},
   "outputs": [],
   "source": [
    "test_prediction_2 = []\n",
    "test_actual = []\n",
    "for x, y in dataset_test:\n",
    "    test_actual.append(y[0][0])\n",
    "    predict_res = model2.predict(x)[0][0]\n",
    "    test_prediction_2.append(predict_res)\n",
    "test_prediction_2 = np.array(test_prediction_2)\n",
    "test_actual = np.array(test_actual)"
   ]
  },
  {
   "cell_type": "markdown",
   "metadata": {},
   "source": [
    "### 5.5 Evaluation"
   ]
  },
  {
   "cell_type": "code",
   "execution_count": 63,
   "metadata": {},
   "outputs": [
    {
     "name": "stdout",
     "output_type": "stream",
     "text": [
      "result evaluation\n",
      "RMSE:  0.03961376568567393\n",
      "MAPE:  0.037094111012655195\n",
      "MAE:   0.03228123012754941\n"
     ]
    }
   ],
   "source": [
    "rmse2 = mean_squared_error(test_actual, test_prediction_2, squared=False)\n",
    "mape2 = mean_absolute_percentage_error(test_actual, test_prediction_2)\n",
    "mae2 = mean_absolute_error(test_actual, test_prediction_2)\n",
    "\n",
    "print('result evaluation')\n",
    "print('RMSE: ', rmse2)\n",
    "print('MAPE: ', mape2)\n",
    "print('MAE:  ', mae2)"
   ]
  },
  {
   "cell_type": "code",
   "execution_count": 64,
   "metadata": {},
   "outputs": [
    {
     "data": {
      "image/png": "[encoded data removed]",
      "text/plain": [
       "<Figure size 1440x432 with 1 Axes>"
      ]
     },
     "metadata": {},
     "output_type": "display_data"
    }
   ],
   "source": [
    "x_axis = [x for x in range(test_actual.shape[0])]\n",
    "plt.figure(figsize=(20,6))\n",
    "\n",
    "sns.lineplot(x=x_axis, y=test_actual, label='actual close price', linewidth=2)\n",
    "sns.lineplot(x=x_axis, y=test_prediction_2, label='predicted close price', linewidth=2)\n",
    "plt.legend()\n",
    "plt.show()"
   ]
  },
  {
   "cell_type": "markdown",
   "metadata": {},
   "source": [
    "## 6. Experiment result summary"
   ]
  },
  {
   "cell_type": "code",
   "execution_count": 65,
   "metadata": {},
   "outputs": [
    {
     "data": {
      "text/html": [
       "<div>\n",
       "<style scoped>\n",
       "    .dataframe tbody tr th:only-of-type {\n",
       "        vertical-align: middle;\n",
       "    }\n",
       "\n",
       "    .dataframe tbody tr th {\n",
       "        vertical-align: top;\n",
       "    }\n",
       "\n",
       "    .dataframe thead th {\n",
       "        text-align: right;\n",
       "    }\n",
       "</style>\n",
       "<table border=\"1\" class=\"dataframe\">\n",
       "  <thead>\n",
       "    <tr style=\"text-align: right;\">\n",
       "      <th></th>\n",
       "      <th>LSTM(dim=126)</th>\n",
       "      <th>LSTM(dim=80)</th>\n",
       "    </tr>\n",
       "    <tr>\n",
       "      <th>metrics</th>\n",
       "      <th></th>\n",
       "      <th></th>\n",
       "    </tr>\n",
       "  </thead>\n",
       "  <tbody>\n",
       "    <tr>\n",
       "      <th>RMSE</th>\n",
       "      <td>0.051915</td>\n",
       "      <td>0.039614</td>\n",
       "    </tr>\n",
       "    <tr>\n",
       "      <th>MAE</th>\n",
       "      <td>0.021421</td>\n",
       "      <td>0.032281</td>\n",
       "    </tr>\n",
       "    <tr>\n",
       "      <th>MAPE</th>\n",
       "      <td>0.024452</td>\n",
       "      <td>0.037094</td>\n",
       "    </tr>\n",
       "  </tbody>\n",
       "</table>\n",
       "</div>"
      ],
      "text/plain": [
       "         LSTM(dim=126)  LSTM(dim=80)\n",
       "metrics                             \n",
       "RMSE          0.051915      0.039614\n",
       "MAE           0.021421      0.032281\n",
       "MAPE          0.024452      0.037094"
      ]
     },
     "execution_count": 65,
     "metadata": {},
     "output_type": "execute_result"
    }
   ],
   "source": [
    "results = {\"metrics\": ['RMSE', 'MAE', 'MAPE'], \n",
    "           \"LSTM(dim=126)\": [rmse1, mae1, mape1], \n",
    "           \"LSTM(dim=80)\": [rmse2, mae2, mape2]}\n",
    "result = pd.DataFrame(results, columns=['metrics', 'LSTM(dim=126)', 'LSTM(dim=80)'])\n",
    "result = result.set_index('metrics', drop=True)\n",
    "result"
   ]
  },
  {
   "cell_type": "code",
   "execution_count": 66,
   "metadata": {},
   "outputs": [
    {
     "data": {
      "image/png": "[encoded data removed]",
      "text/plain": [
       "<Figure size 1440x432 with 1 Axes>"
      ]
     },
     "metadata": {},
     "output_type": "display_data"
    }
   ],
   "source": [
    "x_axis = [x for x in range(test_actual.shape[0])]\n",
    "plt.figure(figsize=(20,6))\n",
    "\n",
    "sns.lineplot(x=x_axis, y=test_actual, label='actual close price', linewidth=2)\n",
    "sns.lineplot(x=x_axis, y=test_prediction_1, label='predicted close price (126 indicators)', linewidth=2)\n",
    "sns.lineplot(x=x_axis, y=test_prediction_2, label='predicted close price (80 dimensions)', linewidth=2)\n",
    "plt.legend(loc=2)\n",
    "plt.show()\n",
    "\n",
    "## AUD_USD_1H\n",
    "## EUR_GBP_1H"
   ]
  },
  {
   "cell_type": "code",
   "execution_count": null,
   "metadata": {},
   "outputs": [],
   "source": []
  }
 ],
 "metadata": {
  "kernelspec": {
   "display_name": "Python 3",
   "language": "python",
   "name": "python3"
  },
  "language_info": {
   "codemirror_mode": {
    "name": "ipython",
    "version": 3
   },
   "file_extension": ".py",
   "mimetype": "text/x-python",
   "name": "python",
   "nbconvert_exporter": "python",
   "pygments_lexer": "ipython3",
   "version": "3.8.3"
  },
  "toc": {
   "base_numbering": 1,
   "nav_menu": {},
   "number_sections": false,
   "sideBar": true,
   "skip_h1_title": false,
   "title_cell": "Table of Contents",
   "title_sidebar": "Contents",
   "toc_cell": false,
   "toc_position": {},
   "toc_section_display": true,
   "toc_window_display": true
  }
 },
 "nbformat": 4,
 "nbformat_minor": 4
}
