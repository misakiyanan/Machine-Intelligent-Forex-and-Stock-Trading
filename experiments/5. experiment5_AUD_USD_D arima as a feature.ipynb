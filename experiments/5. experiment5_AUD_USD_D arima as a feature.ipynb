{
 "cells": [
  {
   "cell_type": "markdown",
   "metadata": {},
   "source": [
    "Implementation of LSTM Model on AUD_USD_D prediction of the close price 1 hour ahead based on data of previous 10 hours\n",
    "\n",
    "## 1. Data Preparation\n",
    "\n",
    "### 1.1 Read in data file"
   ]
  },
  {
   "cell_type": "code",
   "execution_count": 1,
   "metadata": {},
   "outputs": [],
   "source": [
    "import talib as ta\n",
    "\n",
    "import pandas as pd\n",
    "import numpy as np\n",
    "\n",
    "import seaborn as sns\n",
    "import matplotlib.pyplot as plt\n",
    "\n",
    "from sklearn.preprocessing import MinMaxScaler\n",
    "\n",
    "from utils import series_to_supervised"
   ]
  },
  {
   "cell_type": "code",
   "execution_count": 2,
   "metadata": {
    "scrolled": true
   },
   "outputs": [
    {
     "data": {
      "text/html": [
       "<div>\n",
       "<style scoped>\n",
       "    .dataframe tbody tr th:only-of-type {\n",
       "        vertical-align: middle;\n",
       "    }\n",
       "\n",
       "    .dataframe tbody tr th {\n",
       "        vertical-align: top;\n",
       "    }\n",
       "\n",
       "    .dataframe thead th {\n",
       "        text-align: right;\n",
       "    }\n",
       "</style>\n",
       "<table border=\"1\" class=\"dataframe\">\n",
       "  <thead>\n",
       "    <tr style=\"text-align: right;\">\n",
       "      <th></th>\n",
       "      <th>datetime</th>\n",
       "      <th>open</th>\n",
       "      <th>high</th>\n",
       "      <th>low</th>\n",
       "      <th>close</th>\n",
       "    </tr>\n",
       "  </thead>\n",
       "  <tbody>\n",
       "    <tr>\n",
       "      <th>0</th>\n",
       "      <td>2005-01-01T22:00:00.000000000Z</td>\n",
       "      <td>0.78230</td>\n",
       "      <td>0.78280</td>\n",
       "      <td>0.78060</td>\n",
       "      <td>0.78060</td>\n",
       "    </tr>\n",
       "    <tr>\n",
       "      <th>1</th>\n",
       "      <td>2005-01-02T22:00:00.000000000Z</td>\n",
       "      <td>0.78070</td>\n",
       "      <td>0.78390</td>\n",
       "      <td>0.77265</td>\n",
       "      <td>0.77835</td>\n",
       "    </tr>\n",
       "    <tr>\n",
       "      <th>2</th>\n",
       "      <td>2005-01-03T22:00:00.000000000Z</td>\n",
       "      <td>0.77835</td>\n",
       "      <td>0.78015</td>\n",
       "      <td>0.76360</td>\n",
       "      <td>0.76490</td>\n",
       "    </tr>\n",
       "    <tr>\n",
       "      <th>3</th>\n",
       "      <td>2005-01-04T22:00:00.000000000Z</td>\n",
       "      <td>0.76500</td>\n",
       "      <td>0.76840</td>\n",
       "      <td>0.75940</td>\n",
       "      <td>0.76480</td>\n",
       "    </tr>\n",
       "    <tr>\n",
       "      <th>4</th>\n",
       "      <td>2005-01-05T22:00:00.000000000Z</td>\n",
       "      <td>0.76480</td>\n",
       "      <td>0.76510</td>\n",
       "      <td>0.75770</td>\n",
       "      <td>0.76080</td>\n",
       "    </tr>\n",
       "    <tr>\n",
       "      <th>...</th>\n",
       "      <td>...</td>\n",
       "      <td>...</td>\n",
       "      <td>...</td>\n",
       "      <td>...</td>\n",
       "      <td>...</td>\n",
       "    </tr>\n",
       "    <tr>\n",
       "      <th>4815</th>\n",
       "      <td>2021-02-21T22:00:00.000000000Z</td>\n",
       "      <td>0.78715</td>\n",
       "      <td>0.79292</td>\n",
       "      <td>0.78554</td>\n",
       "      <td>0.79162</td>\n",
       "    </tr>\n",
       "    <tr>\n",
       "      <th>4816</th>\n",
       "      <td>2021-02-22T22:00:00.000000000Z</td>\n",
       "      <td>0.79146</td>\n",
       "      <td>0.79347</td>\n",
       "      <td>0.78804</td>\n",
       "      <td>0.79115</td>\n",
       "    </tr>\n",
       "    <tr>\n",
       "      <th>4817</th>\n",
       "      <td>2021-02-23T22:00:00.000000000Z</td>\n",
       "      <td>0.79129</td>\n",
       "      <td>0.79732</td>\n",
       "      <td>0.78954</td>\n",
       "      <td>0.79682</td>\n",
       "    </tr>\n",
       "    <tr>\n",
       "      <th>4818</th>\n",
       "      <td>2021-02-24T22:00:00.000000000Z</td>\n",
       "      <td>0.79676</td>\n",
       "      <td>0.80072</td>\n",
       "      <td>0.78590</td>\n",
       "      <td>0.78719</td>\n",
       "    </tr>\n",
       "    <tr>\n",
       "      <th>4819</th>\n",
       "      <td>2021-02-25T22:00:00.000000000Z</td>\n",
       "      <td>0.78798</td>\n",
       "      <td>0.78835</td>\n",
       "      <td>0.76924</td>\n",
       "      <td>0.77038</td>\n",
       "    </tr>\n",
       "  </tbody>\n",
       "</table>\n",
       "<p>4820 rows × 5 columns</p>\n",
       "</div>"
      ],
      "text/plain": [
       "                            datetime     open     high      low    close\n",
       "0     2005-01-01T22:00:00.000000000Z  0.78230  0.78280  0.78060  0.78060\n",
       "1     2005-01-02T22:00:00.000000000Z  0.78070  0.78390  0.77265  0.77835\n",
       "2     2005-01-03T22:00:00.000000000Z  0.77835  0.78015  0.76360  0.76490\n",
       "3     2005-01-04T22:00:00.000000000Z  0.76500  0.76840  0.75940  0.76480\n",
       "4     2005-01-05T22:00:00.000000000Z  0.76480  0.76510  0.75770  0.76080\n",
       "...                              ...      ...      ...      ...      ...\n",
       "4815  2021-02-21T22:00:00.000000000Z  0.78715  0.79292  0.78554  0.79162\n",
       "4816  2021-02-22T22:00:00.000000000Z  0.79146  0.79347  0.78804  0.79115\n",
       "4817  2021-02-23T22:00:00.000000000Z  0.79129  0.79732  0.78954  0.79682\n",
       "4818  2021-02-24T22:00:00.000000000Z  0.79676  0.80072  0.78590  0.78719\n",
       "4819  2021-02-25T22:00:00.000000000Z  0.78798  0.78835  0.76924  0.77038\n",
       "\n",
       "[4820 rows x 5 columns]"
      ]
     },
     "execution_count": 2,
     "metadata": {},
     "output_type": "execute_result"
    }
   ],
   "source": [
    "data = pd.read_csv('../data/AUD_USD_D.csv')\n",
    "data"
   ]
  },
  {
   "cell_type": "markdown",
   "metadata": {},
   "source": [
    "### 1.2 Datetime formatting"
   ]
  },
  {
   "cell_type": "code",
   "execution_count": 3,
   "metadata": {},
   "outputs": [
    {
     "data": {
      "text/html": [
       "<div>\n",
       "<style scoped>\n",
       "    .dataframe tbody tr th:only-of-type {\n",
       "        vertical-align: middle;\n",
       "    }\n",
       "\n",
       "    .dataframe tbody tr th {\n",
       "        vertical-align: top;\n",
       "    }\n",
       "\n",
       "    .dataframe thead th {\n",
       "        text-align: right;\n",
       "    }\n",
       "</style>\n",
       "<table border=\"1\" class=\"dataframe\">\n",
       "  <thead>\n",
       "    <tr style=\"text-align: right;\">\n",
       "      <th></th>\n",
       "      <th>open</th>\n",
       "      <th>high</th>\n",
       "      <th>low</th>\n",
       "      <th>close</th>\n",
       "    </tr>\n",
       "    <tr>\n",
       "      <th>datetime</th>\n",
       "      <th></th>\n",
       "      <th></th>\n",
       "      <th></th>\n",
       "      <th></th>\n",
       "    </tr>\n",
       "  </thead>\n",
       "  <tbody>\n",
       "    <tr>\n",
       "      <th>2005-01-01</th>\n",
       "      <td>0.78230</td>\n",
       "      <td>0.78280</td>\n",
       "      <td>0.78060</td>\n",
       "      <td>0.78060</td>\n",
       "    </tr>\n",
       "    <tr>\n",
       "      <th>2005-01-02</th>\n",
       "      <td>0.78070</td>\n",
       "      <td>0.78390</td>\n",
       "      <td>0.77265</td>\n",
       "      <td>0.77835</td>\n",
       "    </tr>\n",
       "    <tr>\n",
       "      <th>2005-01-03</th>\n",
       "      <td>0.77835</td>\n",
       "      <td>0.78015</td>\n",
       "      <td>0.76360</td>\n",
       "      <td>0.76490</td>\n",
       "    </tr>\n",
       "    <tr>\n",
       "      <th>2005-01-04</th>\n",
       "      <td>0.76500</td>\n",
       "      <td>0.76840</td>\n",
       "      <td>0.75940</td>\n",
       "      <td>0.76480</td>\n",
       "    </tr>\n",
       "    <tr>\n",
       "      <th>2005-01-05</th>\n",
       "      <td>0.76480</td>\n",
       "      <td>0.76510</td>\n",
       "      <td>0.75770</td>\n",
       "      <td>0.76080</td>\n",
       "    </tr>\n",
       "    <tr>\n",
       "      <th>...</th>\n",
       "      <td>...</td>\n",
       "      <td>...</td>\n",
       "      <td>...</td>\n",
       "      <td>...</td>\n",
       "    </tr>\n",
       "    <tr>\n",
       "      <th>2021-02-21</th>\n",
       "      <td>0.78715</td>\n",
       "      <td>0.79292</td>\n",
       "      <td>0.78554</td>\n",
       "      <td>0.79162</td>\n",
       "    </tr>\n",
       "    <tr>\n",
       "      <th>2021-02-22</th>\n",
       "      <td>0.79146</td>\n",
       "      <td>0.79347</td>\n",
       "      <td>0.78804</td>\n",
       "      <td>0.79115</td>\n",
       "    </tr>\n",
       "    <tr>\n",
       "      <th>2021-02-23</th>\n",
       "      <td>0.79129</td>\n",
       "      <td>0.79732</td>\n",
       "      <td>0.78954</td>\n",
       "      <td>0.79682</td>\n",
       "    </tr>\n",
       "    <tr>\n",
       "      <th>2021-02-24</th>\n",
       "      <td>0.79676</td>\n",
       "      <td>0.80072</td>\n",
       "      <td>0.78590</td>\n",
       "      <td>0.78719</td>\n",
       "    </tr>\n",
       "    <tr>\n",
       "      <th>2021-02-25</th>\n",
       "      <td>0.78798</td>\n",
       "      <td>0.78835</td>\n",
       "      <td>0.76924</td>\n",
       "      <td>0.77038</td>\n",
       "    </tr>\n",
       "  </tbody>\n",
       "</table>\n",
       "<p>4820 rows × 4 columns</p>\n",
       "</div>"
      ],
      "text/plain": [
       "               open     high      low    close\n",
       "datetime                                      \n",
       "2005-01-01  0.78230  0.78280  0.78060  0.78060\n",
       "2005-01-02  0.78070  0.78390  0.77265  0.77835\n",
       "2005-01-03  0.77835  0.78015  0.76360  0.76490\n",
       "2005-01-04  0.76500  0.76840  0.75940  0.76480\n",
       "2005-01-05  0.76480  0.76510  0.75770  0.76080\n",
       "...             ...      ...      ...      ...\n",
       "2021-02-21  0.78715  0.79292  0.78554  0.79162\n",
       "2021-02-22  0.79146  0.79347  0.78804  0.79115\n",
       "2021-02-23  0.79129  0.79732  0.78954  0.79682\n",
       "2021-02-24  0.79676  0.80072  0.78590  0.78719\n",
       "2021-02-25  0.78798  0.78835  0.76924  0.77038\n",
       "\n",
       "[4820 rows x 4 columns]"
      ]
     },
     "execution_count": 3,
     "metadata": {},
     "output_type": "execute_result"
    }
   ],
   "source": [
    "data['datetime'] = pd.to_datetime(data['datetime'])\n",
    "data['datetime'] = data['datetime'].dt.date\n",
    "# data['datetime'] = data['datetime'].dt.tz_localize(None)\n",
    "data.set_index('datetime', inplace=True)\n",
    "data"
   ]
  },
  {
   "cell_type": "markdown",
   "metadata": {},
   "source": [
    "## 2. Add Arima as feature"
   ]
  },
  {
   "cell_type": "code",
   "execution_count": 4,
   "metadata": {},
   "outputs": [
    {
     "name": "stderr",
     "output_type": "stream",
     "text": [
      "/opt/anaconda3/lib/python3.8/site-packages/statsmodels/base/model.py:567: ConvergenceWarning: Maximum Likelihood optimization failed to converge. Check mle_retvals\n",
      "  warn(\"Maximum Likelihood optimization failed to converge. \"\n",
      "/opt/anaconda3/lib/python3.8/site-packages/statsmodels/base/model.py:547: HessianInversionWarning: Inverting hessian failed, no bse or cov_params available\n",
      "  warn('Inverting hessian failed, no bse or cov_params '\n",
      "/opt/anaconda3/lib/python3.8/site-packages/statsmodels/base/model.py:567: ConvergenceWarning: Maximum Likelihood optimization failed to converge. Check mle_retvals\n",
      "  warn(\"Maximum Likelihood optimization failed to converge. \"\n",
      "/opt/anaconda3/lib/python3.8/site-packages/statsmodels/base/model.py:547: HessianInversionWarning: Inverting hessian failed, no bse or cov_params available\n",
      "  warn('Inverting hessian failed, no bse or cov_params '\n"
     ]
    },
    {
     "name": "stdout",
     "output_type": "stream",
     "text": [
      "(4, 5)\n"
     ]
    }
   ],
   "source": [
    "from statsmodels.tsa.arima_model import ARIMA\n",
    "import statsmodels.tsa.stattools as st \n",
    "order = st.arma_order_select_ic(data['close'],max_ar=5,max_ma=5,ic=['aic'])\n",
    "print(order.aic_min_order)"
   ]
  },
  {
   "cell_type": "code",
   "execution_count": 5,
   "metadata": {},
   "outputs": [
    {
     "name": "stderr",
     "output_type": "stream",
     "text": [
      "/opt/anaconda3/lib/python3.8/site-packages/statsmodels/tsa/base/tsa_model.py:216: ValueWarning: A date index has been provided, but it has no associated frequency information and so will be ignored when e.g. forecasting.\n",
      "  warnings.warn('A date index has been provided, but it has no'\n",
      "/opt/anaconda3/lib/python3.8/site-packages/statsmodels/tsa/base/tsa_model.py:216: ValueWarning: A date index has been provided, but it has no associated frequency information and so will be ignored when e.g. forecasting.\n",
      "  warnings.warn('A date index has been provided, but it has no'\n",
      "/opt/anaconda3/lib/python3.8/site-packages/statsmodels/base/model.py:567: ConvergenceWarning: Maximum Likelihood optimization failed to converge. Check mle_retvals\n",
      "  warn(\"Maximum Likelihood optimization failed to converge. \"\n"
     ]
    }
   ],
   "source": [
    "from statsmodels.tsa.arima_model import ARIMA\n",
    "\n",
    "p,q = order.aic_min_order[0], order.aic_min_order[1]\n",
    "\n",
    "model_AIC = ARIMA(data['close'], order=(p, 1, q))\n",
    "results_AIC_ARIMA = model_AIC.fit(disp=-1)"
   ]
  },
  {
   "cell_type": "code",
   "execution_count": 6,
   "metadata": {},
   "outputs": [],
   "source": [
    "# Get Fitted Series\n",
    "fitted_AIC = results_AIC_ARIMA.predict(typ = 'levels', dynamic = False)"
   ]
  },
  {
   "cell_type": "code",
   "execution_count": 7,
   "metadata": {},
   "outputs": [
    {
     "data": {
      "image/png": "[encoded data removed]",
      "text/plain": [
       "<Figure size 432x288 with 1 Axes>"
      ]
     },
     "metadata": {
      "needs_background": "light"
     },
     "output_type": "display_data"
    }
   ],
   "source": [
    "# Actual vs Fitted\n",
    "# plt.figure(figsize=(20,6))\n",
    "\n",
    "results_AIC_ARIMA.plot_predict(dynamic=False)\n",
    "plt.show()"
   ]
  },
  {
   "cell_type": "code",
   "execution_count": 8,
   "metadata": {},
   "outputs": [],
   "source": [
    "# data['arima'] = fitted_AIC"
   ]
  },
  {
   "cell_type": "code",
   "execution_count": 9,
   "metadata": {},
   "outputs": [],
   "source": [
    "res_list = [np.nan]\n",
    "# fitted_AIC.tolist()\n",
    "res_list.extend(fitted_AIC.tolist())\n",
    "data['arima'] = res_list"
   ]
  },
  {
   "cell_type": "code",
   "execution_count": 13,
   "metadata": {},
   "outputs": [],
   "source": [
    "data = data[['close', 'arima']]"
   ]
  },
  {
   "cell_type": "code",
   "execution_count": 16,
   "metadata": {},
   "outputs": [
    {
     "name": "stderr",
     "output_type": "stream",
     "text": [
      "<ipython-input-16-1edeb318a43a>:1: SettingWithCopyWarning: \n",
      "A value is trying to be set on a copy of a slice from a DataFrame\n",
      "\n",
      "See the caveats in the documentation: https://pandas.pydata.org/pandas-docs/stable/user_guide/indexing.html#returning-a-view-versus-a-copy\n",
      "  data.dropna(axis=0, inplace=True)\n"
     ]
    }
   ],
   "source": [
    "data.dropna(axis=0, inplace=True)"
   ]
  },
  {
   "cell_type": "code",
   "execution_count": 18,
   "metadata": {},
   "outputs": [],
   "source": [
    "data.reset_index(inplace=True, drop=True)"
   ]
  },
  {
   "cell_type": "code",
   "execution_count": 22,
   "metadata": {},
   "outputs": [
    {
     "data": {
      "text/html": [
       "<div>\n",
       "<style scoped>\n",
       "    .dataframe tbody tr th:only-of-type {\n",
       "        vertical-align: middle;\n",
       "    }\n",
       "\n",
       "    .dataframe tbody tr th {\n",
       "        vertical-align: top;\n",
       "    }\n",
       "\n",
       "    .dataframe thead th {\n",
       "        text-align: right;\n",
       "    }\n",
       "</style>\n",
       "<table border=\"1\" class=\"dataframe\">\n",
       "  <thead>\n",
       "    <tr style=\"text-align: right;\">\n",
       "      <th></th>\n",
       "      <th>close</th>\n",
       "      <th>arima</th>\n",
       "    </tr>\n",
       "  </thead>\n",
       "  <tbody>\n",
       "    <tr>\n",
       "      <th>0</th>\n",
       "      <td>0.77835</td>\n",
       "      <td>0.780598</td>\n",
       "    </tr>\n",
       "    <tr>\n",
       "      <th>1</th>\n",
       "      <td>0.76490</td>\n",
       "      <td>0.778425</td>\n",
       "    </tr>\n",
       "    <tr>\n",
       "      <th>2</th>\n",
       "      <td>0.76480</td>\n",
       "      <td>0.765258</td>\n",
       "    </tr>\n",
       "    <tr>\n",
       "      <th>3</th>\n",
       "      <td>0.76080</td>\n",
       "      <td>0.764286</td>\n",
       "    </tr>\n",
       "    <tr>\n",
       "      <th>4</th>\n",
       "      <td>0.75750</td>\n",
       "      <td>0.760864</td>\n",
       "    </tr>\n",
       "    <tr>\n",
       "      <th>...</th>\n",
       "      <td>...</td>\n",
       "      <td>...</td>\n",
       "    </tr>\n",
       "    <tr>\n",
       "      <th>4814</th>\n",
       "      <td>0.79162</td>\n",
       "      <td>0.786748</td>\n",
       "    </tr>\n",
       "    <tr>\n",
       "      <th>4815</th>\n",
       "      <td>0.79115</td>\n",
       "      <td>0.791937</td>\n",
       "    </tr>\n",
       "    <tr>\n",
       "      <th>4816</th>\n",
       "      <td>0.79682</td>\n",
       "      <td>0.791148</td>\n",
       "    </tr>\n",
       "    <tr>\n",
       "      <th>4817</th>\n",
       "      <td>0.78719</td>\n",
       "      <td>0.796898</td>\n",
       "    </tr>\n",
       "    <tr>\n",
       "      <th>4818</th>\n",
       "      <td>0.77038</td>\n",
       "      <td>0.787362</td>\n",
       "    </tr>\n",
       "  </tbody>\n",
       "</table>\n",
       "<p>4819 rows × 2 columns</p>\n",
       "</div>"
      ],
      "text/plain": [
       "        close     arima\n",
       "0     0.77835  0.780598\n",
       "1     0.76490  0.778425\n",
       "2     0.76480  0.765258\n",
       "3     0.76080  0.764286\n",
       "4     0.75750  0.760864\n",
       "...       ...       ...\n",
       "4814  0.79162  0.786748\n",
       "4815  0.79115  0.791937\n",
       "4816  0.79682  0.791148\n",
       "4817  0.78719  0.796898\n",
       "4818  0.77038  0.787362\n",
       "\n",
       "[4819 rows x 2 columns]"
      ]
     },
     "execution_count": 22,
     "metadata": {},
     "output_type": "execute_result"
    }
   ],
   "source": [
    "data"
   ]
  },
  {
   "cell_type": "markdown",
   "metadata": {},
   "source": [
    "## 3. Data Processing"
   ]
  },
  {
   "cell_type": "code",
   "execution_count": 70,
   "metadata": {},
   "outputs": [],
   "source": [
    "train_split_frac = 0.8\n",
    "val_split_frac = 0.9\n",
    "\n",
    "train_split = int(train_split_frac * int(data.shape[0]))  ## end of train index (exclusive)\n",
    "val_split = int(val_split_frac * int(data.shape[0]))      ## end of val index (exclusive)"
   ]
  },
  {
   "cell_type": "code",
   "execution_count": 71,
   "metadata": {},
   "outputs": [],
   "source": [
    "step = 1\n",
    "past = 10\n",
    "future = 1\n",
    "learning_rate = 0.00001\n",
    "batch_size = 1\n",
    "epochs = 1000\n",
    "\n",
    "y = data[['close']]"
   ]
  },
  {
   "cell_type": "code",
   "execution_count": 72,
   "metadata": {},
   "outputs": [],
   "source": [
    "training_data = data[: train_split].values\n",
    "validation_data = data[train_split: val_split].values\n",
    "test_data = data[val_split:].values"
   ]
  },
  {
   "cell_type": "code",
   "execution_count": 73,
   "metadata": {},
   "outputs": [
    {
     "name": "stdout",
     "output_type": "stream",
     "text": [
      "Shape of training_data:    (3855, 2)\n",
      "Shape of validation_data:  (482, 2)\n",
      "Shape of test_data:        (482, 2)\n"
     ]
    }
   ],
   "source": [
    "print('Shape of training_data:   ', training_data.shape)\n",
    "print('Shape of validation_data: ', validation_data.shape)\n",
    "print('Shape of test_data:       ', test_data.shape)"
   ]
  },
  {
   "cell_type": "code",
   "execution_count": 74,
   "metadata": {},
   "outputs": [
    {
     "data": {
      "text/plain": [
       "array([[0.77835   , 0.78059772],\n",
       "       [0.7649    , 0.77842473],\n",
       "       [0.7648    , 0.7652577 ],\n",
       "       ...,\n",
       "       [0.75477   , 0.7548991 ],\n",
       "       [0.753     , 0.75493899],\n",
       "       [0.75416   , 0.75309478]])"
      ]
     },
     "execution_count": 74,
     "metadata": {},
     "output_type": "execute_result"
    }
   ],
   "source": [
    "training_data\n"
   ]
  },
  {
   "cell_type": "markdown",
   "metadata": {},
   "source": [
    "### 3.1 Training dataset"
   ]
  },
  {
   "cell_type": "code",
   "execution_count": 75,
   "metadata": {},
   "outputs": [],
   "source": [
    "train_y_start = past + future\n",
    "train_y_end = train_y_start + train_split"
   ]
  },
  {
   "cell_type": "code",
   "execution_count": 76,
   "metadata": {},
   "outputs": [],
   "source": [
    "x_train = training_data\n",
    "y_train = y.iloc[train_y_start: train_y_end].values"
   ]
  },
  {
   "cell_type": "code",
   "execution_count": 77,
   "metadata": {},
   "outputs": [],
   "source": [
    "sequence_length = int(past / step)"
   ]
  },
  {
   "cell_type": "code",
   "execution_count": 78,
   "metadata": {},
   "outputs": [],
   "source": [
    "import tensorflow as tf\n",
    "from tensorflow import keras\n",
    "\n",
    "dataset_train = keras.preprocessing.timeseries_dataset_from_array(\n",
    "    x_train,\n",
    "    y_train,\n",
    "    sequence_length=sequence_length,\n",
    "    sampling_rate=step,\n",
    "    batch_size=batch_size,\n",
    ")"
   ]
  },
  {
   "cell_type": "markdown",
   "metadata": {},
   "source": [
    "### 3.2 Validation dataset"
   ]
  },
  {
   "cell_type": "code",
   "execution_count": 79,
   "metadata": {},
   "outputs": [],
   "source": [
    "val_y_start = train_y_end\n",
    "val_y_end = train_y_start + val_split"
   ]
  },
  {
   "cell_type": "code",
   "execution_count": 80,
   "metadata": {},
   "outputs": [],
   "source": [
    "x_val = validation_data\n",
    "y_val = y.iloc[val_y_start: val_y_end].values"
   ]
  },
  {
   "cell_type": "code",
   "execution_count": 81,
   "metadata": {},
   "outputs": [],
   "source": [
    "dataset_val = keras.preprocessing.timeseries_dataset_from_array(\n",
    "    x_val,\n",
    "    y_val,\n",
    "    sequence_length=sequence_length,\n",
    "    sampling_rate=step,\n",
    "    batch_size=batch_size,\n",
    ")"
   ]
  },
  {
   "cell_type": "markdown",
   "metadata": {},
   "source": [
    "### 3.3 Test dataset"
   ]
  },
  {
   "cell_type": "code",
   "execution_count": 82,
   "metadata": {},
   "outputs": [],
   "source": [
    "x_end = len(test_data) - past - future"
   ]
  },
  {
   "cell_type": "code",
   "execution_count": 83,
   "metadata": {},
   "outputs": [],
   "source": [
    "test_y_start = val_y_end"
   ]
  },
  {
   "cell_type": "code",
   "execution_count": 84,
   "metadata": {},
   "outputs": [],
   "source": [
    "x_test = test_data[: x_end]\n",
    "y_test = y.iloc[test_y_start: ].values"
   ]
  },
  {
   "cell_type": "code",
   "execution_count": 85,
   "metadata": {},
   "outputs": [],
   "source": [
    "dataset_test = keras.preprocessing.timeseries_dataset_from_array(\n",
    "    x_test,\n",
    "    y_test,\n",
    "    sequence_length=sequence_length,\n",
    "    sampling_rate=step,\n",
    "    batch_size=1,\n",
    ")"
   ]
  },
  {
   "cell_type": "markdown",
   "metadata": {},
   "source": [
    "### 3.4 Input and output shape"
   ]
  },
  {
   "cell_type": "code",
   "execution_count": 86,
   "metadata": {},
   "outputs": [
    {
     "name": "stdout",
     "output_type": "stream",
     "text": [
      "Input shape: (1, 10, 2)\n",
      "Target shape: (1, 1)\n"
     ]
    }
   ],
   "source": [
    "for batch in dataset_train.take(1):\n",
    "    inputs, targets = batch\n",
    "\n",
    "print(\"Input shape:\", inputs.numpy().shape)\n",
    "print(\"Target shape:\", targets.numpy().shape)"
   ]
  },
  {
   "cell_type": "markdown",
   "metadata": {},
   "source": [
    "## 4. Experiment 1: Prediction with arima result as feature"
   ]
  },
  {
   "cell_type": "code",
   "execution_count": 87,
   "metadata": {},
   "outputs": [],
   "source": [
    "from tensorflow.keras.models import Sequential\n",
    "from tensorflow.keras.layers import Dense, LSTM\n",
    "import keras"
   ]
  },
  {
   "cell_type": "code",
   "execution_count": 88,
   "metadata": {},
   "outputs": [
    {
     "name": "stdout",
     "output_type": "stream",
     "text": [
      "Model: \"model_2\"\n",
      "_________________________________________________________________\n",
      "Layer (type)                 Output Shape              Param #   \n",
      "=================================================================\n",
      "input_3 (InputLayer)         [(None, 10, 2)]           0         \n",
      "_________________________________________________________________\n",
      "lstm_2 (LSTM)                (None, 200)               162400    \n",
      "_________________________________________________________________\n",
      "dense_2 (Dense)              (None, 1)                 201       \n",
      "=================================================================\n",
      "Total params: 162,601\n",
      "Trainable params: 162,601\n",
      "Non-trainable params: 0\n",
      "_________________________________________________________________\n"
     ]
    }
   ],
   "source": [
    "inputs = keras.layers.Input(shape=(inputs.shape[1], inputs.shape[2]))\n",
    "lstm_out = keras.layers.LSTM(200)(inputs)\n",
    "outputs = keras.layers.Dense(1)(lstm_out)\n",
    "\n",
    "model1 = keras.Model(inputs=inputs, outputs=outputs)\n",
    "model1.compile(optimizer=keras.optimizers.Adam(learning_rate=learning_rate), loss=\"mse\")\n",
    "model1.summary()"
   ]
  },
  {
   "cell_type": "code",
   "execution_count": 94,
   "metadata": {},
   "outputs": [
    {
     "name": "stdout",
     "output_type": "stream",
     "text": [
      "Epoch 1/1000\n",
      "3846/3846 [==============================] - 24s 6ms/step - loss: 1.8658e-04 - val_loss: 1.4980e-04\n",
      "\n",
      "Epoch 00001: val_loss improved from inf to 0.00015, saving model to model_checkpoint_arima_1.h5\n",
      "Epoch 2/1000\n",
      "3846/3846 [==============================] - 24s 6ms/step - loss: 1.8450e-04 - val_loss: 1.5415e-04\n",
      "\n",
      "Epoch 00002: val_loss did not improve from 0.00015\n",
      "Epoch 3/1000\n",
      "3846/3846 [==============================] - 24s 6ms/step - loss: 1.8269e-04 - val_loss: 1.5846e-04\n",
      "\n",
      "Epoch 00003: val_loss did not improve from 0.00015\n",
      "Epoch 4/1000\n",
      "3846/3846 [==============================] - 25s 6ms/step - loss: 1.8102e-04 - val_loss: 1.6270e-04\n",
      "\n",
      "Epoch 00004: val_loss did not improve from 0.00015\n",
      "Epoch 5/1000\n",
      "3846/3846 [==============================] - 23s 6ms/step - loss: 1.7956e-04 - val_loss: 1.6684e-04\n",
      "\n",
      "Epoch 00005: val_loss did not improve from 0.00015\n",
      "Epoch 6/1000\n",
      "3846/3846 [==============================] - 24s 6ms/step - loss: 1.7815e-04 - val_loss: 1.7077e-04\n",
      "\n",
      "Epoch 00006: val_loss did not improve from 0.00015\n",
      "Epoch 7/1000\n",
      "3846/3846 [==============================] - 23s 6ms/step - loss: 1.7686e-04 - val_loss: 1.7452e-04\n",
      "\n",
      "Epoch 00007: val_loss did not improve from 0.00015\n",
      "Epoch 8/1000\n",
      "3846/3846 [==============================] - 23s 6ms/step - loss: 1.7561e-04 - val_loss: 1.7805e-04\n",
      "\n",
      "Epoch 00008: val_loss did not improve from 0.00015\n",
      "Epoch 9/1000\n",
      "3846/3846 [==============================] - 22s 6ms/step - loss: 1.7445e-04 - val_loss: 1.8135e-04\n",
      "\n",
      "Epoch 00009: val_loss did not improve from 0.00015\n",
      "Epoch 10/1000\n",
      "3846/3846 [==============================] - 24s 6ms/step - loss: 1.7330e-04 - val_loss: 1.8434e-04\n",
      "\n",
      "Epoch 00010: val_loss did not improve from 0.00015\n",
      "Epoch 11/1000\n",
      "3846/3846 [==============================] - 22s 6ms/step - loss: 1.7217e-04 - val_loss: 1.8711e-04\n",
      "\n",
      "Epoch 00011: val_loss did not improve from 0.00015\n",
      "Epoch 12/1000\n",
      "3846/3846 [==============================] - 24s 6ms/step - loss: 1.7105e-04 - val_loss: 1.8960e-04\n",
      "\n",
      "Epoch 00012: val_loss did not improve from 0.00015\n",
      "Epoch 13/1000\n",
      "3846/3846 [==============================] - 22s 6ms/step - loss: 1.6990e-04 - val_loss: 1.9167e-04\n",
      "\n",
      "Epoch 00013: val_loss did not improve from 0.00015\n",
      "Epoch 14/1000\n",
      "3846/3846 [==============================] - 23s 6ms/step - loss: 1.6874e-04 - val_loss: 1.9394e-04\n",
      "\n",
      "Epoch 00014: val_loss did not improve from 0.00015\n",
      "Epoch 15/1000\n",
      "3846/3846 [==============================] - 24s 6ms/step - loss: 1.6759e-04 - val_loss: 1.9595e-04\n",
      "\n",
      "Epoch 00015: val_loss did not improve from 0.00015\n",
      "Epoch 16/1000\n",
      "3846/3846 [==============================] - 23s 6ms/step - loss: 1.6642e-04 - val_loss: 1.9787e-04\n",
      "\n",
      "Epoch 00016: val_loss did not improve from 0.00015\n"
     ]
    }
   ],
   "source": [
    "path_checkpoint1 = \"model_checkpoint_arima_1.h5\"\n",
    "es_callback = keras.callbacks.EarlyStopping(monitor=\"val_loss\", min_delta=0, patience=15)\n",
    "\n",
    "modelckpt_callback = keras.callbacks.ModelCheckpoint(\n",
    "    monitor=\"val_loss\",\n",
    "    filepath=path_checkpoint1,\n",
    "    verbose=1,\n",
    "    save_weights_only=True,\n",
    "    save_best_only=True,\n",
    ")\n",
    "\n",
    "history = model1.fit(\n",
    "    dataset_train,\n",
    "    epochs=epochs,\n",
    "    validation_data=dataset_val,\n",
    "    callbacks=[es_callback, modelckpt_callback],\n",
    ")"
   ]
  },
  {
   "cell_type": "code",
   "execution_count": 95,
   "metadata": {},
   "outputs": [
    {
     "data": {
      "image/png": "[encoded data removed]",
      "text/plain": [
       "<Figure size 432x288 with 1 Axes>"
      ]
     },
     "metadata": {
      "needs_background": "light"
     },
     "output_type": "display_data"
    }
   ],
   "source": [
    "train_loss_1 = history.history['loss']\n",
    "val_loss_1 = history.history['val_loss']\n",
    "plt.plot(train_loss_1, label='train loss', c='orange')\n",
    "plt.plot(val_loss_1, label='val loss', c='blue')\n",
    "plt.legend(loc='best')\n",
    "plt.show()"
   ]
  },
  {
   "cell_type": "code",
   "execution_count": 96,
   "metadata": {},
   "outputs": [],
   "source": [
    "test_prediction_1 = []\n",
    "test_actual = []\n",
    "for x, y in dataset_test:\n",
    "    test_actual.append(y[0][0])\n",
    "    predict_res = model1.predict(x)[0][0]\n",
    "    test_prediction_1.append(predict_res)\n",
    "test_prediction_1 = np.array(test_prediction_1)\n",
    "test_actual = np.array(test_actual)"
   ]
  },
  {
   "cell_type": "code",
   "execution_count": 97,
   "metadata": {},
   "outputs": [
    {
     "name": "stdout",
     "output_type": "stream",
     "text": [
      "result evaluation\n",
      "RMSE:  0.026265707404194233\n",
      "MAPE:  0.03307194541076037\n",
      "MAE:   0.02224181480572853\n"
     ]
    }
   ],
   "source": [
    "from sklearn.metrics import mean_absolute_error, mean_squared_error, mean_absolute_percentage_error\n",
    "\n",
    "rmse1 = mean_squared_error(test_actual, test_prediction_1, squared=False)\n",
    "mape1 = mean_absolute_percentage_error(test_actual, test_prediction_1)\n",
    "mae1 = mean_absolute_error(test_actual, test_prediction_1)\n",
    "\n",
    "print('result evaluation')\n",
    "print('RMSE: ', rmse1)\n",
    "print('MAPE: ', mape1)\n",
    "print('MAE:  ', mae1)"
   ]
  },
  {
   "cell_type": "code",
   "execution_count": 99,
   "metadata": {},
   "outputs": [
    {
     "data": {
      "image/png": "[encoded data removed]",
      "text/plain": [
       "<Figure size 1440x432 with 1 Axes>"
      ]
     },
     "metadata": {
      "needs_background": "light"
     },
     "output_type": "display_data"
    }
   ],
   "source": [
    "x_axis = [x for x in range(test_actual.shape[0])]\n",
    "plt.figure(figsize=(20,6))\n",
    "\n",
    "sns.lineplot(x=x_axis, y=test_actual, label='actual close price', linewidth=2)\n",
    "sns.lineplot(x=x_axis, y=test_prediction_1, label='predicted close price', linewidth=2)\n",
    "plt.legend()\n",
    "plt.show()"
   ]
  },
  {
   "cell_type": "code",
   "execution_count": null,
   "metadata": {},
   "outputs": [],
   "source": []
  },
  {
   "cell_type": "code",
   "execution_count": null,
   "metadata": {},
   "outputs": [],
   "source": []
  }
 ],
 "metadata": {
  "kernelspec": {
   "display_name": "Python 3",
   "language": "python",
   "name": "python3"
  },
  "language_info": {
   "codemirror_mode": {
    "name": "ipython",
    "version": 3
   },
   "file_extension": ".py",
   "mimetype": "text/x-python",
   "name": "python",
   "nbconvert_exporter": "python",
   "pygments_lexer": "ipython3",
   "version": "3.8.3"
  },
  "toc": {
   "base_numbering": 1,
   "nav_menu": {},
   "number_sections": false,
   "sideBar": true,
   "skip_h1_title": false,
   "title_cell": "Table of Contents",
   "title_sidebar": "Contents",
   "toc_cell": false,
   "toc_position": {},
   "toc_section_display": true,
   "toc_window_display": true
  }
 },
 "nbformat": 4,
 "nbformat_minor": 4
}
